{
  "cells": [
    {
      "cell_type": "markdown",
      "metadata": {
        "id": "view-in-github",
        "colab_type": "text"
      },
      "source": [
        "<a href=\"https://colab.research.google.com/github/Andreher00/ml-project/blob/main/progetto.ipynb\" target=\"_parent\"><img src=\"https://colab.research.google.com/assets/colab-badge.svg\" alt=\"Open In Colab\"/></a>"
      ]
    },
    {
      "cell_type": "code",
      "execution_count": 2,
      "metadata": {
        "collapsed": true,
        "ExecuteTime": {
          "end_time": "2023-06-27T09:17:59.420855700Z",
          "start_time": "2023-06-27T09:17:54.459982400Z"
        },
        "id": "-6mpBgIVcpcL"
      },
      "outputs": [],
      "source": [
        "import numpy as np\n",
        "import pandas as pd\n",
        "import matplotlib.pyplot as plt\n",
        "from sklearn.model_selection import train_test_split"
      ]
    },
    {
      "cell_type": "code",
      "source": [
        "from google.colab import drive\n",
        "drive.mount('/content/drive')"
      ],
      "metadata": {
        "id": "shrzBW54cwCB",
        "outputId": "fe268d03-3d4f-4269-cb88-822b5e0b5aaa",
        "colab": {
          "base_uri": "https://localhost:8080/"
        }
      },
      "execution_count": 3,
      "outputs": [
        {
          "output_type": "stream",
          "name": "stdout",
          "text": [
            "Mounted at /content/drive\n"
          ]
        }
      ]
    },
    {
      "cell_type": "code",
      "execution_count": 4,
      "outputs": [],
      "source": [
        "data = pd.read_csv('/content/drive/MyDrive/progettoML/brain_counts.csv.gz')\n",
        "annotations = pd.read_csv('/content/drive/MyDrive/progettoML/brain_metadata.csv')"
      ],
      "metadata": {
        "ExecuteTime": {
          "end_time": "2023-06-27T09:20:04.178778Z",
          "start_time": "2023-06-27T09:18:03.957939900Z"
        },
        "id": "J0CK2ut5cpcP"
      }
    },
    {
      "cell_type": "code",
      "execution_count": null,
      "outputs": [
        {
          "data": {
            "text/plain": "(3401, 23434)"
          },
          "execution_count": 3,
          "metadata": {},
          "output_type": "execute_result"
        }
      ],
      "source": [
        "data.shape"
      ],
      "metadata": {
        "ExecuteTime": {
          "end_time": "2023-06-27T09:20:07.708466800Z",
          "start_time": "2023-06-27T09:20:07.627836300Z"
        },
        "id": "tA0JNV3PcpcR",
        "outputId": "9f388116-e071-43c1-e14f-7d1ee2395be5"
      }
    },
    {
      "cell_type": "code",
      "execution_count": null,
      "outputs": [
        {
          "data": {
            "text/plain": "                Unnamed: 0  0610005C13Rik  0610007C21Rik  0610007L01Rik  \\\n0    A1.B003290.3_38_F.1.1              0            125             16   \n1    A1.B003728.3_56_F.1.1              0              0              0   \n2  A1.MAA000560.3_10_M.1.1              0            348              0   \n3  A1.MAA000564.3_10_M.1.1              0             41             36   \n4   A1.MAA000923.3_9_M.1.1              0             53              0   \n\n   0610007N19Rik  0610007P08Rik  0610007P14Rik  0610007P22Rik  0610008F07Rik  \\\n0              0              0              0              0              0   \n1              0              0            324              0              0   \n2              0              0              5              0              0   \n3              0              0             24              0              0   \n4              0              0              0              0              0   \n\n   0610009B14Rik  ...  Zxdb  Zxdc  Zyg11a  Zyg11b  Zyx  Zzef1  Zzz3  a  l7Rn6  \\\n0              0  ...     0     0       0       0    0      0     0  0     54   \n1              0  ...     0     0       0       0    0      0     0  0      0   \n2              0  ...     0     0       0       0    0    195     0  0    113   \n3              0  ...     0     0       0       0  125      0     1  0      0   \n4              0  ...     0     0       0      81    0      0     0  0      0   \n\n   zsGreen_transgene  \n0                  0  \n1                  0  \n2                  0  \n3                  0  \n4                  0  \n\n[5 rows x 23434 columns]",
            "text/html": "<div>\n<style scoped>\n    .dataframe tbody tr th:only-of-type {\n        vertical-align: middle;\n    }\n\n    .dataframe tbody tr th {\n        vertical-align: top;\n    }\n\n    .dataframe thead th {\n        text-align: right;\n    }\n</style>\n<table border=\"1\" class=\"dataframe\">\n  <thead>\n    <tr style=\"text-align: right;\">\n      <th></th>\n      <th>Unnamed: 0</th>\n      <th>0610005C13Rik</th>\n      <th>0610007C21Rik</th>\n      <th>0610007L01Rik</th>\n      <th>0610007N19Rik</th>\n      <th>0610007P08Rik</th>\n      <th>0610007P14Rik</th>\n      <th>0610007P22Rik</th>\n      <th>0610008F07Rik</th>\n      <th>0610009B14Rik</th>\n      <th>...</th>\n      <th>Zxdb</th>\n      <th>Zxdc</th>\n      <th>Zyg11a</th>\n      <th>Zyg11b</th>\n      <th>Zyx</th>\n      <th>Zzef1</th>\n      <th>Zzz3</th>\n      <th>a</th>\n      <th>l7Rn6</th>\n      <th>zsGreen_transgene</th>\n    </tr>\n  </thead>\n  <tbody>\n    <tr>\n      <th>0</th>\n      <td>A1.B003290.3_38_F.1.1</td>\n      <td>0</td>\n      <td>125</td>\n      <td>16</td>\n      <td>0</td>\n      <td>0</td>\n      <td>0</td>\n      <td>0</td>\n      <td>0</td>\n      <td>0</td>\n      <td>...</td>\n      <td>0</td>\n      <td>0</td>\n      <td>0</td>\n      <td>0</td>\n      <td>0</td>\n      <td>0</td>\n      <td>0</td>\n      <td>0</td>\n      <td>54</td>\n      <td>0</td>\n    </tr>\n    <tr>\n      <th>1</th>\n      <td>A1.B003728.3_56_F.1.1</td>\n      <td>0</td>\n      <td>0</td>\n      <td>0</td>\n      <td>0</td>\n      <td>0</td>\n      <td>324</td>\n      <td>0</td>\n      <td>0</td>\n      <td>0</td>\n      <td>...</td>\n      <td>0</td>\n      <td>0</td>\n      <td>0</td>\n      <td>0</td>\n      <td>0</td>\n      <td>0</td>\n      <td>0</td>\n      <td>0</td>\n      <td>0</td>\n      <td>0</td>\n    </tr>\n    <tr>\n      <th>2</th>\n      <td>A1.MAA000560.3_10_M.1.1</td>\n      <td>0</td>\n      <td>348</td>\n      <td>0</td>\n      <td>0</td>\n      <td>0</td>\n      <td>5</td>\n      <td>0</td>\n      <td>0</td>\n      <td>0</td>\n      <td>...</td>\n      <td>0</td>\n      <td>0</td>\n      <td>0</td>\n      <td>0</td>\n      <td>0</td>\n      <td>195</td>\n      <td>0</td>\n      <td>0</td>\n      <td>113</td>\n      <td>0</td>\n    </tr>\n    <tr>\n      <th>3</th>\n      <td>A1.MAA000564.3_10_M.1.1</td>\n      <td>0</td>\n      <td>41</td>\n      <td>36</td>\n      <td>0</td>\n      <td>0</td>\n      <td>24</td>\n      <td>0</td>\n      <td>0</td>\n      <td>0</td>\n      <td>...</td>\n      <td>0</td>\n      <td>0</td>\n      <td>0</td>\n      <td>0</td>\n      <td>125</td>\n      <td>0</td>\n      <td>1</td>\n      <td>0</td>\n      <td>0</td>\n      <td>0</td>\n    </tr>\n    <tr>\n      <th>4</th>\n      <td>A1.MAA000923.3_9_M.1.1</td>\n      <td>0</td>\n      <td>53</td>\n      <td>0</td>\n      <td>0</td>\n      <td>0</td>\n      <td>0</td>\n      <td>0</td>\n      <td>0</td>\n      <td>0</td>\n      <td>...</td>\n      <td>0</td>\n      <td>0</td>\n      <td>0</td>\n      <td>81</td>\n      <td>0</td>\n      <td>0</td>\n      <td>0</td>\n      <td>0</td>\n      <td>0</td>\n      <td>0</td>\n    </tr>\n  </tbody>\n</table>\n<p>5 rows × 23434 columns</p>\n</div>"
          },
          "execution_count": 4,
          "metadata": {},
          "output_type": "execute_result"
        }
      ],
      "source": [
        "data.head()"
      ],
      "metadata": {
        "ExecuteTime": {
          "end_time": "2023-06-27T09:20:12.692094700Z",
          "start_time": "2023-06-27T09:20:12.393254Z"
        },
        "id": "JRdOiZ5pcpcW",
        "outputId": "4c7db955-540c-4053-c64a-7ffb1c172d82"
      }
    },
    {
      "cell_type": "code",
      "execution_count": null,
      "outputs": [
        {
          "data": {
            "text/plain": "                      cell cell_ontology_class    subtissue mouse.sex  \\\n0    A1.B003290.3_38_F.1.1           astrocyte     Striatum         F   \n1    A1.B003728.3_56_F.1.1           astrocyte     Striatum         F   \n2  A1.MAA000560.3_10_M.1.1     oligodendrocyte       Cortex         M   \n3  A1.MAA000564.3_10_M.1.1    endothelial cell     Striatum         M   \n4   A1.MAA000923.3_9_M.1.1           astrocyte  Hippocampus         M   \n\n  mouse.id plate.barcode  \n0   3_38_F       B003290  \n1   3_56_F       B003728  \n2   3_10_M     MAA000560  \n3   3_10_M     MAA000564  \n4    3_9_M     MAA000923  ",
            "text/html": "<div>\n<style scoped>\n    .dataframe tbody tr th:only-of-type {\n        vertical-align: middle;\n    }\n\n    .dataframe tbody tr th {\n        vertical-align: top;\n    }\n\n    .dataframe thead th {\n        text-align: right;\n    }\n</style>\n<table border=\"1\" class=\"dataframe\">\n  <thead>\n    <tr style=\"text-align: right;\">\n      <th></th>\n      <th>cell</th>\n      <th>cell_ontology_class</th>\n      <th>subtissue</th>\n      <th>mouse.sex</th>\n      <th>mouse.id</th>\n      <th>plate.barcode</th>\n    </tr>\n  </thead>\n  <tbody>\n    <tr>\n      <th>0</th>\n      <td>A1.B003290.3_38_F.1.1</td>\n      <td>astrocyte</td>\n      <td>Striatum</td>\n      <td>F</td>\n      <td>3_38_F</td>\n      <td>B003290</td>\n    </tr>\n    <tr>\n      <th>1</th>\n      <td>A1.B003728.3_56_F.1.1</td>\n      <td>astrocyte</td>\n      <td>Striatum</td>\n      <td>F</td>\n      <td>3_56_F</td>\n      <td>B003728</td>\n    </tr>\n    <tr>\n      <th>2</th>\n      <td>A1.MAA000560.3_10_M.1.1</td>\n      <td>oligodendrocyte</td>\n      <td>Cortex</td>\n      <td>M</td>\n      <td>3_10_M</td>\n      <td>MAA000560</td>\n    </tr>\n    <tr>\n      <th>3</th>\n      <td>A1.MAA000564.3_10_M.1.1</td>\n      <td>endothelial cell</td>\n      <td>Striatum</td>\n      <td>M</td>\n      <td>3_10_M</td>\n      <td>MAA000564</td>\n    </tr>\n    <tr>\n      <th>4</th>\n      <td>A1.MAA000923.3_9_M.1.1</td>\n      <td>astrocyte</td>\n      <td>Hippocampus</td>\n      <td>M</td>\n      <td>3_9_M</td>\n      <td>MAA000923</td>\n    </tr>\n  </tbody>\n</table>\n</div>"
          },
          "execution_count": 5,
          "metadata": {},
          "output_type": "execute_result"
        }
      ],
      "source": [
        "annotations.head()"
      ],
      "metadata": {
        "ExecuteTime": {
          "end_time": "2023-06-27T09:20:17.224741500Z",
          "start_time": "2023-06-27T09:20:17.095191100Z"
        },
        "id": "neNzySvUcpca",
        "outputId": "1d4f8e7a-0436-418e-d83b-615c576643c3"
      }
    },
    {
      "cell_type": "code",
      "execution_count": 5,
      "outputs": [],
      "source": [
        "data.index = data['Unnamed: 0']"
      ],
      "metadata": {
        "ExecuteTime": {
          "end_time": "2023-06-27T09:20:24.970185700Z",
          "start_time": "2023-06-27T09:20:24.900695900Z"
        },
        "id": "qFEsExkicpcd"
      }
    },
    {
      "cell_type": "code",
      "execution_count": 6,
      "outputs": [],
      "source": [
        "data = data.drop('Unnamed: 0', axis=1)\n",
        "# change index name to cell\n",
        "data.index.name = 'cell'"
      ],
      "metadata": {
        "ExecuteTime": {
          "end_time": "2023-06-27T09:20:28.704088800Z",
          "start_time": "2023-06-27T09:20:26.844914600Z"
        },
        "id": "-ZP-vmAucpcf"
      }
    },
    {
      "cell_type": "code",
      "execution_count": null,
      "outputs": [
        {
          "data": {
            "text/plain": "                         0610005C13Rik  0610007C21Rik  0610007L01Rik  \\\ncell                                                                   \nA1.B003290.3_38_F.1.1                0            125             16   \nA1.B003728.3_56_F.1.1                0              0              0   \nA1.MAA000560.3_10_M.1.1              0            348              0   \nA1.MAA000564.3_10_M.1.1              0             41             36   \nA1.MAA000923.3_9_M.1.1               0             53              0   \n\n                         0610007N19Rik  0610007P08Rik  0610007P14Rik  \\\ncell                                                                   \nA1.B003290.3_38_F.1.1                0              0              0   \nA1.B003728.3_56_F.1.1                0              0            324   \nA1.MAA000560.3_10_M.1.1              0              0              5   \nA1.MAA000564.3_10_M.1.1              0              0             24   \nA1.MAA000923.3_9_M.1.1               0              0              0   \n\n                         0610007P22Rik  0610008F07Rik  0610009B14Rik  \\\ncell                                                                   \nA1.B003290.3_38_F.1.1                0              0              0   \nA1.B003728.3_56_F.1.1                0              0              0   \nA1.MAA000560.3_10_M.1.1              0              0              0   \nA1.MAA000564.3_10_M.1.1              0              0              0   \nA1.MAA000923.3_9_M.1.1               0              0              0   \n\n                         0610009B22Rik  ...  Zxdb  Zxdc  Zyg11a  Zyg11b  Zyx  \\\ncell                                    ...                                    \nA1.B003290.3_38_F.1.1                0  ...     0     0       0       0    0   \nA1.B003728.3_56_F.1.1                0  ...     0     0       0       0    0   \nA1.MAA000560.3_10_M.1.1              0  ...     0     0       0       0    0   \nA1.MAA000564.3_10_M.1.1             14  ...     0     0       0       0  125   \nA1.MAA000923.3_9_M.1.1               0  ...     0     0       0      81    0   \n\n                         Zzef1  Zzz3  a  l7Rn6  zsGreen_transgene  \ncell                                                               \nA1.B003290.3_38_F.1.1        0     0  0     54                  0  \nA1.B003728.3_56_F.1.1        0     0  0      0                  0  \nA1.MAA000560.3_10_M.1.1    195     0  0    113                  0  \nA1.MAA000564.3_10_M.1.1      0     1  0      0                  0  \nA1.MAA000923.3_9_M.1.1       0     0  0      0                  0  \n\n[5 rows x 23433 columns]",
            "text/html": "<div>\n<style scoped>\n    .dataframe tbody tr th:only-of-type {\n        vertical-align: middle;\n    }\n\n    .dataframe tbody tr th {\n        vertical-align: top;\n    }\n\n    .dataframe thead th {\n        text-align: right;\n    }\n</style>\n<table border=\"1\" class=\"dataframe\">\n  <thead>\n    <tr style=\"text-align: right;\">\n      <th></th>\n      <th>0610005C13Rik</th>\n      <th>0610007C21Rik</th>\n      <th>0610007L01Rik</th>\n      <th>0610007N19Rik</th>\n      <th>0610007P08Rik</th>\n      <th>0610007P14Rik</th>\n      <th>0610007P22Rik</th>\n      <th>0610008F07Rik</th>\n      <th>0610009B14Rik</th>\n      <th>0610009B22Rik</th>\n      <th>...</th>\n      <th>Zxdb</th>\n      <th>Zxdc</th>\n      <th>Zyg11a</th>\n      <th>Zyg11b</th>\n      <th>Zyx</th>\n      <th>Zzef1</th>\n      <th>Zzz3</th>\n      <th>a</th>\n      <th>l7Rn6</th>\n      <th>zsGreen_transgene</th>\n    </tr>\n    <tr>\n      <th>cell</th>\n      <th></th>\n      <th></th>\n      <th></th>\n      <th></th>\n      <th></th>\n      <th></th>\n      <th></th>\n      <th></th>\n      <th></th>\n      <th></th>\n      <th></th>\n      <th></th>\n      <th></th>\n      <th></th>\n      <th></th>\n      <th></th>\n      <th></th>\n      <th></th>\n      <th></th>\n      <th></th>\n      <th></th>\n    </tr>\n  </thead>\n  <tbody>\n    <tr>\n      <th>A1.B003290.3_38_F.1.1</th>\n      <td>0</td>\n      <td>125</td>\n      <td>16</td>\n      <td>0</td>\n      <td>0</td>\n      <td>0</td>\n      <td>0</td>\n      <td>0</td>\n      <td>0</td>\n      <td>0</td>\n      <td>...</td>\n      <td>0</td>\n      <td>0</td>\n      <td>0</td>\n      <td>0</td>\n      <td>0</td>\n      <td>0</td>\n      <td>0</td>\n      <td>0</td>\n      <td>54</td>\n      <td>0</td>\n    </tr>\n    <tr>\n      <th>A1.B003728.3_56_F.1.1</th>\n      <td>0</td>\n      <td>0</td>\n      <td>0</td>\n      <td>0</td>\n      <td>0</td>\n      <td>324</td>\n      <td>0</td>\n      <td>0</td>\n      <td>0</td>\n      <td>0</td>\n      <td>...</td>\n      <td>0</td>\n      <td>0</td>\n      <td>0</td>\n      <td>0</td>\n      <td>0</td>\n      <td>0</td>\n      <td>0</td>\n      <td>0</td>\n      <td>0</td>\n      <td>0</td>\n    </tr>\n    <tr>\n      <th>A1.MAA000560.3_10_M.1.1</th>\n      <td>0</td>\n      <td>348</td>\n      <td>0</td>\n      <td>0</td>\n      <td>0</td>\n      <td>5</td>\n      <td>0</td>\n      <td>0</td>\n      <td>0</td>\n      <td>0</td>\n      <td>...</td>\n      <td>0</td>\n      <td>0</td>\n      <td>0</td>\n      <td>0</td>\n      <td>0</td>\n      <td>195</td>\n      <td>0</td>\n      <td>0</td>\n      <td>113</td>\n      <td>0</td>\n    </tr>\n    <tr>\n      <th>A1.MAA000564.3_10_M.1.1</th>\n      <td>0</td>\n      <td>41</td>\n      <td>36</td>\n      <td>0</td>\n      <td>0</td>\n      <td>24</td>\n      <td>0</td>\n      <td>0</td>\n      <td>0</td>\n      <td>14</td>\n      <td>...</td>\n      <td>0</td>\n      <td>0</td>\n      <td>0</td>\n      <td>0</td>\n      <td>125</td>\n      <td>0</td>\n      <td>1</td>\n      <td>0</td>\n      <td>0</td>\n      <td>0</td>\n    </tr>\n    <tr>\n      <th>A1.MAA000923.3_9_M.1.1</th>\n      <td>0</td>\n      <td>53</td>\n      <td>0</td>\n      <td>0</td>\n      <td>0</td>\n      <td>0</td>\n      <td>0</td>\n      <td>0</td>\n      <td>0</td>\n      <td>0</td>\n      <td>...</td>\n      <td>0</td>\n      <td>0</td>\n      <td>0</td>\n      <td>81</td>\n      <td>0</td>\n      <td>0</td>\n      <td>0</td>\n      <td>0</td>\n      <td>0</td>\n      <td>0</td>\n    </tr>\n  </tbody>\n</table>\n<p>5 rows × 23433 columns</p>\n</div>"
          },
          "execution_count": 8,
          "metadata": {},
          "output_type": "execute_result"
        }
      ],
      "source": [
        "data.head()"
      ],
      "metadata": {
        "ExecuteTime": {
          "end_time": "2023-06-27T09:20:30.399878800Z",
          "start_time": "2023-06-27T09:20:30.272856200Z"
        },
        "id": "LVG7Kxhqcpch",
        "outputId": "5e44e145-fc85-448a-99bc-1fafdf83869b"
      }
    },
    {
      "cell_type": "code",
      "execution_count": 7,
      "outputs": [],
      "source": [
        "annotations.index = annotations[\"cell\"]"
      ],
      "metadata": {
        "ExecuteTime": {
          "end_time": "2023-06-27T09:20:41.929878100Z",
          "start_time": "2023-06-27T09:20:41.866152600Z"
        },
        "id": "VL4IMhv2cpck"
      }
    },
    {
      "cell_type": "code",
      "execution_count": 8,
      "outputs": [],
      "source": [
        "annotations = annotations.drop('cell', axis=1)"
      ],
      "metadata": {
        "ExecuteTime": {
          "end_time": "2023-06-27T09:20:43.424506Z",
          "start_time": "2023-06-27T09:20:43.360880600Z"
        },
        "id": "w3eBCF5pcpcm"
      }
    },
    {
      "cell_type": "code",
      "execution_count": 9,
      "outputs": [],
      "source": [
        "annotations = annotations[\"cell_ontology_class\"]"
      ],
      "metadata": {
        "ExecuteTime": {
          "end_time": "2023-06-27T09:20:48.550331400Z",
          "start_time": "2023-06-27T09:20:48.450375400Z"
        },
        "id": "u0L-JQZycpco"
      }
    },
    {
      "cell_type": "code",
      "execution_count": null,
      "outputs": [
        {
          "data": {
            "text/plain": "cell\nA1.B003290.3_38_F.1.1                           astrocyte\nA1.B003728.3_56_F.1.1                           astrocyte\nA1.MAA000560.3_10_M.1.1                   oligodendrocyte\nA1.MAA000564.3_10_M.1.1                  endothelial cell\nA1.MAA000923.3_9_M.1.1                          astrocyte\n                                        ...              \nP9.MAA000926.3_9_M.1.1     oligodendrocyte precursor cell\nP9.MAA000930.3_8_M.1.1                          astrocyte\nP9.MAA000932.3_11_M.1.1                  endothelial cell\nP9.MAA000935.3_8_M.1.1                    oligodendrocyte\nP9.MAA001894.3_39_F.1.1                         astrocyte\nName: cell_ontology_class, Length: 3401, dtype: object"
          },
          "execution_count": 12,
          "metadata": {},
          "output_type": "execute_result"
        }
      ],
      "source": [
        "annotations"
      ],
      "metadata": {
        "ExecuteTime": {
          "end_time": "2023-06-27T09:20:49.779634Z",
          "start_time": "2023-06-27T09:20:49.632291Z"
        },
        "id": "tHrIRhsgcpcq",
        "outputId": "bfc893d5-27fd-4582-ffc1-fa688e3b79da"
      }
    },
    {
      "cell_type": "code",
      "execution_count": 10,
      "outputs": [],
      "source": [
        "data = data.join(annotations, how='inner')"
      ],
      "metadata": {
        "ExecuteTime": {
          "end_time": "2023-06-27T09:20:56.270129400Z",
          "start_time": "2023-06-27T09:20:54.282836700Z"
        },
        "id": "AvQJYktrcpcr"
      }
    },
    {
      "cell_type": "code",
      "execution_count": null,
      "outputs": [
        {
          "data": {
            "text/plain": "                         0610005C13Rik  0610007C21Rik  0610007L01Rik  \\\ncell                                                                   \nA1.B003290.3_38_F.1.1                0            125             16   \nA1.B003728.3_56_F.1.1                0              0              0   \nA1.MAA000560.3_10_M.1.1              0            348              0   \nA1.MAA000564.3_10_M.1.1              0             41             36   \nA1.MAA000923.3_9_M.1.1               0             53              0   \n\n                         0610007N19Rik  0610007P08Rik  0610007P14Rik  \\\ncell                                                                   \nA1.B003290.3_38_F.1.1                0              0              0   \nA1.B003728.3_56_F.1.1                0              0            324   \nA1.MAA000560.3_10_M.1.1              0              0              5   \nA1.MAA000564.3_10_M.1.1              0              0             24   \nA1.MAA000923.3_9_M.1.1               0              0              0   \n\n                         0610007P22Rik  0610008F07Rik  0610009B14Rik  \\\ncell                                                                   \nA1.B003290.3_38_F.1.1                0              0              0   \nA1.B003728.3_56_F.1.1                0              0              0   \nA1.MAA000560.3_10_M.1.1              0              0              0   \nA1.MAA000564.3_10_M.1.1              0              0              0   \nA1.MAA000923.3_9_M.1.1               0              0              0   \n\n                         0610009B22Rik  ...  Zxdc  Zyg11a  Zyg11b  Zyx  Zzef1  \\\ncell                                    ...                                     \nA1.B003290.3_38_F.1.1                0  ...     0       0       0    0      0   \nA1.B003728.3_56_F.1.1                0  ...     0       0       0    0      0   \nA1.MAA000560.3_10_M.1.1              0  ...     0       0       0    0    195   \nA1.MAA000564.3_10_M.1.1             14  ...     0       0       0  125      0   \nA1.MAA000923.3_9_M.1.1               0  ...     0       0      81    0      0   \n\n                         Zzz3  a  l7Rn6  zsGreen_transgene  \\\ncell                                                         \nA1.B003290.3_38_F.1.1       0  0     54                  0   \nA1.B003728.3_56_F.1.1       0  0      0                  0   \nA1.MAA000560.3_10_M.1.1     0  0    113                  0   \nA1.MAA000564.3_10_M.1.1     1  0      0                  0   \nA1.MAA000923.3_9_M.1.1      0  0      0                  0   \n\n                         cell_ontology_class  \ncell                                          \nA1.B003290.3_38_F.1.1              astrocyte  \nA1.B003728.3_56_F.1.1              astrocyte  \nA1.MAA000560.3_10_M.1.1      oligodendrocyte  \nA1.MAA000564.3_10_M.1.1     endothelial cell  \nA1.MAA000923.3_9_M.1.1             astrocyte  \n\n[5 rows x 23434 columns]",
            "text/html": "<div>\n<style scoped>\n    .dataframe tbody tr th:only-of-type {\n        vertical-align: middle;\n    }\n\n    .dataframe tbody tr th {\n        vertical-align: top;\n    }\n\n    .dataframe thead th {\n        text-align: right;\n    }\n</style>\n<table border=\"1\" class=\"dataframe\">\n  <thead>\n    <tr style=\"text-align: right;\">\n      <th></th>\n      <th>0610005C13Rik</th>\n      <th>0610007C21Rik</th>\n      <th>0610007L01Rik</th>\n      <th>0610007N19Rik</th>\n      <th>0610007P08Rik</th>\n      <th>0610007P14Rik</th>\n      <th>0610007P22Rik</th>\n      <th>0610008F07Rik</th>\n      <th>0610009B14Rik</th>\n      <th>0610009B22Rik</th>\n      <th>...</th>\n      <th>Zxdc</th>\n      <th>Zyg11a</th>\n      <th>Zyg11b</th>\n      <th>Zyx</th>\n      <th>Zzef1</th>\n      <th>Zzz3</th>\n      <th>a</th>\n      <th>l7Rn6</th>\n      <th>zsGreen_transgene</th>\n      <th>cell_ontology_class</th>\n    </tr>\n    <tr>\n      <th>cell</th>\n      <th></th>\n      <th></th>\n      <th></th>\n      <th></th>\n      <th></th>\n      <th></th>\n      <th></th>\n      <th></th>\n      <th></th>\n      <th></th>\n      <th></th>\n      <th></th>\n      <th></th>\n      <th></th>\n      <th></th>\n      <th></th>\n      <th></th>\n      <th></th>\n      <th></th>\n      <th></th>\n      <th></th>\n    </tr>\n  </thead>\n  <tbody>\n    <tr>\n      <th>A1.B003290.3_38_F.1.1</th>\n      <td>0</td>\n      <td>125</td>\n      <td>16</td>\n      <td>0</td>\n      <td>0</td>\n      <td>0</td>\n      <td>0</td>\n      <td>0</td>\n      <td>0</td>\n      <td>0</td>\n      <td>...</td>\n      <td>0</td>\n      <td>0</td>\n      <td>0</td>\n      <td>0</td>\n      <td>0</td>\n      <td>0</td>\n      <td>0</td>\n      <td>54</td>\n      <td>0</td>\n      <td>astrocyte</td>\n    </tr>\n    <tr>\n      <th>A1.B003728.3_56_F.1.1</th>\n      <td>0</td>\n      <td>0</td>\n      <td>0</td>\n      <td>0</td>\n      <td>0</td>\n      <td>324</td>\n      <td>0</td>\n      <td>0</td>\n      <td>0</td>\n      <td>0</td>\n      <td>...</td>\n      <td>0</td>\n      <td>0</td>\n      <td>0</td>\n      <td>0</td>\n      <td>0</td>\n      <td>0</td>\n      <td>0</td>\n      <td>0</td>\n      <td>0</td>\n      <td>astrocyte</td>\n    </tr>\n    <tr>\n      <th>A1.MAA000560.3_10_M.1.1</th>\n      <td>0</td>\n      <td>348</td>\n      <td>0</td>\n      <td>0</td>\n      <td>0</td>\n      <td>5</td>\n      <td>0</td>\n      <td>0</td>\n      <td>0</td>\n      <td>0</td>\n      <td>...</td>\n      <td>0</td>\n      <td>0</td>\n      <td>0</td>\n      <td>0</td>\n      <td>195</td>\n      <td>0</td>\n      <td>0</td>\n      <td>113</td>\n      <td>0</td>\n      <td>oligodendrocyte</td>\n    </tr>\n    <tr>\n      <th>A1.MAA000564.3_10_M.1.1</th>\n      <td>0</td>\n      <td>41</td>\n      <td>36</td>\n      <td>0</td>\n      <td>0</td>\n      <td>24</td>\n      <td>0</td>\n      <td>0</td>\n      <td>0</td>\n      <td>14</td>\n      <td>...</td>\n      <td>0</td>\n      <td>0</td>\n      <td>0</td>\n      <td>125</td>\n      <td>0</td>\n      <td>1</td>\n      <td>0</td>\n      <td>0</td>\n      <td>0</td>\n      <td>endothelial cell</td>\n    </tr>\n    <tr>\n      <th>A1.MAA000923.3_9_M.1.1</th>\n      <td>0</td>\n      <td>53</td>\n      <td>0</td>\n      <td>0</td>\n      <td>0</td>\n      <td>0</td>\n      <td>0</td>\n      <td>0</td>\n      <td>0</td>\n      <td>0</td>\n      <td>...</td>\n      <td>0</td>\n      <td>0</td>\n      <td>81</td>\n      <td>0</td>\n      <td>0</td>\n      <td>0</td>\n      <td>0</td>\n      <td>0</td>\n      <td>0</td>\n      <td>astrocyte</td>\n    </tr>\n  </tbody>\n</table>\n<p>5 rows × 23434 columns</p>\n</div>"
          },
          "execution_count": 14,
          "metadata": {},
          "output_type": "execute_result"
        }
      ],
      "source": [
        "data.head()"
      ],
      "metadata": {
        "ExecuteTime": {
          "end_time": "2023-06-27T09:20:58.388709800Z",
          "start_time": "2023-06-27T09:20:58.322110800Z"
        },
        "id": "zFUrtL4Scpct",
        "outputId": "e9d0f482-b980-4e17-a2b9-02e7cbfeabf7"
      }
    },
    {
      "cell_type": "code",
      "execution_count": 11,
      "outputs": [],
      "source": [
        "X = data.drop('cell_ontology_class', axis=1)\n",
        "y = data['cell_ontology_class']"
      ],
      "metadata": {
        "ExecuteTime": {
          "end_time": "2023-06-27T09:21:10.845309500Z",
          "start_time": "2023-06-27T09:21:08.970856Z"
        },
        "id": "KQF95jipcpcu"
      }
    },
    {
      "cell_type": "code",
      "execution_count": 12,
      "outputs": [],
      "source": [
        "# split data into train and test sets\n",
        "X_train, X_test, y_train, y_test = train_test_split(X, y)"
      ],
      "metadata": {
        "ExecuteTime": {
          "end_time": "2023-06-27T09:33:21.330968Z",
          "start_time": "2023-06-27T09:33:16.602002400Z"
        },
        "id": "MwQLKxR1cpcv"
      }
    },
    {
      "cell_type": "code",
      "execution_count": null,
      "outputs": [],
      "source": [
        "# apply PCA\n",
        "from sklearn.decomposition import PCA\n",
        "pca = PCA(n_components=50)\n",
        "X_train_pca = pca.fit_transform(X_train)"
      ],
      "metadata": {
        "ExecuteTime": {
          "end_time": "2023-06-20T15:11:50.938849Z",
          "start_time": "2023-06-20T15:11:45.181861Z"
        },
        "id": "_XezyFvLcpcw"
      }
    },
    {
      "cell_type": "code",
      "execution_count": null,
      "outputs": [
        {
          "data": {
            "text/plain": "SVC()",
            "text/html": "<style>#sk-container-id-1 {color: black;background-color: white;}#sk-container-id-1 pre{padding: 0;}#sk-container-id-1 div.sk-toggleable {background-color: white;}#sk-container-id-1 label.sk-toggleable__label {cursor: pointer;display: block;width: 100%;margin-bottom: 0;padding: 0.3em;box-sizing: border-box;text-align: center;}#sk-container-id-1 label.sk-toggleable__label-arrow:before {content: \"▸\";float: left;margin-right: 0.25em;color: #696969;}#sk-container-id-1 label.sk-toggleable__label-arrow:hover:before {color: black;}#sk-container-id-1 div.sk-estimator:hover label.sk-toggleable__label-arrow:before {color: black;}#sk-container-id-1 div.sk-toggleable__content {max-height: 0;max-width: 0;overflow: hidden;text-align: left;background-color: #f0f8ff;}#sk-container-id-1 div.sk-toggleable__content pre {margin: 0.2em;color: black;border-radius: 0.25em;background-color: #f0f8ff;}#sk-container-id-1 input.sk-toggleable__control:checked~div.sk-toggleable__content {max-height: 200px;max-width: 100%;overflow: auto;}#sk-container-id-1 input.sk-toggleable__control:checked~label.sk-toggleable__label-arrow:before {content: \"▾\";}#sk-container-id-1 div.sk-estimator input.sk-toggleable__control:checked~label.sk-toggleable__label {background-color: #d4ebff;}#sk-container-id-1 div.sk-label input.sk-toggleable__control:checked~label.sk-toggleable__label {background-color: #d4ebff;}#sk-container-id-1 input.sk-hidden--visually {border: 0;clip: rect(1px 1px 1px 1px);clip: rect(1px, 1px, 1px, 1px);height: 1px;margin: -1px;overflow: hidden;padding: 0;position: absolute;width: 1px;}#sk-container-id-1 div.sk-estimator {font-family: monospace;background-color: #f0f8ff;border: 1px dotted black;border-radius: 0.25em;box-sizing: border-box;margin-bottom: 0.5em;}#sk-container-id-1 div.sk-estimator:hover {background-color: #d4ebff;}#sk-container-id-1 div.sk-parallel-item::after {content: \"\";width: 100%;border-bottom: 1px solid gray;flex-grow: 1;}#sk-container-id-1 div.sk-label:hover label.sk-toggleable__label {background-color: #d4ebff;}#sk-container-id-1 div.sk-serial::before {content: \"\";position: absolute;border-left: 1px solid gray;box-sizing: border-box;top: 0;bottom: 0;left: 50%;z-index: 0;}#sk-container-id-1 div.sk-serial {display: flex;flex-direction: column;align-items: center;background-color: white;padding-right: 0.2em;padding-left: 0.2em;position: relative;}#sk-container-id-1 div.sk-item {position: relative;z-index: 1;}#sk-container-id-1 div.sk-parallel {display: flex;align-items: stretch;justify-content: center;background-color: white;position: relative;}#sk-container-id-1 div.sk-item::before, #sk-container-id-1 div.sk-parallel-item::before {content: \"\";position: absolute;border-left: 1px solid gray;box-sizing: border-box;top: 0;bottom: 0;left: 50%;z-index: -1;}#sk-container-id-1 div.sk-parallel-item {display: flex;flex-direction: column;z-index: 1;position: relative;background-color: white;}#sk-container-id-1 div.sk-parallel-item:first-child::after {align-self: flex-end;width: 50%;}#sk-container-id-1 div.sk-parallel-item:last-child::after {align-self: flex-start;width: 50%;}#sk-container-id-1 div.sk-parallel-item:only-child::after {width: 0;}#sk-container-id-1 div.sk-dashed-wrapped {border: 1px dashed gray;margin: 0 0.4em 0.5em 0.4em;box-sizing: border-box;padding-bottom: 0.4em;background-color: white;}#sk-container-id-1 div.sk-label label {font-family: monospace;font-weight: bold;display: inline-block;line-height: 1.2em;}#sk-container-id-1 div.sk-label-container {text-align: center;}#sk-container-id-1 div.sk-container {/* jupyter's `normalize.less` sets `[hidden] { display: none; }` but bootstrap.min.css set `[hidden] { display: none !important; }` so we also need the `!important` here to be able to override the default hidden behavior on the sphinx rendered scikit-learn.org. See: https://github.com/scikit-learn/scikit-learn/issues/21755 */display: inline-block !important;position: relative;}#sk-container-id-1 div.sk-text-repr-fallback {display: none;}</style><div id=\"sk-container-id-1\" class=\"sk-top-container\"><div class=\"sk-text-repr-fallback\"><pre>SVC()</pre><b>In a Jupyter environment, please rerun this cell to show the HTML representation or trust the notebook. <br />On GitHub, the HTML representation is unable to render, please try loading this page with nbviewer.org.</b></div><div class=\"sk-container\" hidden><div class=\"sk-item\"><div class=\"sk-estimator sk-toggleable\"><input class=\"sk-toggleable__control sk-hidden--visually\" id=\"sk-estimator-id-1\" type=\"checkbox\" checked><label for=\"sk-estimator-id-1\" class=\"sk-toggleable__label sk-toggleable__label-arrow\">SVC</label><div class=\"sk-toggleable__content\"><pre>SVC()</pre></div></div></div></div></div>"
          },
          "execution_count": 19,
          "metadata": {},
          "output_type": "execute_result"
        }
      ],
      "source": [
        "# apply support vector machine to predict cell type\n",
        "from sklearn.svm import SVC\n",
        "svc = SVC()\n",
        "svc.fit(X_train_pca, y_train)"
      ],
      "metadata": {
        "ExecuteTime": {
          "end_time": "2023-06-20T15:12:16.225455900Z",
          "start_time": "2023-06-20T15:12:15.891795100Z"
        },
        "id": "Ud2R7UY5cpcx",
        "outputId": "8b7bbecf-7693-466b-8fac-857e247a9c2b"
      }
    },
    {
      "cell_type": "code",
      "execution_count": null,
      "outputs": [],
      "source": [
        "# apply PCA to test set\n",
        "X_test_pca = pca.transform(X_test)"
      ],
      "metadata": {
        "ExecuteTime": {
          "end_time": "2023-06-20T15:12:38.339331800Z",
          "start_time": "2023-06-20T15:12:37.685844500Z"
        },
        "id": "8HOf0oBCcpcy"
      }
    },
    {
      "cell_type": "code",
      "execution_count": null,
      "outputs": [],
      "source": [
        "# predict cell type\n",
        "y_pred = svc.predict(X_test_pca)"
      ],
      "metadata": {
        "ExecuteTime": {
          "end_time": "2023-06-20T15:12:43.113298Z",
          "start_time": "2023-06-20T15:12:42.948750900Z"
        },
        "id": "kyT1EllBcpcz"
      }
    },
    {
      "cell_type": "code",
      "execution_count": null,
      "outputs": [
        {
          "data": {
            "text/plain": "0.7978848413631022"
          },
          "execution_count": 22,
          "metadata": {},
          "output_type": "execute_result"
        }
      ],
      "source": [
        "# evaluate model\n",
        "from sklearn.metrics import accuracy_score\n",
        "accuracy_score(y_test, y_pred)"
      ],
      "metadata": {
        "ExecuteTime": {
          "end_time": "2023-06-20T15:12:48.304878100Z",
          "start_time": "2023-06-20T15:12:48.247220100Z"
        },
        "id": "wo-2ih0Lcpc0",
        "outputId": "e96d7ffa-e2ac-4b9e-c06f-6e14b27ec5a9"
      }
    },
    {
      "cell_type": "code",
      "execution_count": null,
      "outputs": [
        {
          "name": "stdout",
          "output_type": "stream",
          "text": [
            "0.781234555115287\n"
          ]
        }
      ],
      "source": [
        "# print f1 score and plot confusion matrix\n",
        "from sklearn.metrics import f1_score, confusion_matrix\n",
        "print(f1_score(y_test, y_pred, average='weighted'))"
      ],
      "metadata": {
        "ExecuteTime": {
          "end_time": "2023-06-20T15:13:13.068751400Z",
          "start_time": "2023-06-20T15:13:13.002487600Z"
        },
        "id": "HkP6F2y2cpc0",
        "outputId": "f789b569-1dfd-4692-89f5-2e61a48f4ba2"
      }
    },
    {
      "cell_type": "code",
      "execution_count": null,
      "outputs": [
        {
          "data": {
            "text/plain": "array([[  0,   4,   0,   1,   0,   1,   0],\n       [  0,  64,   0,  25,   0,   3,   1],\n       [  0,   0,  16,  23,   1,   0,   0],\n       [  0,   0,   0, 183,   0,   1,   0],\n       [  1,   0,   0,  55,  28,   0,   3],\n       [  0,   1,   0,  11,   2, 372,   0],\n       [  0,   5,   0,  28,   3,   3,  16]], dtype=int64)"
          },
          "execution_count": 24,
          "metadata": {},
          "output_type": "execute_result"
        }
      ],
      "source": [
        "confusion_matrix(y_test, y_pred)"
      ],
      "metadata": {
        "ExecuteTime": {
          "end_time": "2023-06-20T15:13:19.079123700Z",
          "start_time": "2023-06-20T15:13:19.043668800Z"
        },
        "id": "KQB7gkj2cpc1",
        "outputId": "787561da-36b6-43dc-9079-170cf3221254"
      }
    },
    {
      "cell_type": "code",
      "execution_count": null,
      "outputs": [
        {
          "data": {
            "text/plain": "<Axes: >"
          },
          "execution_count": 27,
          "metadata": {},
          "output_type": "execute_result"
        },
        {
          "data": {
            "text/plain": "<Figure size 2000x2000 with 2 Axes>",
            "image/png": "[encoded data removed]"
          },
          "metadata": {},
          "output_type": "display_data"
        }
      ],
      "source": [
        "# plot confusion matrix\n",
        "import seaborn as sns\n",
        "plt.figure(figsize=(20, 20))\n",
        "sns.heatmap(confusion_matrix(y_test, y_pred), annot=True, fmt='d')\n"
      ],
      "metadata": {
        "ExecuteTime": {
          "end_time": "2023-06-20T15:21:01.771627200Z",
          "start_time": "2023-06-20T15:21:01.147395100Z"
        },
        "id": "XNthXkXHcpc2",
        "outputId": "d6891dab-0155-4faa-d362-3ec335a95483"
      }
    },
    {
      "cell_type": "code",
      "execution_count": null,
      "outputs": [
        {
          "data": {
            "text/plain": "RandomForestClassifier()",
            "text/html": "<style>#sk-container-id-2 {color: black;background-color: white;}#sk-container-id-2 pre{padding: 0;}#sk-container-id-2 div.sk-toggleable {background-color: white;}#sk-container-id-2 label.sk-toggleable__label {cursor: pointer;display: block;width: 100%;margin-bottom: 0;padding: 0.3em;box-sizing: border-box;text-align: center;}#sk-container-id-2 label.sk-toggleable__label-arrow:before {content: \"▸\";float: left;margin-right: 0.25em;color: #696969;}#sk-container-id-2 label.sk-toggleable__label-arrow:hover:before {color: black;}#sk-container-id-2 div.sk-estimator:hover label.sk-toggleable__label-arrow:before {color: black;}#sk-container-id-2 div.sk-toggleable__content {max-height: 0;max-width: 0;overflow: hidden;text-align: left;background-color: #f0f8ff;}#sk-container-id-2 div.sk-toggleable__content pre {margin: 0.2em;color: black;border-radius: 0.25em;background-color: #f0f8ff;}#sk-container-id-2 input.sk-toggleable__control:checked~div.sk-toggleable__content {max-height: 200px;max-width: 100%;overflow: auto;}#sk-container-id-2 input.sk-toggleable__control:checked~label.sk-toggleable__label-arrow:before {content: \"▾\";}#sk-container-id-2 div.sk-estimator input.sk-toggleable__control:checked~label.sk-toggleable__label {background-color: #d4ebff;}#sk-container-id-2 div.sk-label input.sk-toggleable__control:checked~label.sk-toggleable__label {background-color: #d4ebff;}#sk-container-id-2 input.sk-hidden--visually {border: 0;clip: rect(1px 1px 1px 1px);clip: rect(1px, 1px, 1px, 1px);height: 1px;margin: -1px;overflow: hidden;padding: 0;position: absolute;width: 1px;}#sk-container-id-2 div.sk-estimator {font-family: monospace;background-color: #f0f8ff;border: 1px dotted black;border-radius: 0.25em;box-sizing: border-box;margin-bottom: 0.5em;}#sk-container-id-2 div.sk-estimator:hover {background-color: #d4ebff;}#sk-container-id-2 div.sk-parallel-item::after {content: \"\";width: 100%;border-bottom: 1px solid gray;flex-grow: 1;}#sk-container-id-2 div.sk-label:hover label.sk-toggleable__label {background-color: #d4ebff;}#sk-container-id-2 div.sk-serial::before {content: \"\";position: absolute;border-left: 1px solid gray;box-sizing: border-box;top: 0;bottom: 0;left: 50%;z-index: 0;}#sk-container-id-2 div.sk-serial {display: flex;flex-direction: column;align-items: center;background-color: white;padding-right: 0.2em;padding-left: 0.2em;position: relative;}#sk-container-id-2 div.sk-item {position: relative;z-index: 1;}#sk-container-id-2 div.sk-parallel {display: flex;align-items: stretch;justify-content: center;background-color: white;position: relative;}#sk-container-id-2 div.sk-item::before, #sk-container-id-2 div.sk-parallel-item::before {content: \"\";position: absolute;border-left: 1px solid gray;box-sizing: border-box;top: 0;bottom: 0;left: 50%;z-index: -1;}#sk-container-id-2 div.sk-parallel-item {display: flex;flex-direction: column;z-index: 1;position: relative;background-color: white;}#sk-container-id-2 div.sk-parallel-item:first-child::after {align-self: flex-end;width: 50%;}#sk-container-id-2 div.sk-parallel-item:last-child::after {align-self: flex-start;width: 50%;}#sk-container-id-2 div.sk-parallel-item:only-child::after {width: 0;}#sk-container-id-2 div.sk-dashed-wrapped {border: 1px dashed gray;margin: 0 0.4em 0.5em 0.4em;box-sizing: border-box;padding-bottom: 0.4em;background-color: white;}#sk-container-id-2 div.sk-label label {font-family: monospace;font-weight: bold;display: inline-block;line-height: 1.2em;}#sk-container-id-2 div.sk-label-container {text-align: center;}#sk-container-id-2 div.sk-container {/* jupyter's `normalize.less` sets `[hidden] { display: none; }` but bootstrap.min.css set `[hidden] { display: none !important; }` so we also need the `!important` here to be able to override the default hidden behavior on the sphinx rendered scikit-learn.org. See: https://github.com/scikit-learn/scikit-learn/issues/21755 */display: inline-block !important;position: relative;}#sk-container-id-2 div.sk-text-repr-fallback {display: none;}</style><div id=\"sk-container-id-2\" class=\"sk-top-container\"><div class=\"sk-text-repr-fallback\"><pre>RandomForestClassifier()</pre><b>In a Jupyter environment, please rerun this cell to show the HTML representation or trust the notebook. <br />On GitHub, the HTML representation is unable to render, please try loading this page with nbviewer.org.</b></div><div class=\"sk-container\" hidden><div class=\"sk-item\"><div class=\"sk-estimator sk-toggleable\"><input class=\"sk-toggleable__control sk-hidden--visually\" id=\"sk-estimator-id-2\" type=\"checkbox\" checked><label for=\"sk-estimator-id-2\" class=\"sk-toggleable__label sk-toggleable__label-arrow\">RandomForestClassifier</label><div class=\"sk-toggleable__content\"><pre>RandomForestClassifier()</pre></div></div></div></div></div>"
          },
          "execution_count": 28,
          "metadata": {},
          "output_type": "execute_result"
        }
      ],
      "source": [
        "# apply random forest to predict cell type\n",
        "from sklearn.ensemble import RandomForestClassifier\n",
        "rfc = RandomForestClassifier()\n",
        "rfc.fit(X_train_pca, y_train)\n"
      ],
      "metadata": {
        "ExecuteTime": {
          "end_time": "2023-06-20T15:21:21.920232700Z",
          "start_time": "2023-06-20T15:21:19.676748700Z"
        },
        "id": "g76AeXkIcpc3",
        "outputId": "f18ea129-1b4a-48fe-ee05-6477b098d900"
      }
    },
    {
      "cell_type": "code",
      "execution_count": null,
      "outputs": [],
      "source": [
        "# predict cell type\n",
        "y_pred = rfc.predict(X_test_pca)\n"
      ],
      "metadata": {
        "ExecuteTime": {
          "end_time": "2023-06-20T15:21:33.715475Z",
          "start_time": "2023-06-20T15:21:33.668356600Z"
        },
        "id": "5FNUnu1Zcpc5"
      }
    },
    {
      "cell_type": "code",
      "execution_count": null,
      "outputs": [
        {
          "data": {
            "text/plain": "0.9753231492361927"
          },
          "execution_count": 30,
          "metadata": {},
          "output_type": "execute_result"
        }
      ],
      "source": [
        "# evaluate model\n",
        "from sklearn.metrics import accuracy_score\n",
        "accuracy_score(y_test, y_pred)"
      ],
      "metadata": {
        "ExecuteTime": {
          "end_time": "2023-06-20T15:21:39.427563100Z",
          "start_time": "2023-06-20T15:21:39.339200Z"
        },
        "id": "KKpHboNacpc5",
        "outputId": "92630d0d-722e-4d76-ef06-e38a97e06666"
      }
    },
    {
      "cell_type": "code",
      "execution_count": null,
      "outputs": [
        {
          "name": "stdout",
          "output_type": "stream",
          "text": [
            "0.975074348190472\n"
          ]
        }
      ],
      "source": [
        "# print f1 score and plot confusion matrix\n",
        "from sklearn.metrics import f1_score, confusion_matrix\n",
        "print(f1_score(y_test, y_pred, average='weighted'))"
      ],
      "metadata": {
        "ExecuteTime": {
          "end_time": "2023-06-20T15:21:57.727809400Z",
          "start_time": "2023-06-20T15:21:57.671767700Z"
        },
        "id": "TCNqTRl9cpc6",
        "outputId": "1043402a-9234-4bc4-cc92-4b500b317bf1"
      }
    },
    {
      "cell_type": "code",
      "execution_count": null,
      "outputs": [
        {
          "data": {
            "text/plain": "<Axes: >"
          },
          "execution_count": 34,
          "metadata": {},
          "output_type": "execute_result"
        },
        {
          "data": {
            "text/plain": "<Figure size 2000x2000 with 2 Axes>",
            "image/png": "[encoded data removed]"
          },
          "metadata": {},
          "output_type": "display_data"
        }
      ],
      "source": [
        "# plot confusion matrix\n",
        "import seaborn as sns\n",
        "plt.figure(figsize=(20, 20))\n",
        "sns.heatmap(confusion_matrix(y_test, y_pred), annot=True, fmt='d')\n"
      ],
      "metadata": {
        "ExecuteTime": {
          "end_time": "2023-06-20T15:22:15.466959900Z",
          "start_time": "2023-06-20T15:22:14.924980600Z"
        },
        "id": "V02cNJFPcpc7",
        "outputId": "cd9e9398-ff83-42ec-ef8d-32a312c62dfc"
      }
    },
    {
      "cell_type": "markdown",
      "source": [
        "\n",
        "# PIPELINE SVM"
      ],
      "metadata": {
        "collapsed": false,
        "id": "3QL4IlWScpc8"
      }
    },
    {
      "cell_type": "code",
      "execution_count": 27,
      "outputs": [],
      "source": [
        "from sklearn.decomposition import PCA\n",
        "from sklearn.preprocessing import StandardScaler\n",
        "from sklearn.pipeline import Pipeline\n",
        "from sklearn.svm import SVC\n",
        "\n",
        "pca = PCA(n_components=50)\n",
        "scaler = StandardScaler()\n",
        "svm = SVC()\n",
        "pipe = Pipeline([('scaler', scaler), ('pca', pca), ('svm', svm)])\n",
        "\n",
        "param_grid = {\n",
        "\t\"svm__C\": [0.01, 0.05, 0.1],\n",
        "\t\"svm__kernel\": [\"linear\", \"rbf\", \"poly\"],\n",
        "\t# \"svm__degree\": range(2, 6) # degree for polynomial kernel\n",
        "}\n"
      ],
      "metadata": {
        "ExecuteTime": {
          "end_time": "2023-06-27T09:30:44.337306600Z",
          "start_time": "2023-06-27T09:30:43.060410100Z"
        },
        "id": "mxlXogrHcpc-"
      }
    },
    {
      "cell_type": "code",
      "execution_count": 25,
      "outputs": [
        {
          "metadata": {
            "tags": null
          },
          "name": "stdout",
          "output_type": "stream",
          "text": [
            "Fitting 5 folds for each of 24 candidates, totalling 120 fits\n"
          ]
        },
        {
          "output_type": "execute_result",
          "data": {
            "text/plain": [
              "GridSearchCV(cv=5,\n",
              "             estimator=Pipeline(steps=[('scaler', StandardScaler()),\n",
              "                                       ('pca', PCA(n_components=50)),\n",
              "                                       ('svm', SVC())]),\n",
              "             n_jobs=-1,\n",
              "             param_grid={'svm__C': [0.01, 0.05, 0.1],\n",
              "                         'svm__degree': range(2, 6),\n",
              "                         'svm__kernel': ['linear', 'poly']},\n",
              "             verbose=3)"
            ],
            "text/html": [
              "<style>#sk-container-id-3 {color: black;background-color: white;}#sk-container-id-3 pre{padding: 0;}#sk-container-id-3 div.sk-toggleable {background-color: white;}#sk-container-id-3 label.sk-toggleable__label {cursor: pointer;display: block;width: 100%;margin-bottom: 0;padding: 0.3em;box-sizing: border-box;text-align: center;}#sk-container-id-3 label.sk-toggleable__label-arrow:before {content: \"▸\";float: left;margin-right: 0.25em;color: #696969;}#sk-container-id-3 label.sk-toggleable__label-arrow:hover:before {color: black;}#sk-container-id-3 div.sk-estimator:hover label.sk-toggleable__label-arrow:before {color: black;}#sk-container-id-3 div.sk-toggleable__content {max-height: 0;max-width: 0;overflow: hidden;text-align: left;background-color: #f0f8ff;}#sk-container-id-3 div.sk-toggleable__content pre {margin: 0.2em;color: black;border-radius: 0.25em;background-color: #f0f8ff;}#sk-container-id-3 input.sk-toggleable__control:checked~div.sk-toggleable__content {max-height: 200px;max-width: 100%;overflow: auto;}#sk-container-id-3 input.sk-toggleable__control:checked~label.sk-toggleable__label-arrow:before {content: \"▾\";}#sk-container-id-3 div.sk-estimator input.sk-toggleable__control:checked~label.sk-toggleable__label {background-color: #d4ebff;}#sk-container-id-3 div.sk-label input.sk-toggleable__control:checked~label.sk-toggleable__label {background-color: #d4ebff;}#sk-container-id-3 input.sk-hidden--visually {border: 0;clip: rect(1px 1px 1px 1px);clip: rect(1px, 1px, 1px, 1px);height: 1px;margin: -1px;overflow: hidden;padding: 0;position: absolute;width: 1px;}#sk-container-id-3 div.sk-estimator {font-family: monospace;background-color: #f0f8ff;border: 1px dotted black;border-radius: 0.25em;box-sizing: border-box;margin-bottom: 0.5em;}#sk-container-id-3 div.sk-estimator:hover {background-color: #d4ebff;}#sk-container-id-3 div.sk-parallel-item::after {content: \"\";width: 100%;border-bottom: 1px solid gray;flex-grow: 1;}#sk-container-id-3 div.sk-label:hover label.sk-toggleable__label {background-color: #d4ebff;}#sk-container-id-3 div.sk-serial::before {content: \"\";position: absolute;border-left: 1px solid gray;box-sizing: border-box;top: 0;bottom: 0;left: 50%;z-index: 0;}#sk-container-id-3 div.sk-serial {display: flex;flex-direction: column;align-items: center;background-color: white;padding-right: 0.2em;padding-left: 0.2em;position: relative;}#sk-container-id-3 div.sk-item {position: relative;z-index: 1;}#sk-container-id-3 div.sk-parallel {display: flex;align-items: stretch;justify-content: center;background-color: white;position: relative;}#sk-container-id-3 div.sk-item::before, #sk-container-id-3 div.sk-parallel-item::before {content: \"\";position: absolute;border-left: 1px solid gray;box-sizing: border-box;top: 0;bottom: 0;left: 50%;z-index: -1;}#sk-container-id-3 div.sk-parallel-item {display: flex;flex-direction: column;z-index: 1;position: relative;background-color: white;}#sk-container-id-3 div.sk-parallel-item:first-child::after {align-self: flex-end;width: 50%;}#sk-container-id-3 div.sk-parallel-item:last-child::after {align-self: flex-start;width: 50%;}#sk-container-id-3 div.sk-parallel-item:only-child::after {width: 0;}#sk-container-id-3 div.sk-dashed-wrapped {border: 1px dashed gray;margin: 0 0.4em 0.5em 0.4em;box-sizing: border-box;padding-bottom: 0.4em;background-color: white;}#sk-container-id-3 div.sk-label label {font-family: monospace;font-weight: bold;display: inline-block;line-height: 1.2em;}#sk-container-id-3 div.sk-label-container {text-align: center;}#sk-container-id-3 div.sk-container {/* jupyter's `normalize.less` sets `[hidden] { display: none; }` but bootstrap.min.css set `[hidden] { display: none !important; }` so we also need the `!important` here to be able to override the default hidden behavior on the sphinx rendered scikit-learn.org. See: https://github.com/scikit-learn/scikit-learn/issues/21755 */display: inline-block !important;position: relative;}#sk-container-id-3 div.sk-text-repr-fallback {display: none;}</style><div id=\"sk-container-id-3\" class=\"sk-top-container\"><div class=\"sk-text-repr-fallback\"><pre>GridSearchCV(cv=5,\n",
              "             estimator=Pipeline(steps=[(&#x27;scaler&#x27;, StandardScaler()),\n",
              "                                       (&#x27;pca&#x27;, PCA(n_components=50)),\n",
              "                                       (&#x27;svm&#x27;, SVC())]),\n",
              "             n_jobs=-1,\n",
              "             param_grid={&#x27;svm__C&#x27;: [0.01, 0.05, 0.1],\n",
              "                         &#x27;svm__degree&#x27;: range(2, 6),\n",
              "                         &#x27;svm__kernel&#x27;: [&#x27;linear&#x27;, &#x27;poly&#x27;]},\n",
              "             verbose=3)</pre><b>In a Jupyter environment, please rerun this cell to show the HTML representation or trust the notebook. <br />On GitHub, the HTML representation is unable to render, please try loading this page with nbviewer.org.</b></div><div class=\"sk-container\" hidden><div class=\"sk-item sk-dashed-wrapped\"><div class=\"sk-label-container\"><div class=\"sk-label sk-toggleable\"><input class=\"sk-toggleable__control sk-hidden--visually\" id=\"sk-estimator-id-11\" type=\"checkbox\" ><label for=\"sk-estimator-id-11\" class=\"sk-toggleable__label sk-toggleable__label-arrow\">GridSearchCV</label><div class=\"sk-toggleable__content\"><pre>GridSearchCV(cv=5,\n",
              "             estimator=Pipeline(steps=[(&#x27;scaler&#x27;, StandardScaler()),\n",
              "                                       (&#x27;pca&#x27;, PCA(n_components=50)),\n",
              "                                       (&#x27;svm&#x27;, SVC())]),\n",
              "             n_jobs=-1,\n",
              "             param_grid={&#x27;svm__C&#x27;: [0.01, 0.05, 0.1],\n",
              "                         &#x27;svm__degree&#x27;: range(2, 6),\n",
              "                         &#x27;svm__kernel&#x27;: [&#x27;linear&#x27;, &#x27;poly&#x27;]},\n",
              "             verbose=3)</pre></div></div></div><div class=\"sk-parallel\"><div class=\"sk-parallel-item\"><div class=\"sk-item\"><div class=\"sk-label-container\"><div class=\"sk-label sk-toggleable\"><input class=\"sk-toggleable__control sk-hidden--visually\" id=\"sk-estimator-id-12\" type=\"checkbox\" ><label for=\"sk-estimator-id-12\" class=\"sk-toggleable__label sk-toggleable__label-arrow\">estimator: Pipeline</label><div class=\"sk-toggleable__content\"><pre>Pipeline(steps=[(&#x27;scaler&#x27;, StandardScaler()), (&#x27;pca&#x27;, PCA(n_components=50)),\n",
              "                (&#x27;svm&#x27;, SVC())])</pre></div></div></div><div class=\"sk-serial\"><div class=\"sk-item\"><div class=\"sk-serial\"><div class=\"sk-item\"><div class=\"sk-estimator sk-toggleable\"><input class=\"sk-toggleable__control sk-hidden--visually\" id=\"sk-estimator-id-13\" type=\"checkbox\" ><label for=\"sk-estimator-id-13\" class=\"sk-toggleable__label sk-toggleable__label-arrow\">StandardScaler</label><div class=\"sk-toggleable__content\"><pre>StandardScaler()</pre></div></div></div><div class=\"sk-item\"><div class=\"sk-estimator sk-toggleable\"><input class=\"sk-toggleable__control sk-hidden--visually\" id=\"sk-estimator-id-14\" type=\"checkbox\" ><label for=\"sk-estimator-id-14\" class=\"sk-toggleable__label sk-toggleable__label-arrow\">PCA</label><div class=\"sk-toggleable__content\"><pre>PCA(n_components=50)</pre></div></div></div><div class=\"sk-item\"><div class=\"sk-estimator sk-toggleable\"><input class=\"sk-toggleable__control sk-hidden--visually\" id=\"sk-estimator-id-15\" type=\"checkbox\" ><label for=\"sk-estimator-id-15\" class=\"sk-toggleable__label sk-toggleable__label-arrow\">SVC</label><div class=\"sk-toggleable__content\"><pre>SVC()</pre></div></div></div></div></div></div></div></div></div></div></div></div>"
            ]
          },
          "metadata": {},
          "execution_count": 25
        }
      ],
      "source": [
        "from sklearn.model_selection import GridSearchCV\n",
        "grid = GridSearchCV(pipe, param_grid, cv=5, n_jobs=-1, verbose=3)\n",
        "grid.fit(X_train, y_train)\n"
      ],
      "metadata": {
        "ExecuteTime": {
          "end_time": "2023-06-27T09:35:34.442809300Z",
          "start_time": "2023-06-27T09:33:26.217153400Z"
        },
        "id": "6y1fpZTocpc_",
        "outputId": "3ae99eab-8121-46e8-8c63-a52e652cb06c",
        "colab": {
          "base_uri": "https://localhost:8080/",
          "height": 203
        }
      }
    },
    {
      "cell_type": "code",
      "execution_count": 33,
      "outputs": [
        {
          "output_type": "stream",
          "name": "stdout",
          "text": [
            "Best parameter (CV score=0.955):\n",
            "{'pca__n_components': 50, 'rfc__n_estimators': 150}\n"
          ]
        }
      ],
      "source": [
        "print(\"Best parameter (CV score=%0.3f):\" % grid.best_score_)\n",
        "print(grid.best_params_)"
      ],
      "metadata": {
        "id": "_wlRxNDCcpdA",
        "outputId": "91417ee5-c425-4c4e-b8e6-a6cc4ec92160",
        "colab": {
          "base_uri": "https://localhost:8080/"
        }
      }
    },
    {
      "cell_type": "code",
      "source": [],
      "metadata": {
        "id": "ZIChGEmk0qnw"
      },
      "execution_count": null,
      "outputs": []
    },
    {
      "cell_type": "markdown",
      "source": [
        "# PIPELINE RANDOM FOREST"
      ],
      "metadata": {
        "id": "gO4yMLP524-d"
      }
    },
    {
      "cell_type": "code",
      "source": [
        "from sklearn.decomposition import PCA\n",
        "from sklearn.preprocessing import StandardScaler\n",
        "from sklearn.pipeline import Pipeline\n",
        "from sklearn.ensemble import RandomForestClassifier\n",
        "\n",
        "pca = PCA()\n",
        "scaler = StandardScaler()\n",
        "rfc = RandomForestClassifier()\n",
        "pipe = Pipeline([('scaler', scaler), ('pca', pca), ('rfc', rfc)])\n",
        "\n",
        "param_grid = {\n",
        "    \"pca__n_components\": [30, 50, 100],\n",
        "    \"rfc__n_estimators\": [100, 150, 200],\n",
        "}"
      ],
      "metadata": {
        "id": "1zb4-ssL2-Em"
      },
      "execution_count": 31,
      "outputs": []
    },
    {
      "cell_type": "code",
      "source": [
        "from sklearn.model_selection import GridSearchCV\n",
        "grid = GridSearchCV(pipe, param_grid, cv=5, n_jobs=-1, verbose=3)\n",
        "grid.fit(X_train, y_train)"
      ],
      "metadata": {
        "id": "Ux9NbQm-5MlL",
        "outputId": "3a4b03d3-1cf1-4370-d49f-b75da035e687",
        "colab": {
          "base_uri": "https://localhost:8080/",
          "height": 203
        }
      },
      "execution_count": 32,
      "outputs": [
        {
          "output_type": "stream",
          "name": "stdout",
          "text": [
            "Fitting 5 folds for each of 9 candidates, totalling 45 fits\n"
          ]
        },
        {
          "output_type": "execute_result",
          "data": {
            "text/plain": [
              "GridSearchCV(cv=5,\n",
              "             estimator=Pipeline(steps=[('scaler', StandardScaler()),\n",
              "                                       ('pca', PCA()),\n",
              "                                       ('rfc', RandomForestClassifier())]),\n",
              "             n_jobs=-1,\n",
              "             param_grid={'pca__n_components': [30, 50, 100],\n",
              "                         'rfc__n_estimators': [100, 150, 200]},\n",
              "             verbose=3)"
            ],
            "text/html": [
              "<style>#sk-container-id-4 {color: black;background-color: white;}#sk-container-id-4 pre{padding: 0;}#sk-container-id-4 div.sk-toggleable {background-color: white;}#sk-container-id-4 label.sk-toggleable__label {cursor: pointer;display: block;width: 100%;margin-bottom: 0;padding: 0.3em;box-sizing: border-box;text-align: center;}#sk-container-id-4 label.sk-toggleable__label-arrow:before {content: \"▸\";float: left;margin-right: 0.25em;color: #696969;}#sk-container-id-4 label.sk-toggleable__label-arrow:hover:before {color: black;}#sk-container-id-4 div.sk-estimator:hover label.sk-toggleable__label-arrow:before {color: black;}#sk-container-id-4 div.sk-toggleable__content {max-height: 0;max-width: 0;overflow: hidden;text-align: left;background-color: #f0f8ff;}#sk-container-id-4 div.sk-toggleable__content pre {margin: 0.2em;color: black;border-radius: 0.25em;background-color: #f0f8ff;}#sk-container-id-4 input.sk-toggleable__control:checked~div.sk-toggleable__content {max-height: 200px;max-width: 100%;overflow: auto;}#sk-container-id-4 input.sk-toggleable__control:checked~label.sk-toggleable__label-arrow:before {content: \"▾\";}#sk-container-id-4 div.sk-estimator input.sk-toggleable__control:checked~label.sk-toggleable__label {background-color: #d4ebff;}#sk-container-id-4 div.sk-label input.sk-toggleable__control:checked~label.sk-toggleable__label {background-color: #d4ebff;}#sk-container-id-4 input.sk-hidden--visually {border: 0;clip: rect(1px 1px 1px 1px);clip: rect(1px, 1px, 1px, 1px);height: 1px;margin: -1px;overflow: hidden;padding: 0;position: absolute;width: 1px;}#sk-container-id-4 div.sk-estimator {font-family: monospace;background-color: #f0f8ff;border: 1px dotted black;border-radius: 0.25em;box-sizing: border-box;margin-bottom: 0.5em;}#sk-container-id-4 div.sk-estimator:hover {background-color: #d4ebff;}#sk-container-id-4 div.sk-parallel-item::after {content: \"\";width: 100%;border-bottom: 1px solid gray;flex-grow: 1;}#sk-container-id-4 div.sk-label:hover label.sk-toggleable__label {background-color: #d4ebff;}#sk-container-id-4 div.sk-serial::before {content: \"\";position: absolute;border-left: 1px solid gray;box-sizing: border-box;top: 0;bottom: 0;left: 50%;z-index: 0;}#sk-container-id-4 div.sk-serial {display: flex;flex-direction: column;align-items: center;background-color: white;padding-right: 0.2em;padding-left: 0.2em;position: relative;}#sk-container-id-4 div.sk-item {position: relative;z-index: 1;}#sk-container-id-4 div.sk-parallel {display: flex;align-items: stretch;justify-content: center;background-color: white;position: relative;}#sk-container-id-4 div.sk-item::before, #sk-container-id-4 div.sk-parallel-item::before {content: \"\";position: absolute;border-left: 1px solid gray;box-sizing: border-box;top: 0;bottom: 0;left: 50%;z-index: -1;}#sk-container-id-4 div.sk-parallel-item {display: flex;flex-direction: column;z-index: 1;position: relative;background-color: white;}#sk-container-id-4 div.sk-parallel-item:first-child::after {align-self: flex-end;width: 50%;}#sk-container-id-4 div.sk-parallel-item:last-child::after {align-self: flex-start;width: 50%;}#sk-container-id-4 div.sk-parallel-item:only-child::after {width: 0;}#sk-container-id-4 div.sk-dashed-wrapped {border: 1px dashed gray;margin: 0 0.4em 0.5em 0.4em;box-sizing: border-box;padding-bottom: 0.4em;background-color: white;}#sk-container-id-4 div.sk-label label {font-family: monospace;font-weight: bold;display: inline-block;line-height: 1.2em;}#sk-container-id-4 div.sk-label-container {text-align: center;}#sk-container-id-4 div.sk-container {/* jupyter's `normalize.less` sets `[hidden] { display: none; }` but bootstrap.min.css set `[hidden] { display: none !important; }` so we also need the `!important` here to be able to override the default hidden behavior on the sphinx rendered scikit-learn.org. See: https://github.com/scikit-learn/scikit-learn/issues/21755 */display: inline-block !important;position: relative;}#sk-container-id-4 div.sk-text-repr-fallback {display: none;}</style><div id=\"sk-container-id-4\" class=\"sk-top-container\"><div class=\"sk-text-repr-fallback\"><pre>GridSearchCV(cv=5,\n",
              "             estimator=Pipeline(steps=[(&#x27;scaler&#x27;, StandardScaler()),\n",
              "                                       (&#x27;pca&#x27;, PCA()),\n",
              "                                       (&#x27;rfc&#x27;, RandomForestClassifier())]),\n",
              "             n_jobs=-1,\n",
              "             param_grid={&#x27;pca__n_components&#x27;: [30, 50, 100],\n",
              "                         &#x27;rfc__n_estimators&#x27;: [100, 150, 200]},\n",
              "             verbose=3)</pre><b>In a Jupyter environment, please rerun this cell to show the HTML representation or trust the notebook. <br />On GitHub, the HTML representation is unable to render, please try loading this page with nbviewer.org.</b></div><div class=\"sk-container\" hidden><div class=\"sk-item sk-dashed-wrapped\"><div class=\"sk-label-container\"><div class=\"sk-label sk-toggleable\"><input class=\"sk-toggleable__control sk-hidden--visually\" id=\"sk-estimator-id-16\" type=\"checkbox\" ><label for=\"sk-estimator-id-16\" class=\"sk-toggleable__label sk-toggleable__label-arrow\">GridSearchCV</label><div class=\"sk-toggleable__content\"><pre>GridSearchCV(cv=5,\n",
              "             estimator=Pipeline(steps=[(&#x27;scaler&#x27;, StandardScaler()),\n",
              "                                       (&#x27;pca&#x27;, PCA()),\n",
              "                                       (&#x27;rfc&#x27;, RandomForestClassifier())]),\n",
              "             n_jobs=-1,\n",
              "             param_grid={&#x27;pca__n_components&#x27;: [30, 50, 100],\n",
              "                         &#x27;rfc__n_estimators&#x27;: [100, 150, 200]},\n",
              "             verbose=3)</pre></div></div></div><div class=\"sk-parallel\"><div class=\"sk-parallel-item\"><div class=\"sk-item\"><div class=\"sk-label-container\"><div class=\"sk-label sk-toggleable\"><input class=\"sk-toggleable__control sk-hidden--visually\" id=\"sk-estimator-id-17\" type=\"checkbox\" ><label for=\"sk-estimator-id-17\" class=\"sk-toggleable__label sk-toggleable__label-arrow\">estimator: Pipeline</label><div class=\"sk-toggleable__content\"><pre>Pipeline(steps=[(&#x27;scaler&#x27;, StandardScaler()), (&#x27;pca&#x27;, PCA()),\n",
              "                (&#x27;rfc&#x27;, RandomForestClassifier())])</pre></div></div></div><div class=\"sk-serial\"><div class=\"sk-item\"><div class=\"sk-serial\"><div class=\"sk-item\"><div class=\"sk-estimator sk-toggleable\"><input class=\"sk-toggleable__control sk-hidden--visually\" id=\"sk-estimator-id-18\" type=\"checkbox\" ><label for=\"sk-estimator-id-18\" class=\"sk-toggleable__label sk-toggleable__label-arrow\">StandardScaler</label><div class=\"sk-toggleable__content\"><pre>StandardScaler()</pre></div></div></div><div class=\"sk-item\"><div class=\"sk-estimator sk-toggleable\"><input class=\"sk-toggleable__control sk-hidden--visually\" id=\"sk-estimator-id-19\" type=\"checkbox\" ><label for=\"sk-estimator-id-19\" class=\"sk-toggleable__label sk-toggleable__label-arrow\">PCA</label><div class=\"sk-toggleable__content\"><pre>PCA()</pre></div></div></div><div class=\"sk-item\"><div class=\"sk-estimator sk-toggleable\"><input class=\"sk-toggleable__control sk-hidden--visually\" id=\"sk-estimator-id-20\" type=\"checkbox\" ><label for=\"sk-estimator-id-20\" class=\"sk-toggleable__label sk-toggleable__label-arrow\">RandomForestClassifier</label><div class=\"sk-toggleable__content\"><pre>RandomForestClassifier()</pre></div></div></div></div></div></div></div></div></div></div></div></div>"
            ]
          },
          "metadata": {},
          "execution_count": 32
        }
      ]
    },
    {
      "cell_type": "code",
      "source": [
        "print(\"Best parameter (CV score=%0.3f):\" % grid.best_score_)\n",
        "print(grid.best_params_)"
      ],
      "metadata": {
        "id": "wZPjmrlT5UZm",
        "outputId": "ef41ce17-c1f4-4d41-d160-dc4bab55cd67",
        "colab": {
          "base_uri": "https://localhost:8080/"
        }
      },
      "execution_count": 34,
      "outputs": [
        {
          "output_type": "stream",
          "name": "stdout",
          "text": [
            "Best parameter (CV score=0.955):\n",
            "{'pca__n_components': 50, 'rfc__n_estimators': 150}\n"
          ]
        }
      ]
    },
    {
      "cell_type": "code",
      "source": [
        "grid.score(X_test, y_test)"
      ],
      "metadata": {
        "id": "DN7okhVe61Vx",
        "outputId": "d270ecb3-2c1e-487c-bcca-49a87496bd15",
        "colab": {
          "base_uri": "https://localhost:8080/"
        }
      },
      "execution_count": 39,
      "outputs": [
        {
          "output_type": "execute_result",
          "data": {
            "text/plain": [
              "0.9623971797884842"
            ]
          },
          "metadata": {},
          "execution_count": 39
        }
      ]
    },
    {
      "cell_type": "code",
      "source": [
        "estimator = grid.best_estimator_\n"
      ],
      "metadata": {
        "id": "FokqyMYu7R9p",
        "outputId": "2b4be839-c291-48c2-85fb-ec87da953b32",
        "colab": {
          "base_uri": "https://localhost:8080/",
          "height": 160
        }
      },
      "execution_count": 40,
      "outputs": [
        {
          "output_type": "execute_result",
          "data": {
            "text/plain": [
              "Pipeline(steps=[('scaler', StandardScaler()), ('pca', PCA(n_components=50)),\n",
              "                ('rfc', RandomForestClassifier(n_estimators=150))])"
            ],
            "text/html": [
              "<style>#sk-container-id-5 {color: black;background-color: white;}#sk-container-id-5 pre{padding: 0;}#sk-container-id-5 div.sk-toggleable {background-color: white;}#sk-container-id-5 label.sk-toggleable__label {cursor: pointer;display: block;width: 100%;margin-bottom: 0;padding: 0.3em;box-sizing: border-box;text-align: center;}#sk-container-id-5 label.sk-toggleable__label-arrow:before {content: \"▸\";float: left;margin-right: 0.25em;color: #696969;}#sk-container-id-5 label.sk-toggleable__label-arrow:hover:before {color: black;}#sk-container-id-5 div.sk-estimator:hover label.sk-toggleable__label-arrow:before {color: black;}#sk-container-id-5 div.sk-toggleable__content {max-height: 0;max-width: 0;overflow: hidden;text-align: left;background-color: #f0f8ff;}#sk-container-id-5 div.sk-toggleable__content pre {margin: 0.2em;color: black;border-radius: 0.25em;background-color: #f0f8ff;}#sk-container-id-5 input.sk-toggleable__control:checked~div.sk-toggleable__content {max-height: 200px;max-width: 100%;overflow: auto;}#sk-container-id-5 input.sk-toggleable__control:checked~label.sk-toggleable__label-arrow:before {content: \"▾\";}#sk-container-id-5 div.sk-estimator input.sk-toggleable__control:checked~label.sk-toggleable__label {background-color: #d4ebff;}#sk-container-id-5 div.sk-label input.sk-toggleable__control:checked~label.sk-toggleable__label {background-color: #d4ebff;}#sk-container-id-5 input.sk-hidden--visually {border: 0;clip: rect(1px 1px 1px 1px);clip: rect(1px, 1px, 1px, 1px);height: 1px;margin: -1px;overflow: hidden;padding: 0;position: absolute;width: 1px;}#sk-container-id-5 div.sk-estimator {font-family: monospace;background-color: #f0f8ff;border: 1px dotted black;border-radius: 0.25em;box-sizing: border-box;margin-bottom: 0.5em;}#sk-container-id-5 div.sk-estimator:hover {background-color: #d4ebff;}#sk-container-id-5 div.sk-parallel-item::after {content: \"\";width: 100%;border-bottom: 1px solid gray;flex-grow: 1;}#sk-container-id-5 div.sk-label:hover label.sk-toggleable__label {background-color: #d4ebff;}#sk-container-id-5 div.sk-serial::before {content: \"\";position: absolute;border-left: 1px solid gray;box-sizing: border-box;top: 0;bottom: 0;left: 50%;z-index: 0;}#sk-container-id-5 div.sk-serial {display: flex;flex-direction: column;align-items: center;background-color: white;padding-right: 0.2em;padding-left: 0.2em;position: relative;}#sk-container-id-5 div.sk-item {position: relative;z-index: 1;}#sk-container-id-5 div.sk-parallel {display: flex;align-items: stretch;justify-content: center;background-color: white;position: relative;}#sk-container-id-5 div.sk-item::before, #sk-container-id-5 div.sk-parallel-item::before {content: \"\";position: absolute;border-left: 1px solid gray;box-sizing: border-box;top: 0;bottom: 0;left: 50%;z-index: -1;}#sk-container-id-5 div.sk-parallel-item {display: flex;flex-direction: column;z-index: 1;position: relative;background-color: white;}#sk-container-id-5 div.sk-parallel-item:first-child::after {align-self: flex-end;width: 50%;}#sk-container-id-5 div.sk-parallel-item:last-child::after {align-self: flex-start;width: 50%;}#sk-container-id-5 div.sk-parallel-item:only-child::after {width: 0;}#sk-container-id-5 div.sk-dashed-wrapped {border: 1px dashed gray;margin: 0 0.4em 0.5em 0.4em;box-sizing: border-box;padding-bottom: 0.4em;background-color: white;}#sk-container-id-5 div.sk-label label {font-family: monospace;font-weight: bold;display: inline-block;line-height: 1.2em;}#sk-container-id-5 div.sk-label-container {text-align: center;}#sk-container-id-5 div.sk-container {/* jupyter's `normalize.less` sets `[hidden] { display: none; }` but bootstrap.min.css set `[hidden] { display: none !important; }` so we also need the `!important` here to be able to override the default hidden behavior on the sphinx rendered scikit-learn.org. See: https://github.com/scikit-learn/scikit-learn/issues/21755 */display: inline-block !important;position: relative;}#sk-container-id-5 div.sk-text-repr-fallback {display: none;}</style><div id=\"sk-container-id-5\" class=\"sk-top-container\"><div class=\"sk-text-repr-fallback\"><pre>Pipeline(steps=[(&#x27;scaler&#x27;, StandardScaler()), (&#x27;pca&#x27;, PCA(n_components=50)),\n",
              "                (&#x27;rfc&#x27;, RandomForestClassifier(n_estimators=150))])</pre><b>In a Jupyter environment, please rerun this cell to show the HTML representation or trust the notebook. <br />On GitHub, the HTML representation is unable to render, please try loading this page with nbviewer.org.</b></div><div class=\"sk-container\" hidden><div class=\"sk-item sk-dashed-wrapped\"><div class=\"sk-label-container\"><div class=\"sk-label sk-toggleable\"><input class=\"sk-toggleable__control sk-hidden--visually\" id=\"sk-estimator-id-21\" type=\"checkbox\" ><label for=\"sk-estimator-id-21\" class=\"sk-toggleable__label sk-toggleable__label-arrow\">Pipeline</label><div class=\"sk-toggleable__content\"><pre>Pipeline(steps=[(&#x27;scaler&#x27;, StandardScaler()), (&#x27;pca&#x27;, PCA(n_components=50)),\n",
              "                (&#x27;rfc&#x27;, RandomForestClassifier(n_estimators=150))])</pre></div></div></div><div class=\"sk-serial\"><div class=\"sk-item\"><div class=\"sk-estimator sk-toggleable\"><input class=\"sk-toggleable__control sk-hidden--visually\" id=\"sk-estimator-id-22\" type=\"checkbox\" ><label for=\"sk-estimator-id-22\" class=\"sk-toggleable__label sk-toggleable__label-arrow\">StandardScaler</label><div class=\"sk-toggleable__content\"><pre>StandardScaler()</pre></div></div></div><div class=\"sk-item\"><div class=\"sk-estimator sk-toggleable\"><input class=\"sk-toggleable__control sk-hidden--visually\" id=\"sk-estimator-id-23\" type=\"checkbox\" ><label for=\"sk-estimator-id-23\" class=\"sk-toggleable__label sk-toggleable__label-arrow\">PCA</label><div class=\"sk-toggleable__content\"><pre>PCA(n_components=50)</pre></div></div></div><div class=\"sk-item\"><div class=\"sk-estimator sk-toggleable\"><input class=\"sk-toggleable__control sk-hidden--visually\" id=\"sk-estimator-id-24\" type=\"checkbox\" ><label for=\"sk-estimator-id-24\" class=\"sk-toggleable__label sk-toggleable__label-arrow\">RandomForestClassifier</label><div class=\"sk-toggleable__content\"><pre>RandomForestClassifier(n_estimators=150)</pre></div></div></div></div></div></div></div>"
            ]
          },
          "metadata": {},
          "execution_count": 40
        }
      ]
    },
    {
      "cell_type": "code",
      "source": [
        "y_pred = estimator.predict(X_test)\n",
        "from sklearn.metrics import f1_score, confusion_matrix\n",
        "print(f1_score(y_test, y_pred, average='weighted'))"
      ],
      "metadata": {
        "id": "Fq-uD4qn8mbs",
        "outputId": "b3a1d3dd-ac6a-4669-fd35-b6374924cf77",
        "colab": {
          "base_uri": "https://localhost:8080/"
        }
      },
      "execution_count": 43,
      "outputs": [
        {
          "output_type": "stream",
          "name": "stdout",
          "text": [
            "0.96209127507752\n"
          ]
        }
      ]
    },
    {
      "cell_type": "code",
      "source": [],
      "metadata": {
        "id": "A2SbwBhf8ya_"
      },
      "execution_count": null,
      "outputs": []
    }
  ],
  "metadata": {
    "kernelspec": {
      "display_name": "Python 3",
      "name": "python3"
    },
    "language_info": {
      "codemirror_mode": {
        "name": "ipython",
        "version": 2
      },
      "file_extension": ".py",
      "mimetype": "text/x-python",
      "name": "python",
      "nbconvert_exporter": "python",
      "pygments_lexer": "ipython2",
      "version": "2.7.6"
    },
    "colab": {
      "provenance": [],
      "gpuType": "T4",
      "include_colab_link": true
    },
    "accelerator": "GPU"
  },
  "nbformat": 4,
  "nbformat_minor": 0
}