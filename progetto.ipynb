{
  "cells": [
    {
      "cell_type": "markdown",
      "metadata": {
        "id": "view-in-github",
        "colab_type": "text"
      },
      "source": [
        "<a href=\"https://colab.research.google.com/github/Andreher00/ml-project/blob/main/progetto.ipynb\" target=\"_parent\"><img src=\"https://colab.research.google.com/assets/colab-badge.svg\" alt=\"Open In Colab\"/></a>"
      ]
    },
    {
      "cell_type": "markdown",
      "source": [
        "# Machine learning for cell type classification from single nucleus RNA sequencing data\n",
        "\n",
        "---\n",
        "\n"
      ],
      "metadata": {
        "id": "V60H2OA6nuVk"
      }
    },
    {
      "cell_type": "code",
      "source": [
        "import pandas as pd\n",
        "import numpy as np\n",
        "import matplotlib.pyplot as plt\n",
        "import seaborn as sns\n",
        "from sklearn.model_selection import train_test_split"
      ],
      "metadata": {
        "id": "RgjM70ykYqbg"
      },
      "execution_count": 1,
      "outputs": []
    },
    {
      "cell_type": "code",
      "source": [
        "from google.colab import drive\n",
        "drive.mount('/content/drive', force_remount=True)"
      ],
      "metadata": {
        "colab": {
          "base_uri": "https://localhost:8080/"
        },
        "id": "shrzBW54cwCB",
        "outputId": "a04054b8-5e34-4106-ca6d-adda74143abc"
      },
      "execution_count": 2,
      "outputs": [
        {
          "output_type": "stream",
          "name": "stdout",
          "text": [
            "Mounted at /content/drive\n"
          ]
        }
      ]
    },
    {
      "cell_type": "markdown",
      "source": [
        "Reading mouse brain dataset"
      ],
      "metadata": {
        "id": "p8ZEFBofS583"
      }
    },
    {
      "cell_type": "code",
      "execution_count": 3,
      "outputs": [],
      "source": [
        "data = pd.read_csv('/content/drive/MyDrive/progettoML/brain_counts.csv.gz')\n",
        "annotations = pd.read_csv('/content/drive/MyDrive/progettoML/brain_metadata.csv')"
      ],
      "metadata": {
        "ExecuteTime": {
          "end_time": "2023-06-27T09:20:04.178778Z",
          "start_time": "2023-06-27T09:18:03.957939900Z"
        },
        "id": "J0CK2ut5cpcP"
      }
    },
    {
      "cell_type": "code",
      "source": [
        "annotations[\"cell_ontology_class\"].value_counts()"
      ],
      "metadata": {
        "id": "1-mj4QdxLn5U",
        "outputId": "ffdb4667-25e6-4ab5-bc0a-92585f7b947e",
        "colab": {
          "base_uri": "https://localhost:8080/"
        }
      },
      "execution_count": 4,
      "outputs": [
        {
          "output_type": "execute_result",
          "data": {
            "text/plain": [
              "oligodendrocyte                   1574\n",
              "endothelial cell                   715\n",
              "astrocyte                          432\n",
              "neuron                             281\n",
              "oligodendrocyte precursor cell     203\n",
              "brain pericyte                     156\n",
              "Bergmann glial cell                 40\n",
              "Name: cell_ontology_class, dtype: int64"
            ]
          },
          "metadata": {},
          "execution_count": 4
        }
      ]
    },
    {
      "cell_type": "code",
      "execution_count": 5,
      "outputs": [
        {
          "output_type": "execute_result",
          "data": {
            "text/plain": [
              "(3401, 23434)"
            ]
          },
          "metadata": {},
          "execution_count": 5
        }
      ],
      "source": [
        "data.shape"
      ],
      "metadata": {
        "ExecuteTime": {
          "end_time": "2023-06-27T09:20:07.708466800Z",
          "start_time": "2023-06-27T09:20:07.627836300Z"
        },
        "id": "tA0JNV3PcpcR",
        "outputId": "c9b774ea-a0ae-4d49-9fca-338676a10a60",
        "colab": {
          "base_uri": "https://localhost:8080/"
        }
      }
    },
    {
      "cell_type": "code",
      "execution_count": 6,
      "outputs": [
        {
          "output_type": "execute_result",
          "data": {
            "text/plain": [
              "                Unnamed: 0  0610005C13Rik  0610007C21Rik  0610007L01Rik  \\\n",
              "0    A1.B003290.3_38_F.1.1              0            125             16   \n",
              "1    A1.B003728.3_56_F.1.1              0              0              0   \n",
              "2  A1.MAA000560.3_10_M.1.1              0            348              0   \n",
              "3  A1.MAA000564.3_10_M.1.1              0             41             36   \n",
              "4   A1.MAA000923.3_9_M.1.1              0             53              0   \n",
              "\n",
              "   0610007N19Rik  0610007P08Rik  0610007P14Rik  0610007P22Rik  0610008F07Rik  \\\n",
              "0              0              0              0              0              0   \n",
              "1              0              0            324              0              0   \n",
              "2              0              0              5              0              0   \n",
              "3              0              0             24              0              0   \n",
              "4              0              0              0              0              0   \n",
              "\n",
              "   0610009B14Rik  ...  Zxdb  Zxdc  Zyg11a  Zyg11b  Zyx  Zzef1  Zzz3  a  l7Rn6  \\\n",
              "0              0  ...     0     0       0       0    0      0     0  0     54   \n",
              "1              0  ...     0     0       0       0    0      0     0  0      0   \n",
              "2              0  ...     0     0       0       0    0    195     0  0    113   \n",
              "3              0  ...     0     0       0       0  125      0     1  0      0   \n",
              "4              0  ...     0     0       0      81    0      0     0  0      0   \n",
              "\n",
              "   zsGreen_transgene  \n",
              "0                  0  \n",
              "1                  0  \n",
              "2                  0  \n",
              "3                  0  \n",
              "4                  0  \n",
              "\n",
              "[5 rows x 23434 columns]"
            ],
            "text/html": [
              "\n",
              "\n",
              "  <div id=\"df-67ffe551-ae1c-41c3-960a-51be1158ae1e\">\n",
              "    <div class=\"colab-df-container\">\n",
              "      <div>\n",
              "<style scoped>\n",
              "    .dataframe tbody tr th:only-of-type {\n",
              "        vertical-align: middle;\n",
              "    }\n",
              "\n",
              "    .dataframe tbody tr th {\n",
              "        vertical-align: top;\n",
              "    }\n",
              "\n",
              "    .dataframe thead th {\n",
              "        text-align: right;\n",
              "    }\n",
              "</style>\n",
              "<table border=\"1\" class=\"dataframe\">\n",
              "  <thead>\n",
              "    <tr style=\"text-align: right;\">\n",
              "      <th></th>\n",
              "      <th>Unnamed: 0</th>\n",
              "      <th>0610005C13Rik</th>\n",
              "      <th>0610007C21Rik</th>\n",
              "      <th>0610007L01Rik</th>\n",
              "      <th>0610007N19Rik</th>\n",
              "      <th>0610007P08Rik</th>\n",
              "      <th>0610007P14Rik</th>\n",
              "      <th>0610007P22Rik</th>\n",
              "      <th>0610008F07Rik</th>\n",
              "      <th>0610009B14Rik</th>\n",
              "      <th>...</th>\n",
              "      <th>Zxdb</th>\n",
              "      <th>Zxdc</th>\n",
              "      <th>Zyg11a</th>\n",
              "      <th>Zyg11b</th>\n",
              "      <th>Zyx</th>\n",
              "      <th>Zzef1</th>\n",
              "      <th>Zzz3</th>\n",
              "      <th>a</th>\n",
              "      <th>l7Rn6</th>\n",
              "      <th>zsGreen_transgene</th>\n",
              "    </tr>\n",
              "  </thead>\n",
              "  <tbody>\n",
              "    <tr>\n",
              "      <th>0</th>\n",
              "      <td>A1.B003290.3_38_F.1.1</td>\n",
              "      <td>0</td>\n",
              "      <td>125</td>\n",
              "      <td>16</td>\n",
              "      <td>0</td>\n",
              "      <td>0</td>\n",
              "      <td>0</td>\n",
              "      <td>0</td>\n",
              "      <td>0</td>\n",
              "      <td>0</td>\n",
              "      <td>...</td>\n",
              "      <td>0</td>\n",
              "      <td>0</td>\n",
              "      <td>0</td>\n",
              "      <td>0</td>\n",
              "      <td>0</td>\n",
              "      <td>0</td>\n",
              "      <td>0</td>\n",
              "      <td>0</td>\n",
              "      <td>54</td>\n",
              "      <td>0</td>\n",
              "    </tr>\n",
              "    <tr>\n",
              "      <th>1</th>\n",
              "      <td>A1.B003728.3_56_F.1.1</td>\n",
              "      <td>0</td>\n",
              "      <td>0</td>\n",
              "      <td>0</td>\n",
              "      <td>0</td>\n",
              "      <td>0</td>\n",
              "      <td>324</td>\n",
              "      <td>0</td>\n",
              "      <td>0</td>\n",
              "      <td>0</td>\n",
              "      <td>...</td>\n",
              "      <td>0</td>\n",
              "      <td>0</td>\n",
              "      <td>0</td>\n",
              "      <td>0</td>\n",
              "      <td>0</td>\n",
              "      <td>0</td>\n",
              "      <td>0</td>\n",
              "      <td>0</td>\n",
              "      <td>0</td>\n",
              "      <td>0</td>\n",
              "    </tr>\n",
              "    <tr>\n",
              "      <th>2</th>\n",
              "      <td>A1.MAA000560.3_10_M.1.1</td>\n",
              "      <td>0</td>\n",
              "      <td>348</td>\n",
              "      <td>0</td>\n",
              "      <td>0</td>\n",
              "      <td>0</td>\n",
              "      <td>5</td>\n",
              "      <td>0</td>\n",
              "      <td>0</td>\n",
              "      <td>0</td>\n",
              "      <td>...</td>\n",
              "      <td>0</td>\n",
              "      <td>0</td>\n",
              "      <td>0</td>\n",
              "      <td>0</td>\n",
              "      <td>0</td>\n",
              "      <td>195</td>\n",
              "      <td>0</td>\n",
              "      <td>0</td>\n",
              "      <td>113</td>\n",
              "      <td>0</td>\n",
              "    </tr>\n",
              "    <tr>\n",
              "      <th>3</th>\n",
              "      <td>A1.MAA000564.3_10_M.1.1</td>\n",
              "      <td>0</td>\n",
              "      <td>41</td>\n",
              "      <td>36</td>\n",
              "      <td>0</td>\n",
              "      <td>0</td>\n",
              "      <td>24</td>\n",
              "      <td>0</td>\n",
              "      <td>0</td>\n",
              "      <td>0</td>\n",
              "      <td>...</td>\n",
              "      <td>0</td>\n",
              "      <td>0</td>\n",
              "      <td>0</td>\n",
              "      <td>0</td>\n",
              "      <td>125</td>\n",
              "      <td>0</td>\n",
              "      <td>1</td>\n",
              "      <td>0</td>\n",
              "      <td>0</td>\n",
              "      <td>0</td>\n",
              "    </tr>\n",
              "    <tr>\n",
              "      <th>4</th>\n",
              "      <td>A1.MAA000923.3_9_M.1.1</td>\n",
              "      <td>0</td>\n",
              "      <td>53</td>\n",
              "      <td>0</td>\n",
              "      <td>0</td>\n",
              "      <td>0</td>\n",
              "      <td>0</td>\n",
              "      <td>0</td>\n",
              "      <td>0</td>\n",
              "      <td>0</td>\n",
              "      <td>...</td>\n",
              "      <td>0</td>\n",
              "      <td>0</td>\n",
              "      <td>0</td>\n",
              "      <td>81</td>\n",
              "      <td>0</td>\n",
              "      <td>0</td>\n",
              "      <td>0</td>\n",
              "      <td>0</td>\n",
              "      <td>0</td>\n",
              "      <td>0</td>\n",
              "    </tr>\n",
              "  </tbody>\n",
              "</table>\n",
              "<p>5 rows × 23434 columns</p>\n",
              "</div>\n",
              "      <button class=\"colab-df-convert\" onclick=\"convertToInteractive('df-67ffe551-ae1c-41c3-960a-51be1158ae1e')\"\n",
              "              title=\"Convert this dataframe to an interactive table.\"\n",
              "              style=\"display:none;\">\n",
              "\n",
              "  <svg xmlns=\"http://www.w3.org/2000/svg\" height=\"24px\"viewBox=\"0 0 24 24\"\n",
              "       width=\"24px\">\n",
              "    <path d=\"M0 0h24v24H0V0z\" fill=\"none\"/>\n",
              "    <path d=\"M18.56 5.44l.94 2.06.94-2.06 2.06-.94-2.06-.94-.94-2.06-.94 2.06-2.06.94zm-11 1L8.5 8.5l.94-2.06 2.06-.94-2.06-.94L8.5 2.5l-.94 2.06-2.06.94zm10 10l.94 2.06.94-2.06 2.06-.94-2.06-.94-.94-2.06-.94 2.06-2.06.94z\"/><path d=\"M17.41 7.96l-1.37-1.37c-.4-.4-.92-.59-1.43-.59-.52 0-1.04.2-1.43.59L10.3 9.45l-7.72 7.72c-.78.78-.78 2.05 0 2.83L4 21.41c.39.39.9.59 1.41.59.51 0 1.02-.2 1.41-.59l7.78-7.78 2.81-2.81c.8-.78.8-2.07 0-2.86zM5.41 20L4 18.59l7.72-7.72 1.47 1.35L5.41 20z\"/>\n",
              "  </svg>\n",
              "      </button>\n",
              "\n",
              "\n",
              "\n",
              "    <div id=\"df-5bcdd93e-9876-4607-9aee-51cfe1509b68\">\n",
              "      <button class=\"colab-df-quickchart\" onclick=\"quickchart('df-5bcdd93e-9876-4607-9aee-51cfe1509b68')\"\n",
              "              title=\"Suggest charts.\"\n",
              "              style=\"display:none;\">\n",
              "\n",
              "<svg xmlns=\"http://www.w3.org/2000/svg\" height=\"24px\"viewBox=\"0 0 24 24\"\n",
              "     width=\"24px\">\n",
              "    <g>\n",
              "        <path d=\"M19 3H5c-1.1 0-2 .9-2 2v14c0 1.1.9 2 2 2h14c1.1 0 2-.9 2-2V5c0-1.1-.9-2-2-2zM9 17H7v-7h2v7zm4 0h-2V7h2v10zm4 0h-2v-4h2v4z\"/>\n",
              "    </g>\n",
              "</svg>\n",
              "      </button>\n",
              "    </div>\n",
              "\n",
              "<style>\n",
              "  .colab-df-quickchart {\n",
              "    background-color: #E8F0FE;\n",
              "    border: none;\n",
              "    border-radius: 50%;\n",
              "    cursor: pointer;\n",
              "    display: none;\n",
              "    fill: #1967D2;\n",
              "    height: 32px;\n",
              "    padding: 0 0 0 0;\n",
              "    width: 32px;\n",
              "  }\n",
              "\n",
              "  .colab-df-quickchart:hover {\n",
              "    background-color: #E2EBFA;\n",
              "    box-shadow: 0px 1px 2px rgba(60, 64, 67, 0.3), 0px 1px 3px 1px rgba(60, 64, 67, 0.15);\n",
              "    fill: #174EA6;\n",
              "  }\n",
              "\n",
              "  [theme=dark] .colab-df-quickchart {\n",
              "    background-color: #3B4455;\n",
              "    fill: #D2E3FC;\n",
              "  }\n",
              "\n",
              "  [theme=dark] .colab-df-quickchart:hover {\n",
              "    background-color: #434B5C;\n",
              "    box-shadow: 0px 1px 3px 1px rgba(0, 0, 0, 0.15);\n",
              "    filter: drop-shadow(0px 1px 2px rgba(0, 0, 0, 0.3));\n",
              "    fill: #FFFFFF;\n",
              "  }\n",
              "</style>\n",
              "\n",
              "    <script>\n",
              "      async function quickchart(key) {\n",
              "        const containerElement = document.querySelector('#' + key);\n",
              "        const charts = await google.colab.kernel.invokeFunction(\n",
              "            'suggestCharts', [key], {});\n",
              "      }\n",
              "    </script>\n",
              "\n",
              "      <script>\n",
              "\n",
              "function displayQuickchartButton(domScope) {\n",
              "  let quickchartButtonEl =\n",
              "    domScope.querySelector('#df-5bcdd93e-9876-4607-9aee-51cfe1509b68 button.colab-df-quickchart');\n",
              "  quickchartButtonEl.style.display =\n",
              "    google.colab.kernel.accessAllowed ? 'block' : 'none';\n",
              "}\n",
              "\n",
              "        displayQuickchartButton(document);\n",
              "      </script>\n",
              "      <style>\n",
              "    .colab-df-container {\n",
              "      display:flex;\n",
              "      flex-wrap:wrap;\n",
              "      gap: 12px;\n",
              "    }\n",
              "\n",
              "    .colab-df-convert {\n",
              "      background-color: #E8F0FE;\n",
              "      border: none;\n",
              "      border-radius: 50%;\n",
              "      cursor: pointer;\n",
              "      display: none;\n",
              "      fill: #1967D2;\n",
              "      height: 32px;\n",
              "      padding: 0 0 0 0;\n",
              "      width: 32px;\n",
              "    }\n",
              "\n",
              "    .colab-df-convert:hover {\n",
              "      background-color: #E2EBFA;\n",
              "      box-shadow: 0px 1px 2px rgba(60, 64, 67, 0.3), 0px 1px 3px 1px rgba(60, 64, 67, 0.15);\n",
              "      fill: #174EA6;\n",
              "    }\n",
              "\n",
              "    [theme=dark] .colab-df-convert {\n",
              "      background-color: #3B4455;\n",
              "      fill: #D2E3FC;\n",
              "    }\n",
              "\n",
              "    [theme=dark] .colab-df-convert:hover {\n",
              "      background-color: #434B5C;\n",
              "      box-shadow: 0px 1px 3px 1px rgba(0, 0, 0, 0.15);\n",
              "      filter: drop-shadow(0px 1px 2px rgba(0, 0, 0, 0.3));\n",
              "      fill: #FFFFFF;\n",
              "    }\n",
              "  </style>\n",
              "\n",
              "      <script>\n",
              "        const buttonEl =\n",
              "          document.querySelector('#df-67ffe551-ae1c-41c3-960a-51be1158ae1e button.colab-df-convert');\n",
              "        buttonEl.style.display =\n",
              "          google.colab.kernel.accessAllowed ? 'block' : 'none';\n",
              "\n",
              "        async function convertToInteractive(key) {\n",
              "          const element = document.querySelector('#df-67ffe551-ae1c-41c3-960a-51be1158ae1e');\n",
              "          const dataTable =\n",
              "            await google.colab.kernel.invokeFunction('convertToInteractive',\n",
              "                                                     [key], {});\n",
              "          if (!dataTable) return;\n",
              "\n",
              "          const docLinkHtml = 'Like what you see? Visit the ' +\n",
              "            '<a target=\"_blank\" href=https://colab.research.google.com/notebooks/data_table.ipynb>data table notebook</a>'\n",
              "            + ' to learn more about interactive tables.';\n",
              "          element.innerHTML = '';\n",
              "          dataTable['output_type'] = 'display_data';\n",
              "          await google.colab.output.renderOutput(dataTable, element);\n",
              "          const docLink = document.createElement('div');\n",
              "          docLink.innerHTML = docLinkHtml;\n",
              "          element.appendChild(docLink);\n",
              "        }\n",
              "      </script>\n",
              "    </div>\n",
              "  </div>\n"
            ]
          },
          "metadata": {},
          "execution_count": 6
        }
      ],
      "source": [
        "data.head()"
      ],
      "metadata": {
        "ExecuteTime": {
          "end_time": "2023-06-27T09:20:12.692094700Z",
          "start_time": "2023-06-27T09:20:12.393254Z"
        },
        "id": "JRdOiZ5pcpcW",
        "outputId": "63985f27-acd6-4ce2-80c6-90f1fa2f9195",
        "colab": {
          "base_uri": "https://localhost:8080/",
          "height": 299
        }
      }
    },
    {
      "cell_type": "code",
      "execution_count": 7,
      "outputs": [
        {
          "output_type": "execute_result",
          "data": {
            "text/plain": [
              "                      cell cell_ontology_class    subtissue mouse.sex  \\\n",
              "0    A1.B003290.3_38_F.1.1           astrocyte     Striatum         F   \n",
              "1    A1.B003728.3_56_F.1.1           astrocyte     Striatum         F   \n",
              "2  A1.MAA000560.3_10_M.1.1     oligodendrocyte       Cortex         M   \n",
              "3  A1.MAA000564.3_10_M.1.1    endothelial cell     Striatum         M   \n",
              "4   A1.MAA000923.3_9_M.1.1           astrocyte  Hippocampus         M   \n",
              "\n",
              "  mouse.id plate.barcode  \n",
              "0   3_38_F       B003290  \n",
              "1   3_56_F       B003728  \n",
              "2   3_10_M     MAA000560  \n",
              "3   3_10_M     MAA000564  \n",
              "4    3_9_M     MAA000923  "
            ],
            "text/html": [
              "\n",
              "\n",
              "  <div id=\"df-5342b56c-b920-4c77-8f0a-802dec2a4dc1\">\n",
              "    <div class=\"colab-df-container\">\n",
              "      <div>\n",
              "<style scoped>\n",
              "    .dataframe tbody tr th:only-of-type {\n",
              "        vertical-align: middle;\n",
              "    }\n",
              "\n",
              "    .dataframe tbody tr th {\n",
              "        vertical-align: top;\n",
              "    }\n",
              "\n",
              "    .dataframe thead th {\n",
              "        text-align: right;\n",
              "    }\n",
              "</style>\n",
              "<table border=\"1\" class=\"dataframe\">\n",
              "  <thead>\n",
              "    <tr style=\"text-align: right;\">\n",
              "      <th></th>\n",
              "      <th>cell</th>\n",
              "      <th>cell_ontology_class</th>\n",
              "      <th>subtissue</th>\n",
              "      <th>mouse.sex</th>\n",
              "      <th>mouse.id</th>\n",
              "      <th>plate.barcode</th>\n",
              "    </tr>\n",
              "  </thead>\n",
              "  <tbody>\n",
              "    <tr>\n",
              "      <th>0</th>\n",
              "      <td>A1.B003290.3_38_F.1.1</td>\n",
              "      <td>astrocyte</td>\n",
              "      <td>Striatum</td>\n",
              "      <td>F</td>\n",
              "      <td>3_38_F</td>\n",
              "      <td>B003290</td>\n",
              "    </tr>\n",
              "    <tr>\n",
              "      <th>1</th>\n",
              "      <td>A1.B003728.3_56_F.1.1</td>\n",
              "      <td>astrocyte</td>\n",
              "      <td>Striatum</td>\n",
              "      <td>F</td>\n",
              "      <td>3_56_F</td>\n",
              "      <td>B003728</td>\n",
              "    </tr>\n",
              "    <tr>\n",
              "      <th>2</th>\n",
              "      <td>A1.MAA000560.3_10_M.1.1</td>\n",
              "      <td>oligodendrocyte</td>\n",
              "      <td>Cortex</td>\n",
              "      <td>M</td>\n",
              "      <td>3_10_M</td>\n",
              "      <td>MAA000560</td>\n",
              "    </tr>\n",
              "    <tr>\n",
              "      <th>3</th>\n",
              "      <td>A1.MAA000564.3_10_M.1.1</td>\n",
              "      <td>endothelial cell</td>\n",
              "      <td>Striatum</td>\n",
              "      <td>M</td>\n",
              "      <td>3_10_M</td>\n",
              "      <td>MAA000564</td>\n",
              "    </tr>\n",
              "    <tr>\n",
              "      <th>4</th>\n",
              "      <td>A1.MAA000923.3_9_M.1.1</td>\n",
              "      <td>astrocyte</td>\n",
              "      <td>Hippocampus</td>\n",
              "      <td>M</td>\n",
              "      <td>3_9_M</td>\n",
              "      <td>MAA000923</td>\n",
              "    </tr>\n",
              "  </tbody>\n",
              "</table>\n",
              "</div>\n",
              "      <button class=\"colab-df-convert\" onclick=\"convertToInteractive('df-5342b56c-b920-4c77-8f0a-802dec2a4dc1')\"\n",
              "              title=\"Convert this dataframe to an interactive table.\"\n",
              "              style=\"display:none;\">\n",
              "\n",
              "  <svg xmlns=\"http://www.w3.org/2000/svg\" height=\"24px\"viewBox=\"0 0 24 24\"\n",
              "       width=\"24px\">\n",
              "    <path d=\"M0 0h24v24H0V0z\" fill=\"none\"/>\n",
              "    <path d=\"M18.56 5.44l.94 2.06.94-2.06 2.06-.94-2.06-.94-.94-2.06-.94 2.06-2.06.94zm-11 1L8.5 8.5l.94-2.06 2.06-.94-2.06-.94L8.5 2.5l-.94 2.06-2.06.94zm10 10l.94 2.06.94-2.06 2.06-.94-2.06-.94-.94-2.06-.94 2.06-2.06.94z\"/><path d=\"M17.41 7.96l-1.37-1.37c-.4-.4-.92-.59-1.43-.59-.52 0-1.04.2-1.43.59L10.3 9.45l-7.72 7.72c-.78.78-.78 2.05 0 2.83L4 21.41c.39.39.9.59 1.41.59.51 0 1.02-.2 1.41-.59l7.78-7.78 2.81-2.81c.8-.78.8-2.07 0-2.86zM5.41 20L4 18.59l7.72-7.72 1.47 1.35L5.41 20z\"/>\n",
              "  </svg>\n",
              "      </button>\n",
              "\n",
              "\n",
              "\n",
              "    <div id=\"df-984682e4-337e-47b1-bac8-f427917850b8\">\n",
              "      <button class=\"colab-df-quickchart\" onclick=\"quickchart('df-984682e4-337e-47b1-bac8-f427917850b8')\"\n",
              "              title=\"Suggest charts.\"\n",
              "              style=\"display:none;\">\n",
              "\n",
              "<svg xmlns=\"http://www.w3.org/2000/svg\" height=\"24px\"viewBox=\"0 0 24 24\"\n",
              "     width=\"24px\">\n",
              "    <g>\n",
              "        <path d=\"M19 3H5c-1.1 0-2 .9-2 2v14c0 1.1.9 2 2 2h14c1.1 0 2-.9 2-2V5c0-1.1-.9-2-2-2zM9 17H7v-7h2v7zm4 0h-2V7h2v10zm4 0h-2v-4h2v4z\"/>\n",
              "    </g>\n",
              "</svg>\n",
              "      </button>\n",
              "    </div>\n",
              "\n",
              "<style>\n",
              "  .colab-df-quickchart {\n",
              "    background-color: #E8F0FE;\n",
              "    border: none;\n",
              "    border-radius: 50%;\n",
              "    cursor: pointer;\n",
              "    display: none;\n",
              "    fill: #1967D2;\n",
              "    height: 32px;\n",
              "    padding: 0 0 0 0;\n",
              "    width: 32px;\n",
              "  }\n",
              "\n",
              "  .colab-df-quickchart:hover {\n",
              "    background-color: #E2EBFA;\n",
              "    box-shadow: 0px 1px 2px rgba(60, 64, 67, 0.3), 0px 1px 3px 1px rgba(60, 64, 67, 0.15);\n",
              "    fill: #174EA6;\n",
              "  }\n",
              "\n",
              "  [theme=dark] .colab-df-quickchart {\n",
              "    background-color: #3B4455;\n",
              "    fill: #D2E3FC;\n",
              "  }\n",
              "\n",
              "  [theme=dark] .colab-df-quickchart:hover {\n",
              "    background-color: #434B5C;\n",
              "    box-shadow: 0px 1px 3px 1px rgba(0, 0, 0, 0.15);\n",
              "    filter: drop-shadow(0px 1px 2px rgba(0, 0, 0, 0.3));\n",
              "    fill: #FFFFFF;\n",
              "  }\n",
              "</style>\n",
              "\n",
              "    <script>\n",
              "      async function quickchart(key) {\n",
              "        const containerElement = document.querySelector('#' + key);\n",
              "        const charts = await google.colab.kernel.invokeFunction(\n",
              "            'suggestCharts', [key], {});\n",
              "      }\n",
              "    </script>\n",
              "\n",
              "      <script>\n",
              "\n",
              "function displayQuickchartButton(domScope) {\n",
              "  let quickchartButtonEl =\n",
              "    domScope.querySelector('#df-984682e4-337e-47b1-bac8-f427917850b8 button.colab-df-quickchart');\n",
              "  quickchartButtonEl.style.display =\n",
              "    google.colab.kernel.accessAllowed ? 'block' : 'none';\n",
              "}\n",
              "\n",
              "        displayQuickchartButton(document);\n",
              "      </script>\n",
              "      <style>\n",
              "    .colab-df-container {\n",
              "      display:flex;\n",
              "      flex-wrap:wrap;\n",
              "      gap: 12px;\n",
              "    }\n",
              "\n",
              "    .colab-df-convert {\n",
              "      background-color: #E8F0FE;\n",
              "      border: none;\n",
              "      border-radius: 50%;\n",
              "      cursor: pointer;\n",
              "      display: none;\n",
              "      fill: #1967D2;\n",
              "      height: 32px;\n",
              "      padding: 0 0 0 0;\n",
              "      width: 32px;\n",
              "    }\n",
              "\n",
              "    .colab-df-convert:hover {\n",
              "      background-color: #E2EBFA;\n",
              "      box-shadow: 0px 1px 2px rgba(60, 64, 67, 0.3), 0px 1px 3px 1px rgba(60, 64, 67, 0.15);\n",
              "      fill: #174EA6;\n",
              "    }\n",
              "\n",
              "    [theme=dark] .colab-df-convert {\n",
              "      background-color: #3B4455;\n",
              "      fill: #D2E3FC;\n",
              "    }\n",
              "\n",
              "    [theme=dark] .colab-df-convert:hover {\n",
              "      background-color: #434B5C;\n",
              "      box-shadow: 0px 1px 3px 1px rgba(0, 0, 0, 0.15);\n",
              "      filter: drop-shadow(0px 1px 2px rgba(0, 0, 0, 0.3));\n",
              "      fill: #FFFFFF;\n",
              "    }\n",
              "  </style>\n",
              "\n",
              "      <script>\n",
              "        const buttonEl =\n",
              "          document.querySelector('#df-5342b56c-b920-4c77-8f0a-802dec2a4dc1 button.colab-df-convert');\n",
              "        buttonEl.style.display =\n",
              "          google.colab.kernel.accessAllowed ? 'block' : 'none';\n",
              "\n",
              "        async function convertToInteractive(key) {\n",
              "          const element = document.querySelector('#df-5342b56c-b920-4c77-8f0a-802dec2a4dc1');\n",
              "          const dataTable =\n",
              "            await google.colab.kernel.invokeFunction('convertToInteractive',\n",
              "                                                     [key], {});\n",
              "          if (!dataTable) return;\n",
              "\n",
              "          const docLinkHtml = 'Like what you see? Visit the ' +\n",
              "            '<a target=\"_blank\" href=https://colab.research.google.com/notebooks/data_table.ipynb>data table notebook</a>'\n",
              "            + ' to learn more about interactive tables.';\n",
              "          element.innerHTML = '';\n",
              "          dataTable['output_type'] = 'display_data';\n",
              "          await google.colab.output.renderOutput(dataTable, element);\n",
              "          const docLink = document.createElement('div');\n",
              "          docLink.innerHTML = docLinkHtml;\n",
              "          element.appendChild(docLink);\n",
              "        }\n",
              "      </script>\n",
              "    </div>\n",
              "  </div>\n"
            ]
          },
          "metadata": {},
          "execution_count": 7
        }
      ],
      "source": [
        "annotations.head()"
      ],
      "metadata": {
        "ExecuteTime": {
          "end_time": "2023-06-27T09:20:17.224741500Z",
          "start_time": "2023-06-27T09:20:17.095191100Z"
        },
        "id": "neNzySvUcpca",
        "outputId": "0250d3dd-404d-452d-982b-001168b82c1f",
        "colab": {
          "base_uri": "https://localhost:8080/",
          "height": 206
        }
      }
    },
    {
      "cell_type": "code",
      "execution_count": 8,
      "outputs": [],
      "source": [
        "data.index = data['Unnamed: 0']"
      ],
      "metadata": {
        "ExecuteTime": {
          "end_time": "2023-06-27T09:20:24.970185700Z",
          "start_time": "2023-06-27T09:20:24.900695900Z"
        },
        "id": "qFEsExkicpcd"
      }
    },
    {
      "cell_type": "code",
      "execution_count": 9,
      "outputs": [],
      "source": [
        "data = data.drop('Unnamed: 0', axis=1)\n",
        "# change index name to cell\n",
        "data.index.name = 'cell'"
      ],
      "metadata": {
        "ExecuteTime": {
          "end_time": "2023-06-27T09:20:28.704088800Z",
          "start_time": "2023-06-27T09:20:26.844914600Z"
        },
        "id": "-ZP-vmAucpcf"
      }
    },
    {
      "cell_type": "code",
      "execution_count": 10,
      "outputs": [
        {
          "output_type": "execute_result",
          "data": {
            "text/plain": [
              "                         0610005C13Rik  0610007C21Rik  0610007L01Rik  \\\n",
              "cell                                                                   \n",
              "A1.B003290.3_38_F.1.1                0            125             16   \n",
              "A1.B003728.3_56_F.1.1                0              0              0   \n",
              "A1.MAA000560.3_10_M.1.1              0            348              0   \n",
              "A1.MAA000564.3_10_M.1.1              0             41             36   \n",
              "A1.MAA000923.3_9_M.1.1               0             53              0   \n",
              "\n",
              "                         0610007N19Rik  0610007P08Rik  0610007P14Rik  \\\n",
              "cell                                                                   \n",
              "A1.B003290.3_38_F.1.1                0              0              0   \n",
              "A1.B003728.3_56_F.1.1                0              0            324   \n",
              "A1.MAA000560.3_10_M.1.1              0              0              5   \n",
              "A1.MAA000564.3_10_M.1.1              0              0             24   \n",
              "A1.MAA000923.3_9_M.1.1               0              0              0   \n",
              "\n",
              "                         0610007P22Rik  0610008F07Rik  0610009B14Rik  \\\n",
              "cell                                                                   \n",
              "A1.B003290.3_38_F.1.1                0              0              0   \n",
              "A1.B003728.3_56_F.1.1                0              0              0   \n",
              "A1.MAA000560.3_10_M.1.1              0              0              0   \n",
              "A1.MAA000564.3_10_M.1.1              0              0              0   \n",
              "A1.MAA000923.3_9_M.1.1               0              0              0   \n",
              "\n",
              "                         0610009B22Rik  ...  Zxdb  Zxdc  Zyg11a  Zyg11b  Zyx  \\\n",
              "cell                                    ...                                    \n",
              "A1.B003290.3_38_F.1.1                0  ...     0     0       0       0    0   \n",
              "A1.B003728.3_56_F.1.1                0  ...     0     0       0       0    0   \n",
              "A1.MAA000560.3_10_M.1.1              0  ...     0     0       0       0    0   \n",
              "A1.MAA000564.3_10_M.1.1             14  ...     0     0       0       0  125   \n",
              "A1.MAA000923.3_9_M.1.1               0  ...     0     0       0      81    0   \n",
              "\n",
              "                         Zzef1  Zzz3  a  l7Rn6  zsGreen_transgene  \n",
              "cell                                                               \n",
              "A1.B003290.3_38_F.1.1        0     0  0     54                  0  \n",
              "A1.B003728.3_56_F.1.1        0     0  0      0                  0  \n",
              "A1.MAA000560.3_10_M.1.1    195     0  0    113                  0  \n",
              "A1.MAA000564.3_10_M.1.1      0     1  0      0                  0  \n",
              "A1.MAA000923.3_9_M.1.1       0     0  0      0                  0  \n",
              "\n",
              "[5 rows x 23433 columns]"
            ],
            "text/html": [
              "\n",
              "\n",
              "  <div id=\"df-18f58a14-f858-44bb-a37e-ded14e2d149e\">\n",
              "    <div class=\"colab-df-container\">\n",
              "      <div>\n",
              "<style scoped>\n",
              "    .dataframe tbody tr th:only-of-type {\n",
              "        vertical-align: middle;\n",
              "    }\n",
              "\n",
              "    .dataframe tbody tr th {\n",
              "        vertical-align: top;\n",
              "    }\n",
              "\n",
              "    .dataframe thead th {\n",
              "        text-align: right;\n",
              "    }\n",
              "</style>\n",
              "<table border=\"1\" class=\"dataframe\">\n",
              "  <thead>\n",
              "    <tr style=\"text-align: right;\">\n",
              "      <th></th>\n",
              "      <th>0610005C13Rik</th>\n",
              "      <th>0610007C21Rik</th>\n",
              "      <th>0610007L01Rik</th>\n",
              "      <th>0610007N19Rik</th>\n",
              "      <th>0610007P08Rik</th>\n",
              "      <th>0610007P14Rik</th>\n",
              "      <th>0610007P22Rik</th>\n",
              "      <th>0610008F07Rik</th>\n",
              "      <th>0610009B14Rik</th>\n",
              "      <th>0610009B22Rik</th>\n",
              "      <th>...</th>\n",
              "      <th>Zxdb</th>\n",
              "      <th>Zxdc</th>\n",
              "      <th>Zyg11a</th>\n",
              "      <th>Zyg11b</th>\n",
              "      <th>Zyx</th>\n",
              "      <th>Zzef1</th>\n",
              "      <th>Zzz3</th>\n",
              "      <th>a</th>\n",
              "      <th>l7Rn6</th>\n",
              "      <th>zsGreen_transgene</th>\n",
              "    </tr>\n",
              "    <tr>\n",
              "      <th>cell</th>\n",
              "      <th></th>\n",
              "      <th></th>\n",
              "      <th></th>\n",
              "      <th></th>\n",
              "      <th></th>\n",
              "      <th></th>\n",
              "      <th></th>\n",
              "      <th></th>\n",
              "      <th></th>\n",
              "      <th></th>\n",
              "      <th></th>\n",
              "      <th></th>\n",
              "      <th></th>\n",
              "      <th></th>\n",
              "      <th></th>\n",
              "      <th></th>\n",
              "      <th></th>\n",
              "      <th></th>\n",
              "      <th></th>\n",
              "      <th></th>\n",
              "      <th></th>\n",
              "    </tr>\n",
              "  </thead>\n",
              "  <tbody>\n",
              "    <tr>\n",
              "      <th>A1.B003290.3_38_F.1.1</th>\n",
              "      <td>0</td>\n",
              "      <td>125</td>\n",
              "      <td>16</td>\n",
              "      <td>0</td>\n",
              "      <td>0</td>\n",
              "      <td>0</td>\n",
              "      <td>0</td>\n",
              "      <td>0</td>\n",
              "      <td>0</td>\n",
              "      <td>0</td>\n",
              "      <td>...</td>\n",
              "      <td>0</td>\n",
              "      <td>0</td>\n",
              "      <td>0</td>\n",
              "      <td>0</td>\n",
              "      <td>0</td>\n",
              "      <td>0</td>\n",
              "      <td>0</td>\n",
              "      <td>0</td>\n",
              "      <td>54</td>\n",
              "      <td>0</td>\n",
              "    </tr>\n",
              "    <tr>\n",
              "      <th>A1.B003728.3_56_F.1.1</th>\n",
              "      <td>0</td>\n",
              "      <td>0</td>\n",
              "      <td>0</td>\n",
              "      <td>0</td>\n",
              "      <td>0</td>\n",
              "      <td>324</td>\n",
              "      <td>0</td>\n",
              "      <td>0</td>\n",
              "      <td>0</td>\n",
              "      <td>0</td>\n",
              "      <td>...</td>\n",
              "      <td>0</td>\n",
              "      <td>0</td>\n",
              "      <td>0</td>\n",
              "      <td>0</td>\n",
              "      <td>0</td>\n",
              "      <td>0</td>\n",
              "      <td>0</td>\n",
              "      <td>0</td>\n",
              "      <td>0</td>\n",
              "      <td>0</td>\n",
              "    </tr>\n",
              "    <tr>\n",
              "      <th>A1.MAA000560.3_10_M.1.1</th>\n",
              "      <td>0</td>\n",
              "      <td>348</td>\n",
              "      <td>0</td>\n",
              "      <td>0</td>\n",
              "      <td>0</td>\n",
              "      <td>5</td>\n",
              "      <td>0</td>\n",
              "      <td>0</td>\n",
              "      <td>0</td>\n",
              "      <td>0</td>\n",
              "      <td>...</td>\n",
              "      <td>0</td>\n",
              "      <td>0</td>\n",
              "      <td>0</td>\n",
              "      <td>0</td>\n",
              "      <td>0</td>\n",
              "      <td>195</td>\n",
              "      <td>0</td>\n",
              "      <td>0</td>\n",
              "      <td>113</td>\n",
              "      <td>0</td>\n",
              "    </tr>\n",
              "    <tr>\n",
              "      <th>A1.MAA000564.3_10_M.1.1</th>\n",
              "      <td>0</td>\n",
              "      <td>41</td>\n",
              "      <td>36</td>\n",
              "      <td>0</td>\n",
              "      <td>0</td>\n",
              "      <td>24</td>\n",
              "      <td>0</td>\n",
              "      <td>0</td>\n",
              "      <td>0</td>\n",
              "      <td>14</td>\n",
              "      <td>...</td>\n",
              "      <td>0</td>\n",
              "      <td>0</td>\n",
              "      <td>0</td>\n",
              "      <td>0</td>\n",
              "      <td>125</td>\n",
              "      <td>0</td>\n",
              "      <td>1</td>\n",
              "      <td>0</td>\n",
              "      <td>0</td>\n",
              "      <td>0</td>\n",
              "    </tr>\n",
              "    <tr>\n",
              "      <th>A1.MAA000923.3_9_M.1.1</th>\n",
              "      <td>0</td>\n",
              "      <td>53</td>\n",
              "      <td>0</td>\n",
              "      <td>0</td>\n",
              "      <td>0</td>\n",
              "      <td>0</td>\n",
              "      <td>0</td>\n",
              "      <td>0</td>\n",
              "      <td>0</td>\n",
              "      <td>0</td>\n",
              "      <td>...</td>\n",
              "      <td>0</td>\n",
              "      <td>0</td>\n",
              "      <td>0</td>\n",
              "      <td>81</td>\n",
              "      <td>0</td>\n",
              "      <td>0</td>\n",
              "      <td>0</td>\n",
              "      <td>0</td>\n",
              "      <td>0</td>\n",
              "      <td>0</td>\n",
              "    </tr>\n",
              "  </tbody>\n",
              "</table>\n",
              "<p>5 rows × 23433 columns</p>\n",
              "</div>\n",
              "      <button class=\"colab-df-convert\" onclick=\"convertToInteractive('df-18f58a14-f858-44bb-a37e-ded14e2d149e')\"\n",
              "              title=\"Convert this dataframe to an interactive table.\"\n",
              "              style=\"display:none;\">\n",
              "\n",
              "  <svg xmlns=\"http://www.w3.org/2000/svg\" height=\"24px\"viewBox=\"0 0 24 24\"\n",
              "       width=\"24px\">\n",
              "    <path d=\"M0 0h24v24H0V0z\" fill=\"none\"/>\n",
              "    <path d=\"M18.56 5.44l.94 2.06.94-2.06 2.06-.94-2.06-.94-.94-2.06-.94 2.06-2.06.94zm-11 1L8.5 8.5l.94-2.06 2.06-.94-2.06-.94L8.5 2.5l-.94 2.06-2.06.94zm10 10l.94 2.06.94-2.06 2.06-.94-2.06-.94-.94-2.06-.94 2.06-2.06.94z\"/><path d=\"M17.41 7.96l-1.37-1.37c-.4-.4-.92-.59-1.43-.59-.52 0-1.04.2-1.43.59L10.3 9.45l-7.72 7.72c-.78.78-.78 2.05 0 2.83L4 21.41c.39.39.9.59 1.41.59.51 0 1.02-.2 1.41-.59l7.78-7.78 2.81-2.81c.8-.78.8-2.07 0-2.86zM5.41 20L4 18.59l7.72-7.72 1.47 1.35L5.41 20z\"/>\n",
              "  </svg>\n",
              "      </button>\n",
              "\n",
              "\n",
              "\n",
              "    <div id=\"df-b5377f60-2be5-4a10-aa8a-cd5e1f0619f0\">\n",
              "      <button class=\"colab-df-quickchart\" onclick=\"quickchart('df-b5377f60-2be5-4a10-aa8a-cd5e1f0619f0')\"\n",
              "              title=\"Suggest charts.\"\n",
              "              style=\"display:none;\">\n",
              "\n",
              "<svg xmlns=\"http://www.w3.org/2000/svg\" height=\"24px\"viewBox=\"0 0 24 24\"\n",
              "     width=\"24px\">\n",
              "    <g>\n",
              "        <path d=\"M19 3H5c-1.1 0-2 .9-2 2v14c0 1.1.9 2 2 2h14c1.1 0 2-.9 2-2V5c0-1.1-.9-2-2-2zM9 17H7v-7h2v7zm4 0h-2V7h2v10zm4 0h-2v-4h2v4z\"/>\n",
              "    </g>\n",
              "</svg>\n",
              "      </button>\n",
              "    </div>\n",
              "\n",
              "<style>\n",
              "  .colab-df-quickchart {\n",
              "    background-color: #E8F0FE;\n",
              "    border: none;\n",
              "    border-radius: 50%;\n",
              "    cursor: pointer;\n",
              "    display: none;\n",
              "    fill: #1967D2;\n",
              "    height: 32px;\n",
              "    padding: 0 0 0 0;\n",
              "    width: 32px;\n",
              "  }\n",
              "\n",
              "  .colab-df-quickchart:hover {\n",
              "    background-color: #E2EBFA;\n",
              "    box-shadow: 0px 1px 2px rgba(60, 64, 67, 0.3), 0px 1px 3px 1px rgba(60, 64, 67, 0.15);\n",
              "    fill: #174EA6;\n",
              "  }\n",
              "\n",
              "  [theme=dark] .colab-df-quickchart {\n",
              "    background-color: #3B4455;\n",
              "    fill: #D2E3FC;\n",
              "  }\n",
              "\n",
              "  [theme=dark] .colab-df-quickchart:hover {\n",
              "    background-color: #434B5C;\n",
              "    box-shadow: 0px 1px 3px 1px rgba(0, 0, 0, 0.15);\n",
              "    filter: drop-shadow(0px 1px 2px rgba(0, 0, 0, 0.3));\n",
              "    fill: #FFFFFF;\n",
              "  }\n",
              "</style>\n",
              "\n",
              "    <script>\n",
              "      async function quickchart(key) {\n",
              "        const containerElement = document.querySelector('#' + key);\n",
              "        const charts = await google.colab.kernel.invokeFunction(\n",
              "            'suggestCharts', [key], {});\n",
              "      }\n",
              "    </script>\n",
              "\n",
              "      <script>\n",
              "\n",
              "function displayQuickchartButton(domScope) {\n",
              "  let quickchartButtonEl =\n",
              "    domScope.querySelector('#df-b5377f60-2be5-4a10-aa8a-cd5e1f0619f0 button.colab-df-quickchart');\n",
              "  quickchartButtonEl.style.display =\n",
              "    google.colab.kernel.accessAllowed ? 'block' : 'none';\n",
              "}\n",
              "\n",
              "        displayQuickchartButton(document);\n",
              "      </script>\n",
              "      <style>\n",
              "    .colab-df-container {\n",
              "      display:flex;\n",
              "      flex-wrap:wrap;\n",
              "      gap: 12px;\n",
              "    }\n",
              "\n",
              "    .colab-df-convert {\n",
              "      background-color: #E8F0FE;\n",
              "      border: none;\n",
              "      border-radius: 50%;\n",
              "      cursor: pointer;\n",
              "      display: none;\n",
              "      fill: #1967D2;\n",
              "      height: 32px;\n",
              "      padding: 0 0 0 0;\n",
              "      width: 32px;\n",
              "    }\n",
              "\n",
              "    .colab-df-convert:hover {\n",
              "      background-color: #E2EBFA;\n",
              "      box-shadow: 0px 1px 2px rgba(60, 64, 67, 0.3), 0px 1px 3px 1px rgba(60, 64, 67, 0.15);\n",
              "      fill: #174EA6;\n",
              "    }\n",
              "\n",
              "    [theme=dark] .colab-df-convert {\n",
              "      background-color: #3B4455;\n",
              "      fill: #D2E3FC;\n",
              "    }\n",
              "\n",
              "    [theme=dark] .colab-df-convert:hover {\n",
              "      background-color: #434B5C;\n",
              "      box-shadow: 0px 1px 3px 1px rgba(0, 0, 0, 0.15);\n",
              "      filter: drop-shadow(0px 1px 2px rgba(0, 0, 0, 0.3));\n",
              "      fill: #FFFFFF;\n",
              "    }\n",
              "  </style>\n",
              "\n",
              "      <script>\n",
              "        const buttonEl =\n",
              "          document.querySelector('#df-18f58a14-f858-44bb-a37e-ded14e2d149e button.colab-df-convert');\n",
              "        buttonEl.style.display =\n",
              "          google.colab.kernel.accessAllowed ? 'block' : 'none';\n",
              "\n",
              "        async function convertToInteractive(key) {\n",
              "          const element = document.querySelector('#df-18f58a14-f858-44bb-a37e-ded14e2d149e');\n",
              "          const dataTable =\n",
              "            await google.colab.kernel.invokeFunction('convertToInteractive',\n",
              "                                                     [key], {});\n",
              "          if (!dataTable) return;\n",
              "\n",
              "          const docLinkHtml = 'Like what you see? Visit the ' +\n",
              "            '<a target=\"_blank\" href=https://colab.research.google.com/notebooks/data_table.ipynb>data table notebook</a>'\n",
              "            + ' to learn more about interactive tables.';\n",
              "          element.innerHTML = '';\n",
              "          dataTable['output_type'] = 'display_data';\n",
              "          await google.colab.output.renderOutput(dataTable, element);\n",
              "          const docLink = document.createElement('div');\n",
              "          docLink.innerHTML = docLinkHtml;\n",
              "          element.appendChild(docLink);\n",
              "        }\n",
              "      </script>\n",
              "    </div>\n",
              "  </div>\n"
            ]
          },
          "metadata": {},
          "execution_count": 10
        }
      ],
      "source": [
        "data.head()"
      ],
      "metadata": {
        "ExecuteTime": {
          "end_time": "2023-06-27T09:20:30.399878800Z",
          "start_time": "2023-06-27T09:20:30.272856200Z"
        },
        "id": "LVG7Kxhqcpch",
        "outputId": "d803f9c7-03f7-40f9-8be6-888792598064",
        "colab": {
          "base_uri": "https://localhost:8080/",
          "height": 330
        }
      }
    },
    {
      "cell_type": "code",
      "execution_count": 11,
      "outputs": [],
      "source": [
        "annotations.index = annotations[\"cell\"]"
      ],
      "metadata": {
        "ExecuteTime": {
          "end_time": "2023-06-27T09:20:41.929878100Z",
          "start_time": "2023-06-27T09:20:41.866152600Z"
        },
        "id": "VL4IMhv2cpck"
      }
    },
    {
      "cell_type": "code",
      "execution_count": 12,
      "outputs": [],
      "source": [
        "data= data.merge(annotations[['cell_ontology_class']], on='cell', how='inner')"
      ],
      "metadata": {
        "ExecuteTime": {
          "end_time": "2023-06-27T09:20:56.270129400Z",
          "start_time": "2023-06-27T09:20:54.282836700Z"
        },
        "id": "AvQJYktrcpcr"
      }
    },
    {
      "cell_type": "code",
      "execution_count": 13,
      "outputs": [
        {
          "output_type": "execute_result",
          "data": {
            "text/plain": [
              "                         0610005C13Rik  0610007C21Rik  0610007L01Rik  \\\n",
              "cell                                                                   \n",
              "A1.B003290.3_38_F.1.1                0            125             16   \n",
              "A1.B003728.3_56_F.1.1                0              0              0   \n",
              "A1.MAA000560.3_10_M.1.1              0            348              0   \n",
              "A1.MAA000564.3_10_M.1.1              0             41             36   \n",
              "A1.MAA000923.3_9_M.1.1               0             53              0   \n",
              "\n",
              "                         0610007N19Rik  0610007P08Rik  0610007P14Rik  \\\n",
              "cell                                                                   \n",
              "A1.B003290.3_38_F.1.1                0              0              0   \n",
              "A1.B003728.3_56_F.1.1                0              0            324   \n",
              "A1.MAA000560.3_10_M.1.1              0              0              5   \n",
              "A1.MAA000564.3_10_M.1.1              0              0             24   \n",
              "A1.MAA000923.3_9_M.1.1               0              0              0   \n",
              "\n",
              "                         0610007P22Rik  0610008F07Rik  0610009B14Rik  \\\n",
              "cell                                                                   \n",
              "A1.B003290.3_38_F.1.1                0              0              0   \n",
              "A1.B003728.3_56_F.1.1                0              0              0   \n",
              "A1.MAA000560.3_10_M.1.1              0              0              0   \n",
              "A1.MAA000564.3_10_M.1.1              0              0              0   \n",
              "A1.MAA000923.3_9_M.1.1               0              0              0   \n",
              "\n",
              "                         0610009B22Rik  ...  Zxdc  Zyg11a  Zyg11b  Zyx  Zzef1  \\\n",
              "cell                                    ...                                     \n",
              "A1.B003290.3_38_F.1.1                0  ...     0       0       0    0      0   \n",
              "A1.B003728.3_56_F.1.1                0  ...     0       0       0    0      0   \n",
              "A1.MAA000560.3_10_M.1.1              0  ...     0       0       0    0    195   \n",
              "A1.MAA000564.3_10_M.1.1             14  ...     0       0       0  125      0   \n",
              "A1.MAA000923.3_9_M.1.1               0  ...     0       0      81    0      0   \n",
              "\n",
              "                         Zzz3  a  l7Rn6  zsGreen_transgene  \\\n",
              "cell                                                         \n",
              "A1.B003290.3_38_F.1.1       0  0     54                  0   \n",
              "A1.B003728.3_56_F.1.1       0  0      0                  0   \n",
              "A1.MAA000560.3_10_M.1.1     0  0    113                  0   \n",
              "A1.MAA000564.3_10_M.1.1     1  0      0                  0   \n",
              "A1.MAA000923.3_9_M.1.1      0  0      0                  0   \n",
              "\n",
              "                         cell_ontology_class  \n",
              "cell                                          \n",
              "A1.B003290.3_38_F.1.1              astrocyte  \n",
              "A1.B003728.3_56_F.1.1              astrocyte  \n",
              "A1.MAA000560.3_10_M.1.1      oligodendrocyte  \n",
              "A1.MAA000564.3_10_M.1.1     endothelial cell  \n",
              "A1.MAA000923.3_9_M.1.1             astrocyte  \n",
              "\n",
              "[5 rows x 23434 columns]"
            ],
            "text/html": [
              "\n",
              "\n",
              "  <div id=\"df-5b74a998-43e5-4b58-a7b5-581a8821a5e4\">\n",
              "    <div class=\"colab-df-container\">\n",
              "      <div>\n",
              "<style scoped>\n",
              "    .dataframe tbody tr th:only-of-type {\n",
              "        vertical-align: middle;\n",
              "    }\n",
              "\n",
              "    .dataframe tbody tr th {\n",
              "        vertical-align: top;\n",
              "    }\n",
              "\n",
              "    .dataframe thead th {\n",
              "        text-align: right;\n",
              "    }\n",
              "</style>\n",
              "<table border=\"1\" class=\"dataframe\">\n",
              "  <thead>\n",
              "    <tr style=\"text-align: right;\">\n",
              "      <th></th>\n",
              "      <th>0610005C13Rik</th>\n",
              "      <th>0610007C21Rik</th>\n",
              "      <th>0610007L01Rik</th>\n",
              "      <th>0610007N19Rik</th>\n",
              "      <th>0610007P08Rik</th>\n",
              "      <th>0610007P14Rik</th>\n",
              "      <th>0610007P22Rik</th>\n",
              "      <th>0610008F07Rik</th>\n",
              "      <th>0610009B14Rik</th>\n",
              "      <th>0610009B22Rik</th>\n",
              "      <th>...</th>\n",
              "      <th>Zxdc</th>\n",
              "      <th>Zyg11a</th>\n",
              "      <th>Zyg11b</th>\n",
              "      <th>Zyx</th>\n",
              "      <th>Zzef1</th>\n",
              "      <th>Zzz3</th>\n",
              "      <th>a</th>\n",
              "      <th>l7Rn6</th>\n",
              "      <th>zsGreen_transgene</th>\n",
              "      <th>cell_ontology_class</th>\n",
              "    </tr>\n",
              "    <tr>\n",
              "      <th>cell</th>\n",
              "      <th></th>\n",
              "      <th></th>\n",
              "      <th></th>\n",
              "      <th></th>\n",
              "      <th></th>\n",
              "      <th></th>\n",
              "      <th></th>\n",
              "      <th></th>\n",
              "      <th></th>\n",
              "      <th></th>\n",
              "      <th></th>\n",
              "      <th></th>\n",
              "      <th></th>\n",
              "      <th></th>\n",
              "      <th></th>\n",
              "      <th></th>\n",
              "      <th></th>\n",
              "      <th></th>\n",
              "      <th></th>\n",
              "      <th></th>\n",
              "      <th></th>\n",
              "    </tr>\n",
              "  </thead>\n",
              "  <tbody>\n",
              "    <tr>\n",
              "      <th>A1.B003290.3_38_F.1.1</th>\n",
              "      <td>0</td>\n",
              "      <td>125</td>\n",
              "      <td>16</td>\n",
              "      <td>0</td>\n",
              "      <td>0</td>\n",
              "      <td>0</td>\n",
              "      <td>0</td>\n",
              "      <td>0</td>\n",
              "      <td>0</td>\n",
              "      <td>0</td>\n",
              "      <td>...</td>\n",
              "      <td>0</td>\n",
              "      <td>0</td>\n",
              "      <td>0</td>\n",
              "      <td>0</td>\n",
              "      <td>0</td>\n",
              "      <td>0</td>\n",
              "      <td>0</td>\n",
              "      <td>54</td>\n",
              "      <td>0</td>\n",
              "      <td>astrocyte</td>\n",
              "    </tr>\n",
              "    <tr>\n",
              "      <th>A1.B003728.3_56_F.1.1</th>\n",
              "      <td>0</td>\n",
              "      <td>0</td>\n",
              "      <td>0</td>\n",
              "      <td>0</td>\n",
              "      <td>0</td>\n",
              "      <td>324</td>\n",
              "      <td>0</td>\n",
              "      <td>0</td>\n",
              "      <td>0</td>\n",
              "      <td>0</td>\n",
              "      <td>...</td>\n",
              "      <td>0</td>\n",
              "      <td>0</td>\n",
              "      <td>0</td>\n",
              "      <td>0</td>\n",
              "      <td>0</td>\n",
              "      <td>0</td>\n",
              "      <td>0</td>\n",
              "      <td>0</td>\n",
              "      <td>0</td>\n",
              "      <td>astrocyte</td>\n",
              "    </tr>\n",
              "    <tr>\n",
              "      <th>A1.MAA000560.3_10_M.1.1</th>\n",
              "      <td>0</td>\n",
              "      <td>348</td>\n",
              "      <td>0</td>\n",
              "      <td>0</td>\n",
              "      <td>0</td>\n",
              "      <td>5</td>\n",
              "      <td>0</td>\n",
              "      <td>0</td>\n",
              "      <td>0</td>\n",
              "      <td>0</td>\n",
              "      <td>...</td>\n",
              "      <td>0</td>\n",
              "      <td>0</td>\n",
              "      <td>0</td>\n",
              "      <td>0</td>\n",
              "      <td>195</td>\n",
              "      <td>0</td>\n",
              "      <td>0</td>\n",
              "      <td>113</td>\n",
              "      <td>0</td>\n",
              "      <td>oligodendrocyte</td>\n",
              "    </tr>\n",
              "    <tr>\n",
              "      <th>A1.MAA000564.3_10_M.1.1</th>\n",
              "      <td>0</td>\n",
              "      <td>41</td>\n",
              "      <td>36</td>\n",
              "      <td>0</td>\n",
              "      <td>0</td>\n",
              "      <td>24</td>\n",
              "      <td>0</td>\n",
              "      <td>0</td>\n",
              "      <td>0</td>\n",
              "      <td>14</td>\n",
              "      <td>...</td>\n",
              "      <td>0</td>\n",
              "      <td>0</td>\n",
              "      <td>0</td>\n",
              "      <td>125</td>\n",
              "      <td>0</td>\n",
              "      <td>1</td>\n",
              "      <td>0</td>\n",
              "      <td>0</td>\n",
              "      <td>0</td>\n",
              "      <td>endothelial cell</td>\n",
              "    </tr>\n",
              "    <tr>\n",
              "      <th>A1.MAA000923.3_9_M.1.1</th>\n",
              "      <td>0</td>\n",
              "      <td>53</td>\n",
              "      <td>0</td>\n",
              "      <td>0</td>\n",
              "      <td>0</td>\n",
              "      <td>0</td>\n",
              "      <td>0</td>\n",
              "      <td>0</td>\n",
              "      <td>0</td>\n",
              "      <td>0</td>\n",
              "      <td>...</td>\n",
              "      <td>0</td>\n",
              "      <td>0</td>\n",
              "      <td>81</td>\n",
              "      <td>0</td>\n",
              "      <td>0</td>\n",
              "      <td>0</td>\n",
              "      <td>0</td>\n",
              "      <td>0</td>\n",
              "      <td>0</td>\n",
              "      <td>astrocyte</td>\n",
              "    </tr>\n",
              "  </tbody>\n",
              "</table>\n",
              "<p>5 rows × 23434 columns</p>\n",
              "</div>\n",
              "      <button class=\"colab-df-convert\" onclick=\"convertToInteractive('df-5b74a998-43e5-4b58-a7b5-581a8821a5e4')\"\n",
              "              title=\"Convert this dataframe to an interactive table.\"\n",
              "              style=\"display:none;\">\n",
              "\n",
              "  <svg xmlns=\"http://www.w3.org/2000/svg\" height=\"24px\"viewBox=\"0 0 24 24\"\n",
              "       width=\"24px\">\n",
              "    <path d=\"M0 0h24v24H0V0z\" fill=\"none\"/>\n",
              "    <path d=\"M18.56 5.44l.94 2.06.94-2.06 2.06-.94-2.06-.94-.94-2.06-.94 2.06-2.06.94zm-11 1L8.5 8.5l.94-2.06 2.06-.94-2.06-.94L8.5 2.5l-.94 2.06-2.06.94zm10 10l.94 2.06.94-2.06 2.06-.94-2.06-.94-.94-2.06-.94 2.06-2.06.94z\"/><path d=\"M17.41 7.96l-1.37-1.37c-.4-.4-.92-.59-1.43-.59-.52 0-1.04.2-1.43.59L10.3 9.45l-7.72 7.72c-.78.78-.78 2.05 0 2.83L4 21.41c.39.39.9.59 1.41.59.51 0 1.02-.2 1.41-.59l7.78-7.78 2.81-2.81c.8-.78.8-2.07 0-2.86zM5.41 20L4 18.59l7.72-7.72 1.47 1.35L5.41 20z\"/>\n",
              "  </svg>\n",
              "      </button>\n",
              "\n",
              "\n",
              "\n",
              "    <div id=\"df-5f22c143-54b3-494d-b1b4-5ff1c294d4a8\">\n",
              "      <button class=\"colab-df-quickchart\" onclick=\"quickchart('df-5f22c143-54b3-494d-b1b4-5ff1c294d4a8')\"\n",
              "              title=\"Suggest charts.\"\n",
              "              style=\"display:none;\">\n",
              "\n",
              "<svg xmlns=\"http://www.w3.org/2000/svg\" height=\"24px\"viewBox=\"0 0 24 24\"\n",
              "     width=\"24px\">\n",
              "    <g>\n",
              "        <path d=\"M19 3H5c-1.1 0-2 .9-2 2v14c0 1.1.9 2 2 2h14c1.1 0 2-.9 2-2V5c0-1.1-.9-2-2-2zM9 17H7v-7h2v7zm4 0h-2V7h2v10zm4 0h-2v-4h2v4z\"/>\n",
              "    </g>\n",
              "</svg>\n",
              "      </button>\n",
              "    </div>\n",
              "\n",
              "<style>\n",
              "  .colab-df-quickchart {\n",
              "    background-color: #E8F0FE;\n",
              "    border: none;\n",
              "    border-radius: 50%;\n",
              "    cursor: pointer;\n",
              "    display: none;\n",
              "    fill: #1967D2;\n",
              "    height: 32px;\n",
              "    padding: 0 0 0 0;\n",
              "    width: 32px;\n",
              "  }\n",
              "\n",
              "  .colab-df-quickchart:hover {\n",
              "    background-color: #E2EBFA;\n",
              "    box-shadow: 0px 1px 2px rgba(60, 64, 67, 0.3), 0px 1px 3px 1px rgba(60, 64, 67, 0.15);\n",
              "    fill: #174EA6;\n",
              "  }\n",
              "\n",
              "  [theme=dark] .colab-df-quickchart {\n",
              "    background-color: #3B4455;\n",
              "    fill: #D2E3FC;\n",
              "  }\n",
              "\n",
              "  [theme=dark] .colab-df-quickchart:hover {\n",
              "    background-color: #434B5C;\n",
              "    box-shadow: 0px 1px 3px 1px rgba(0, 0, 0, 0.15);\n",
              "    filter: drop-shadow(0px 1px 2px rgba(0, 0, 0, 0.3));\n",
              "    fill: #FFFFFF;\n",
              "  }\n",
              "</style>\n",
              "\n",
              "    <script>\n",
              "      async function quickchart(key) {\n",
              "        const containerElement = document.querySelector('#' + key);\n",
              "        const charts = await google.colab.kernel.invokeFunction(\n",
              "            'suggestCharts', [key], {});\n",
              "      }\n",
              "    </script>\n",
              "\n",
              "      <script>\n",
              "\n",
              "function displayQuickchartButton(domScope) {\n",
              "  let quickchartButtonEl =\n",
              "    domScope.querySelector('#df-5f22c143-54b3-494d-b1b4-5ff1c294d4a8 button.colab-df-quickchart');\n",
              "  quickchartButtonEl.style.display =\n",
              "    google.colab.kernel.accessAllowed ? 'block' : 'none';\n",
              "}\n",
              "\n",
              "        displayQuickchartButton(document);\n",
              "      </script>\n",
              "      <style>\n",
              "    .colab-df-container {\n",
              "      display:flex;\n",
              "      flex-wrap:wrap;\n",
              "      gap: 12px;\n",
              "    }\n",
              "\n",
              "    .colab-df-convert {\n",
              "      background-color: #E8F0FE;\n",
              "      border: none;\n",
              "      border-radius: 50%;\n",
              "      cursor: pointer;\n",
              "      display: none;\n",
              "      fill: #1967D2;\n",
              "      height: 32px;\n",
              "      padding: 0 0 0 0;\n",
              "      width: 32px;\n",
              "    }\n",
              "\n",
              "    .colab-df-convert:hover {\n",
              "      background-color: #E2EBFA;\n",
              "      box-shadow: 0px 1px 2px rgba(60, 64, 67, 0.3), 0px 1px 3px 1px rgba(60, 64, 67, 0.15);\n",
              "      fill: #174EA6;\n",
              "    }\n",
              "\n",
              "    [theme=dark] .colab-df-convert {\n",
              "      background-color: #3B4455;\n",
              "      fill: #D2E3FC;\n",
              "    }\n",
              "\n",
              "    [theme=dark] .colab-df-convert:hover {\n",
              "      background-color: #434B5C;\n",
              "      box-shadow: 0px 1px 3px 1px rgba(0, 0, 0, 0.15);\n",
              "      filter: drop-shadow(0px 1px 2px rgba(0, 0, 0, 0.3));\n",
              "      fill: #FFFFFF;\n",
              "    }\n",
              "  </style>\n",
              "\n",
              "      <script>\n",
              "        const buttonEl =\n",
              "          document.querySelector('#df-5b74a998-43e5-4b58-a7b5-581a8821a5e4 button.colab-df-convert');\n",
              "        buttonEl.style.display =\n",
              "          google.colab.kernel.accessAllowed ? 'block' : 'none';\n",
              "\n",
              "        async function convertToInteractive(key) {\n",
              "          const element = document.querySelector('#df-5b74a998-43e5-4b58-a7b5-581a8821a5e4');\n",
              "          const dataTable =\n",
              "            await google.colab.kernel.invokeFunction('convertToInteractive',\n",
              "                                                     [key], {});\n",
              "          if (!dataTable) return;\n",
              "\n",
              "          const docLinkHtml = 'Like what you see? Visit the ' +\n",
              "            '<a target=\"_blank\" href=https://colab.research.google.com/notebooks/data_table.ipynb>data table notebook</a>'\n",
              "            + ' to learn more about interactive tables.';\n",
              "          element.innerHTML = '';\n",
              "          dataTable['output_type'] = 'display_data';\n",
              "          await google.colab.output.renderOutput(dataTable, element);\n",
              "          const docLink = document.createElement('div');\n",
              "          docLink.innerHTML = docLinkHtml;\n",
              "          element.appendChild(docLink);\n",
              "        }\n",
              "      </script>\n",
              "    </div>\n",
              "  </div>\n"
            ]
          },
          "metadata": {},
          "execution_count": 13
        }
      ],
      "source": [
        "data.head()"
      ],
      "metadata": {
        "ExecuteTime": {
          "end_time": "2023-06-27T09:20:58.388709800Z",
          "start_time": "2023-06-27T09:20:58.322110800Z"
        },
        "id": "zFUrtL4Scpct",
        "outputId": "cdd60cb6-6c59-44bb-ced0-0eb716855db0",
        "colab": {
          "base_uri": "https://localhost:8080/",
          "height": 330
        }
      }
    },
    {
      "cell_type": "code",
      "execution_count": 14,
      "outputs": [],
      "source": [
        "X = data.drop('cell_ontology_class', axis=1)\n",
        "y = data['cell_ontology_class']"
      ],
      "metadata": {
        "ExecuteTime": {
          "end_time": "2023-06-27T09:21:10.845309500Z",
          "start_time": "2023-06-27T09:21:08.970856Z"
        },
        "id": "KQF95jipcpcu"
      }
    },
    {
      "cell_type": "code",
      "source": [
        "data.head()"
      ],
      "metadata": {
        "id": "sJzmQPDBUsCk",
        "outputId": "554ac11f-67a0-454b-a969-de27a73de04f",
        "colab": {
          "base_uri": "https://localhost:8080/",
          "height": 330
        }
      },
      "execution_count": 15,
      "outputs": [
        {
          "output_type": "execute_result",
          "data": {
            "text/plain": [
              "                         0610005C13Rik  0610007C21Rik  0610007L01Rik  \\\n",
              "cell                                                                   \n",
              "A1.B003290.3_38_F.1.1                0            125             16   \n",
              "A1.B003728.3_56_F.1.1                0              0              0   \n",
              "A1.MAA000560.3_10_M.1.1              0            348              0   \n",
              "A1.MAA000564.3_10_M.1.1              0             41             36   \n",
              "A1.MAA000923.3_9_M.1.1               0             53              0   \n",
              "\n",
              "                         0610007N19Rik  0610007P08Rik  0610007P14Rik  \\\n",
              "cell                                                                   \n",
              "A1.B003290.3_38_F.1.1                0              0              0   \n",
              "A1.B003728.3_56_F.1.1                0              0            324   \n",
              "A1.MAA000560.3_10_M.1.1              0              0              5   \n",
              "A1.MAA000564.3_10_M.1.1              0              0             24   \n",
              "A1.MAA000923.3_9_M.1.1               0              0              0   \n",
              "\n",
              "                         0610007P22Rik  0610008F07Rik  0610009B14Rik  \\\n",
              "cell                                                                   \n",
              "A1.B003290.3_38_F.1.1                0              0              0   \n",
              "A1.B003728.3_56_F.1.1                0              0              0   \n",
              "A1.MAA000560.3_10_M.1.1              0              0              0   \n",
              "A1.MAA000564.3_10_M.1.1              0              0              0   \n",
              "A1.MAA000923.3_9_M.1.1               0              0              0   \n",
              "\n",
              "                         0610009B22Rik  ...  Zxdc  Zyg11a  Zyg11b  Zyx  Zzef1  \\\n",
              "cell                                    ...                                     \n",
              "A1.B003290.3_38_F.1.1                0  ...     0       0       0    0      0   \n",
              "A1.B003728.3_56_F.1.1                0  ...     0       0       0    0      0   \n",
              "A1.MAA000560.3_10_M.1.1              0  ...     0       0       0    0    195   \n",
              "A1.MAA000564.3_10_M.1.1             14  ...     0       0       0  125      0   \n",
              "A1.MAA000923.3_9_M.1.1               0  ...     0       0      81    0      0   \n",
              "\n",
              "                         Zzz3  a  l7Rn6  zsGreen_transgene  \\\n",
              "cell                                                         \n",
              "A1.B003290.3_38_F.1.1       0  0     54                  0   \n",
              "A1.B003728.3_56_F.1.1       0  0      0                  0   \n",
              "A1.MAA000560.3_10_M.1.1     0  0    113                  0   \n",
              "A1.MAA000564.3_10_M.1.1     1  0      0                  0   \n",
              "A1.MAA000923.3_9_M.1.1      0  0      0                  0   \n",
              "\n",
              "                         cell_ontology_class  \n",
              "cell                                          \n",
              "A1.B003290.3_38_F.1.1              astrocyte  \n",
              "A1.B003728.3_56_F.1.1              astrocyte  \n",
              "A1.MAA000560.3_10_M.1.1      oligodendrocyte  \n",
              "A1.MAA000564.3_10_M.1.1     endothelial cell  \n",
              "A1.MAA000923.3_9_M.1.1             astrocyte  \n",
              "\n",
              "[5 rows x 23434 columns]"
            ],
            "text/html": [
              "\n",
              "\n",
              "  <div id=\"df-a89a20c8-d6b8-42a0-a78f-95589c7fcb67\">\n",
              "    <div class=\"colab-df-container\">\n",
              "      <div>\n",
              "<style scoped>\n",
              "    .dataframe tbody tr th:only-of-type {\n",
              "        vertical-align: middle;\n",
              "    }\n",
              "\n",
              "    .dataframe tbody tr th {\n",
              "        vertical-align: top;\n",
              "    }\n",
              "\n",
              "    .dataframe thead th {\n",
              "        text-align: right;\n",
              "    }\n",
              "</style>\n",
              "<table border=\"1\" class=\"dataframe\">\n",
              "  <thead>\n",
              "    <tr style=\"text-align: right;\">\n",
              "      <th></th>\n",
              "      <th>0610005C13Rik</th>\n",
              "      <th>0610007C21Rik</th>\n",
              "      <th>0610007L01Rik</th>\n",
              "      <th>0610007N19Rik</th>\n",
              "      <th>0610007P08Rik</th>\n",
              "      <th>0610007P14Rik</th>\n",
              "      <th>0610007P22Rik</th>\n",
              "      <th>0610008F07Rik</th>\n",
              "      <th>0610009B14Rik</th>\n",
              "      <th>0610009B22Rik</th>\n",
              "      <th>...</th>\n",
              "      <th>Zxdc</th>\n",
              "      <th>Zyg11a</th>\n",
              "      <th>Zyg11b</th>\n",
              "      <th>Zyx</th>\n",
              "      <th>Zzef1</th>\n",
              "      <th>Zzz3</th>\n",
              "      <th>a</th>\n",
              "      <th>l7Rn6</th>\n",
              "      <th>zsGreen_transgene</th>\n",
              "      <th>cell_ontology_class</th>\n",
              "    </tr>\n",
              "    <tr>\n",
              "      <th>cell</th>\n",
              "      <th></th>\n",
              "      <th></th>\n",
              "      <th></th>\n",
              "      <th></th>\n",
              "      <th></th>\n",
              "      <th></th>\n",
              "      <th></th>\n",
              "      <th></th>\n",
              "      <th></th>\n",
              "      <th></th>\n",
              "      <th></th>\n",
              "      <th></th>\n",
              "      <th></th>\n",
              "      <th></th>\n",
              "      <th></th>\n",
              "      <th></th>\n",
              "      <th></th>\n",
              "      <th></th>\n",
              "      <th></th>\n",
              "      <th></th>\n",
              "      <th></th>\n",
              "    </tr>\n",
              "  </thead>\n",
              "  <tbody>\n",
              "    <tr>\n",
              "      <th>A1.B003290.3_38_F.1.1</th>\n",
              "      <td>0</td>\n",
              "      <td>125</td>\n",
              "      <td>16</td>\n",
              "      <td>0</td>\n",
              "      <td>0</td>\n",
              "      <td>0</td>\n",
              "      <td>0</td>\n",
              "      <td>0</td>\n",
              "      <td>0</td>\n",
              "      <td>0</td>\n",
              "      <td>...</td>\n",
              "      <td>0</td>\n",
              "      <td>0</td>\n",
              "      <td>0</td>\n",
              "      <td>0</td>\n",
              "      <td>0</td>\n",
              "      <td>0</td>\n",
              "      <td>0</td>\n",
              "      <td>54</td>\n",
              "      <td>0</td>\n",
              "      <td>astrocyte</td>\n",
              "    </tr>\n",
              "    <tr>\n",
              "      <th>A1.B003728.3_56_F.1.1</th>\n",
              "      <td>0</td>\n",
              "      <td>0</td>\n",
              "      <td>0</td>\n",
              "      <td>0</td>\n",
              "      <td>0</td>\n",
              "      <td>324</td>\n",
              "      <td>0</td>\n",
              "      <td>0</td>\n",
              "      <td>0</td>\n",
              "      <td>0</td>\n",
              "      <td>...</td>\n",
              "      <td>0</td>\n",
              "      <td>0</td>\n",
              "      <td>0</td>\n",
              "      <td>0</td>\n",
              "      <td>0</td>\n",
              "      <td>0</td>\n",
              "      <td>0</td>\n",
              "      <td>0</td>\n",
              "      <td>0</td>\n",
              "      <td>astrocyte</td>\n",
              "    </tr>\n",
              "    <tr>\n",
              "      <th>A1.MAA000560.3_10_M.1.1</th>\n",
              "      <td>0</td>\n",
              "      <td>348</td>\n",
              "      <td>0</td>\n",
              "      <td>0</td>\n",
              "      <td>0</td>\n",
              "      <td>5</td>\n",
              "      <td>0</td>\n",
              "      <td>0</td>\n",
              "      <td>0</td>\n",
              "      <td>0</td>\n",
              "      <td>...</td>\n",
              "      <td>0</td>\n",
              "      <td>0</td>\n",
              "      <td>0</td>\n",
              "      <td>0</td>\n",
              "      <td>195</td>\n",
              "      <td>0</td>\n",
              "      <td>0</td>\n",
              "      <td>113</td>\n",
              "      <td>0</td>\n",
              "      <td>oligodendrocyte</td>\n",
              "    </tr>\n",
              "    <tr>\n",
              "      <th>A1.MAA000564.3_10_M.1.1</th>\n",
              "      <td>0</td>\n",
              "      <td>41</td>\n",
              "      <td>36</td>\n",
              "      <td>0</td>\n",
              "      <td>0</td>\n",
              "      <td>24</td>\n",
              "      <td>0</td>\n",
              "      <td>0</td>\n",
              "      <td>0</td>\n",
              "      <td>14</td>\n",
              "      <td>...</td>\n",
              "      <td>0</td>\n",
              "      <td>0</td>\n",
              "      <td>0</td>\n",
              "      <td>125</td>\n",
              "      <td>0</td>\n",
              "      <td>1</td>\n",
              "      <td>0</td>\n",
              "      <td>0</td>\n",
              "      <td>0</td>\n",
              "      <td>endothelial cell</td>\n",
              "    </tr>\n",
              "    <tr>\n",
              "      <th>A1.MAA000923.3_9_M.1.1</th>\n",
              "      <td>0</td>\n",
              "      <td>53</td>\n",
              "      <td>0</td>\n",
              "      <td>0</td>\n",
              "      <td>0</td>\n",
              "      <td>0</td>\n",
              "      <td>0</td>\n",
              "      <td>0</td>\n",
              "      <td>0</td>\n",
              "      <td>0</td>\n",
              "      <td>...</td>\n",
              "      <td>0</td>\n",
              "      <td>0</td>\n",
              "      <td>81</td>\n",
              "      <td>0</td>\n",
              "      <td>0</td>\n",
              "      <td>0</td>\n",
              "      <td>0</td>\n",
              "      <td>0</td>\n",
              "      <td>0</td>\n",
              "      <td>astrocyte</td>\n",
              "    </tr>\n",
              "  </tbody>\n",
              "</table>\n",
              "<p>5 rows × 23434 columns</p>\n",
              "</div>\n",
              "      <button class=\"colab-df-convert\" onclick=\"convertToInteractive('df-a89a20c8-d6b8-42a0-a78f-95589c7fcb67')\"\n",
              "              title=\"Convert this dataframe to an interactive table.\"\n",
              "              style=\"display:none;\">\n",
              "\n",
              "  <svg xmlns=\"http://www.w3.org/2000/svg\" height=\"24px\"viewBox=\"0 0 24 24\"\n",
              "       width=\"24px\">\n",
              "    <path d=\"M0 0h24v24H0V0z\" fill=\"none\"/>\n",
              "    <path d=\"M18.56 5.44l.94 2.06.94-2.06 2.06-.94-2.06-.94-.94-2.06-.94 2.06-2.06.94zm-11 1L8.5 8.5l.94-2.06 2.06-.94-2.06-.94L8.5 2.5l-.94 2.06-2.06.94zm10 10l.94 2.06.94-2.06 2.06-.94-2.06-.94-.94-2.06-.94 2.06-2.06.94z\"/><path d=\"M17.41 7.96l-1.37-1.37c-.4-.4-.92-.59-1.43-.59-.52 0-1.04.2-1.43.59L10.3 9.45l-7.72 7.72c-.78.78-.78 2.05 0 2.83L4 21.41c.39.39.9.59 1.41.59.51 0 1.02-.2 1.41-.59l7.78-7.78 2.81-2.81c.8-.78.8-2.07 0-2.86zM5.41 20L4 18.59l7.72-7.72 1.47 1.35L5.41 20z\"/>\n",
              "  </svg>\n",
              "      </button>\n",
              "\n",
              "\n",
              "\n",
              "    <div id=\"df-4501d550-b383-4b0d-bfed-fcf61eab9f40\">\n",
              "      <button class=\"colab-df-quickchart\" onclick=\"quickchart('df-4501d550-b383-4b0d-bfed-fcf61eab9f40')\"\n",
              "              title=\"Suggest charts.\"\n",
              "              style=\"display:none;\">\n",
              "\n",
              "<svg xmlns=\"http://www.w3.org/2000/svg\" height=\"24px\"viewBox=\"0 0 24 24\"\n",
              "     width=\"24px\">\n",
              "    <g>\n",
              "        <path d=\"M19 3H5c-1.1 0-2 .9-2 2v14c0 1.1.9 2 2 2h14c1.1 0 2-.9 2-2V5c0-1.1-.9-2-2-2zM9 17H7v-7h2v7zm4 0h-2V7h2v10zm4 0h-2v-4h2v4z\"/>\n",
              "    </g>\n",
              "</svg>\n",
              "      </button>\n",
              "    </div>\n",
              "\n",
              "<style>\n",
              "  .colab-df-quickchart {\n",
              "    background-color: #E8F0FE;\n",
              "    border: none;\n",
              "    border-radius: 50%;\n",
              "    cursor: pointer;\n",
              "    display: none;\n",
              "    fill: #1967D2;\n",
              "    height: 32px;\n",
              "    padding: 0 0 0 0;\n",
              "    width: 32px;\n",
              "  }\n",
              "\n",
              "  .colab-df-quickchart:hover {\n",
              "    background-color: #E2EBFA;\n",
              "    box-shadow: 0px 1px 2px rgba(60, 64, 67, 0.3), 0px 1px 3px 1px rgba(60, 64, 67, 0.15);\n",
              "    fill: #174EA6;\n",
              "  }\n",
              "\n",
              "  [theme=dark] .colab-df-quickchart {\n",
              "    background-color: #3B4455;\n",
              "    fill: #D2E3FC;\n",
              "  }\n",
              "\n",
              "  [theme=dark] .colab-df-quickchart:hover {\n",
              "    background-color: #434B5C;\n",
              "    box-shadow: 0px 1px 3px 1px rgba(0, 0, 0, 0.15);\n",
              "    filter: drop-shadow(0px 1px 2px rgba(0, 0, 0, 0.3));\n",
              "    fill: #FFFFFF;\n",
              "  }\n",
              "</style>\n",
              "\n",
              "    <script>\n",
              "      async function quickchart(key) {\n",
              "        const containerElement = document.querySelector('#' + key);\n",
              "        const charts = await google.colab.kernel.invokeFunction(\n",
              "            'suggestCharts', [key], {});\n",
              "      }\n",
              "    </script>\n",
              "\n",
              "      <script>\n",
              "\n",
              "function displayQuickchartButton(domScope) {\n",
              "  let quickchartButtonEl =\n",
              "    domScope.querySelector('#df-4501d550-b383-4b0d-bfed-fcf61eab9f40 button.colab-df-quickchart');\n",
              "  quickchartButtonEl.style.display =\n",
              "    google.colab.kernel.accessAllowed ? 'block' : 'none';\n",
              "}\n",
              "\n",
              "        displayQuickchartButton(document);\n",
              "      </script>\n",
              "      <style>\n",
              "    .colab-df-container {\n",
              "      display:flex;\n",
              "      flex-wrap:wrap;\n",
              "      gap: 12px;\n",
              "    }\n",
              "\n",
              "    .colab-df-convert {\n",
              "      background-color: #E8F0FE;\n",
              "      border: none;\n",
              "      border-radius: 50%;\n",
              "      cursor: pointer;\n",
              "      display: none;\n",
              "      fill: #1967D2;\n",
              "      height: 32px;\n",
              "      padding: 0 0 0 0;\n",
              "      width: 32px;\n",
              "    }\n",
              "\n",
              "    .colab-df-convert:hover {\n",
              "      background-color: #E2EBFA;\n",
              "      box-shadow: 0px 1px 2px rgba(60, 64, 67, 0.3), 0px 1px 3px 1px rgba(60, 64, 67, 0.15);\n",
              "      fill: #174EA6;\n",
              "    }\n",
              "\n",
              "    [theme=dark] .colab-df-convert {\n",
              "      background-color: #3B4455;\n",
              "      fill: #D2E3FC;\n",
              "    }\n",
              "\n",
              "    [theme=dark] .colab-df-convert:hover {\n",
              "      background-color: #434B5C;\n",
              "      box-shadow: 0px 1px 3px 1px rgba(0, 0, 0, 0.15);\n",
              "      filter: drop-shadow(0px 1px 2px rgba(0, 0, 0, 0.3));\n",
              "      fill: #FFFFFF;\n",
              "    }\n",
              "  </style>\n",
              "\n",
              "      <script>\n",
              "        const buttonEl =\n",
              "          document.querySelector('#df-a89a20c8-d6b8-42a0-a78f-95589c7fcb67 button.colab-df-convert');\n",
              "        buttonEl.style.display =\n",
              "          google.colab.kernel.accessAllowed ? 'block' : 'none';\n",
              "\n",
              "        async function convertToInteractive(key) {\n",
              "          const element = document.querySelector('#df-a89a20c8-d6b8-42a0-a78f-95589c7fcb67');\n",
              "          const dataTable =\n",
              "            await google.colab.kernel.invokeFunction('convertToInteractive',\n",
              "                                                     [key], {});\n",
              "          if (!dataTable) return;\n",
              "\n",
              "          const docLinkHtml = 'Like what you see? Visit the ' +\n",
              "            '<a target=\"_blank\" href=https://colab.research.google.com/notebooks/data_table.ipynb>data table notebook</a>'\n",
              "            + ' to learn more about interactive tables.';\n",
              "          element.innerHTML = '';\n",
              "          dataTable['output_type'] = 'display_data';\n",
              "          await google.colab.output.renderOutput(dataTable, element);\n",
              "          const docLink = document.createElement('div');\n",
              "          docLink.innerHTML = docLinkHtml;\n",
              "          element.appendChild(docLink);\n",
              "        }\n",
              "      </script>\n",
              "    </div>\n",
              "  </div>\n"
            ]
          },
          "metadata": {},
          "execution_count": 15
        }
      ]
    },
    {
      "cell_type": "markdown",
      "source": [
        "Dividiamo il dataset in training e test, utilizzando la proporzione di default di 0.25 per la dimensione del test set."
      ],
      "metadata": {
        "id": "q2idz23-oTP2"
      }
    },
    {
      "cell_type": "code",
      "execution_count": 16,
      "outputs": [],
      "source": [
        "# split data into train and test sets\n",
        "X_train, X_test, y_train, y_test = train_test_split(X, y)"
      ],
      "metadata": {
        "ExecuteTime": {
          "end_time": "2023-06-27T09:33:21.330968Z",
          "start_time": "2023-06-27T09:33:16.602002400Z"
        },
        "id": "MwQLKxR1cpcv"
      }
    },
    {
      "cell_type": "markdown",
      "source": [
        "Le matrici risultanti da un esperimento di single cell/nucleus RNAseq sono *sparse*, presentano cioè molti 0 dovuti al fatto che per ogni cellula solo una piccola quantità di geni viene rilevata (circa 2000-3000 rispetto ai più di 20000 totali nel genoma). Per questo, per ogni modello abbiamo inserito una feature extraction tramite PCA per ridurre la dimensionalità del dataset alle componenti responsabili per la maggiore varianza, preceduta da standardizzazione. Questo è un passaggio abituale nel preprocessing di dati di scRNAseq."
      ],
      "metadata": {
        "id": "A1-KybxXiRQn"
      }
    },
    {
      "cell_type": "markdown",
      "source": [
        "Per ogni modello definiamo una pipeline, che ci consente di applicare automaticamente il preprocessing al training e al test set evitando il data leakage, cioè l'utilizzo di informazioni presenti nel test set per il training del modello.\n",
        "Per la determinazione degli iperparametri abbiamo fatto uso della funzione GridSearchCV effettuando una 5-fold cross validation per ogni combinazione di parametri."
      ],
      "metadata": {
        "id": "dO-yASL-o2d_"
      }
    },
    {
      "cell_type": "markdown",
      "source": [
        "#PIPELINE KNN"
      ],
      "metadata": {
        "id": "YDlT74-bmD1b"
      }
    },
    {
      "cell_type": "markdown",
      "source": [
        "La K-Nearest Neighbors Classification è un modello non parametrico che per ogni osservazione query, determina la sua classe basandosi sulla classe a cui appartiene la maggioranza delle K osservazioni più vicine ad essa nel training set, secondo una determinata metrica (in questo caso la distanza euclidea).\n",
        "Gli iperparametri che consideriamo in questo caso sono il numero K di vicini e il loro peso sulla decisione."
      ],
      "metadata": {
        "id": "DMsAGo-XpmKy"
      }
    },
    {
      "cell_type": "code",
      "source": [
        "from sklearn.decomposition import PCA\n",
        "from sklearn.preprocessing import StandardScaler\n",
        "from sklearn.pipeline import Pipeline\n",
        "from sklearn.neighbors import KNeighborsClassifier\n",
        "pca = PCA()\n",
        "scaler = StandardScaler()\n",
        "knn = KNeighborsClassifier()\n",
        "pipe = Pipeline([('scaler', scaler), ('pca', pca), ('knn', knn)])\n",
        "\n",
        "param_grid = {\n",
        "  \"pca__n_components\": [50, 70, 100],\n",
        "  \"knn__n_neighbors\": [5, 10, 15],\n",
        "  \"knn__weights\": [\"uniform\", \"distance\"], # con \"uniform\" ogni vicino ha lo stesso peso,\n",
        "                                           # con \"distance\" il peso di ogni vicino dipende dalla distanza dell'osservazione query\n",
        " }"
      ],
      "metadata": {
        "id": "p8txohSpmFod"
      },
      "execution_count": 18,
      "outputs": []
    },
    {
      "cell_type": "code",
      "source": [
        "from sklearn.model_selection import GridSearchCV\n",
        "grid = GridSearchCV(pipe, param_grid, cv=5, n_jobs=-1, verbose=3)\n",
        "grid.fit(X_train, y_train)"
      ],
      "metadata": {
        "colab": {
          "base_uri": "https://localhost:8080/",
          "height": 201
        },
        "id": "Asi4sNk3nFhx",
        "outputId": "a8b8dc98-6af4-43ee-a39a-88d5e1508d79"
      },
      "execution_count": 19,
      "outputs": [
        {
          "output_type": "stream",
          "name": "stdout",
          "text": [
            "Fitting 5 folds for each of 18 candidates, totalling 90 fits\n"
          ]
        },
        {
          "output_type": "execute_result",
          "data": {
            "text/plain": [
              "GridSearchCV(cv=5,\n",
              "             estimator=Pipeline(steps=[('scaler', StandardScaler()),\n",
              "                                       ('pca', PCA()),\n",
              "                                       ('knn', KNeighborsClassifier())]),\n",
              "             n_jobs=-1,\n",
              "             param_grid={'knn__n_neighbors': [5, 10, 15],\n",
              "                         'knn__weights': ['uniform', 'distance'],\n",
              "                         'pca__n_components': [50, 70, 100]},\n",
              "             verbose=3)"
            ],
            "text/html": [
              "<style>#sk-container-id-1 {color: black;background-color: white;}#sk-container-id-1 pre{padding: 0;}#sk-container-id-1 div.sk-toggleable {background-color: white;}#sk-container-id-1 label.sk-toggleable__label {cursor: pointer;display: block;width: 100%;margin-bottom: 0;padding: 0.3em;box-sizing: border-box;text-align: center;}#sk-container-id-1 label.sk-toggleable__label-arrow:before {content: \"▸\";float: left;margin-right: 0.25em;color: #696969;}#sk-container-id-1 label.sk-toggleable__label-arrow:hover:before {color: black;}#sk-container-id-1 div.sk-estimator:hover label.sk-toggleable__label-arrow:before {color: black;}#sk-container-id-1 div.sk-toggleable__content {max-height: 0;max-width: 0;overflow: hidden;text-align: left;background-color: #f0f8ff;}#sk-container-id-1 div.sk-toggleable__content pre {margin: 0.2em;color: black;border-radius: 0.25em;background-color: #f0f8ff;}#sk-container-id-1 input.sk-toggleable__control:checked~div.sk-toggleable__content {max-height: 200px;max-width: 100%;overflow: auto;}#sk-container-id-1 input.sk-toggleable__control:checked~label.sk-toggleable__label-arrow:before {content: \"▾\";}#sk-container-id-1 div.sk-estimator input.sk-toggleable__control:checked~label.sk-toggleable__label {background-color: #d4ebff;}#sk-container-id-1 div.sk-label input.sk-toggleable__control:checked~label.sk-toggleable__label {background-color: #d4ebff;}#sk-container-id-1 input.sk-hidden--visually {border: 0;clip: rect(1px 1px 1px 1px);clip: rect(1px, 1px, 1px, 1px);height: 1px;margin: -1px;overflow: hidden;padding: 0;position: absolute;width: 1px;}#sk-container-id-1 div.sk-estimator {font-family: monospace;background-color: #f0f8ff;border: 1px dotted black;border-radius: 0.25em;box-sizing: border-box;margin-bottom: 0.5em;}#sk-container-id-1 div.sk-estimator:hover {background-color: #d4ebff;}#sk-container-id-1 div.sk-parallel-item::after {content: \"\";width: 100%;border-bottom: 1px solid gray;flex-grow: 1;}#sk-container-id-1 div.sk-label:hover label.sk-toggleable__label {background-color: #d4ebff;}#sk-container-id-1 div.sk-serial::before {content: \"\";position: absolute;border-left: 1px solid gray;box-sizing: border-box;top: 0;bottom: 0;left: 50%;z-index: 0;}#sk-container-id-1 div.sk-serial {display: flex;flex-direction: column;align-items: center;background-color: white;padding-right: 0.2em;padding-left: 0.2em;position: relative;}#sk-container-id-1 div.sk-item {position: relative;z-index: 1;}#sk-container-id-1 div.sk-parallel {display: flex;align-items: stretch;justify-content: center;background-color: white;position: relative;}#sk-container-id-1 div.sk-item::before, #sk-container-id-1 div.sk-parallel-item::before {content: \"\";position: absolute;border-left: 1px solid gray;box-sizing: border-box;top: 0;bottom: 0;left: 50%;z-index: -1;}#sk-container-id-1 div.sk-parallel-item {display: flex;flex-direction: column;z-index: 1;position: relative;background-color: white;}#sk-container-id-1 div.sk-parallel-item:first-child::after {align-self: flex-end;width: 50%;}#sk-container-id-1 div.sk-parallel-item:last-child::after {align-self: flex-start;width: 50%;}#sk-container-id-1 div.sk-parallel-item:only-child::after {width: 0;}#sk-container-id-1 div.sk-dashed-wrapped {border: 1px dashed gray;margin: 0 0.4em 0.5em 0.4em;box-sizing: border-box;padding-bottom: 0.4em;background-color: white;}#sk-container-id-1 div.sk-label label {font-family: monospace;font-weight: bold;display: inline-block;line-height: 1.2em;}#sk-container-id-1 div.sk-label-container {text-align: center;}#sk-container-id-1 div.sk-container {/* jupyter's `normalize.less` sets `[hidden] { display: none; }` but bootstrap.min.css set `[hidden] { display: none !important; }` so we also need the `!important` here to be able to override the default hidden behavior on the sphinx rendered scikit-learn.org. See: https://github.com/scikit-learn/scikit-learn/issues/21755 */display: inline-block !important;position: relative;}#sk-container-id-1 div.sk-text-repr-fallback {display: none;}</style><div id=\"sk-container-id-1\" class=\"sk-top-container\"><div class=\"sk-text-repr-fallback\"><pre>GridSearchCV(cv=5,\n",
              "             estimator=Pipeline(steps=[(&#x27;scaler&#x27;, StandardScaler()),\n",
              "                                       (&#x27;pca&#x27;, PCA()),\n",
              "                                       (&#x27;knn&#x27;, KNeighborsClassifier())]),\n",
              "             n_jobs=-1,\n",
              "             param_grid={&#x27;knn__n_neighbors&#x27;: [5, 10, 15],\n",
              "                         &#x27;knn__weights&#x27;: [&#x27;uniform&#x27;, &#x27;distance&#x27;],\n",
              "                         &#x27;pca__n_components&#x27;: [50, 70, 100]},\n",
              "             verbose=3)</pre><b>In a Jupyter environment, please rerun this cell to show the HTML representation or trust the notebook. <br />On GitHub, the HTML representation is unable to render, please try loading this page with nbviewer.org.</b></div><div class=\"sk-container\" hidden><div class=\"sk-item sk-dashed-wrapped\"><div class=\"sk-label-container\"><div class=\"sk-label sk-toggleable\"><input class=\"sk-toggleable__control sk-hidden--visually\" id=\"sk-estimator-id-1\" type=\"checkbox\" ><label for=\"sk-estimator-id-1\" class=\"sk-toggleable__label sk-toggleable__label-arrow\">GridSearchCV</label><div class=\"sk-toggleable__content\"><pre>GridSearchCV(cv=5,\n",
              "             estimator=Pipeline(steps=[(&#x27;scaler&#x27;, StandardScaler()),\n",
              "                                       (&#x27;pca&#x27;, PCA()),\n",
              "                                       (&#x27;knn&#x27;, KNeighborsClassifier())]),\n",
              "             n_jobs=-1,\n",
              "             param_grid={&#x27;knn__n_neighbors&#x27;: [5, 10, 15],\n",
              "                         &#x27;knn__weights&#x27;: [&#x27;uniform&#x27;, &#x27;distance&#x27;],\n",
              "                         &#x27;pca__n_components&#x27;: [50, 70, 100]},\n",
              "             verbose=3)</pre></div></div></div><div class=\"sk-parallel\"><div class=\"sk-parallel-item\"><div class=\"sk-item\"><div class=\"sk-label-container\"><div class=\"sk-label sk-toggleable\"><input class=\"sk-toggleable__control sk-hidden--visually\" id=\"sk-estimator-id-2\" type=\"checkbox\" ><label for=\"sk-estimator-id-2\" class=\"sk-toggleable__label sk-toggleable__label-arrow\">estimator: Pipeline</label><div class=\"sk-toggleable__content\"><pre>Pipeline(steps=[(&#x27;scaler&#x27;, StandardScaler()), (&#x27;pca&#x27;, PCA()),\n",
              "                (&#x27;knn&#x27;, KNeighborsClassifier())])</pre></div></div></div><div class=\"sk-serial\"><div class=\"sk-item\"><div class=\"sk-serial\"><div class=\"sk-item\"><div class=\"sk-estimator sk-toggleable\"><input class=\"sk-toggleable__control sk-hidden--visually\" id=\"sk-estimator-id-3\" type=\"checkbox\" ><label for=\"sk-estimator-id-3\" class=\"sk-toggleable__label sk-toggleable__label-arrow\">StandardScaler</label><div class=\"sk-toggleable__content\"><pre>StandardScaler()</pre></div></div></div><div class=\"sk-item\"><div class=\"sk-estimator sk-toggleable\"><input class=\"sk-toggleable__control sk-hidden--visually\" id=\"sk-estimator-id-4\" type=\"checkbox\" ><label for=\"sk-estimator-id-4\" class=\"sk-toggleable__label sk-toggleable__label-arrow\">PCA</label><div class=\"sk-toggleable__content\"><pre>PCA()</pre></div></div></div><div class=\"sk-item\"><div class=\"sk-estimator sk-toggleable\"><input class=\"sk-toggleable__control sk-hidden--visually\" id=\"sk-estimator-id-5\" type=\"checkbox\" ><label for=\"sk-estimator-id-5\" class=\"sk-toggleable__label sk-toggleable__label-arrow\">KNeighborsClassifier</label><div class=\"sk-toggleable__content\"><pre>KNeighborsClassifier()</pre></div></div></div></div></div></div></div></div></div></div></div></div>"
            ]
          },
          "metadata": {},
          "execution_count": 19
        }
      ]
    },
    {
      "cell_type": "code",
      "source": [
        "print(\"Best parameter (CV score=%0.3f):\" % grid.best_score_)\n",
        "print(grid.best_params_)\n",
        "print(\"Score on test set: \", grid.score(X_test, y_test))\n",
        "estimator = grid.best_estimator_"
      ],
      "metadata": {
        "colab": {
          "base_uri": "https://localhost:8080/"
        },
        "id": "QKIvVauSnMX5",
        "outputId": "d1426a7d-6951-41ee-bb2f-4e4daaa26b40"
      },
      "execution_count": 20,
      "outputs": [
        {
          "output_type": "stream",
          "name": "stdout",
          "text": [
            "Best parameter (CV score=0.949):\n",
            "{'knn__n_neighbors': 5, 'knn__weights': 'distance', 'pca__n_components': 70}\n",
            "Score on test set:  0.9330199764982373\n"
          ]
        }
      ]
    },
    {
      "cell_type": "code",
      "source": [
        "y_pred = estimator.predict(X_test)\n",
        "from sklearn.metrics import f1_score, ConfusionMatrixDisplay, classification_report\n",
        "print(f1_score(y_test, y_pred, average='weighted'))\n",
        "print(classification_report(y_test,y_pred))\n",
        "disp = ConfusionMatrixDisplay.from_predictions(y_test, y_pred, xticks_rotation='vertical')"
      ],
      "metadata": {
        "colab": {
          "base_uri": "https://localhost:8080/",
          "height": 912
        },
        "id": "d0Z3_qFenaGf",
        "outputId": "6e79ee69-859a-430a-acc7-c02d9ee5f031"
      },
      "execution_count": 21,
      "outputs": [
        {
          "output_type": "stream",
          "name": "stdout",
          "text": [
            "0.9319407085752199\n",
            "                                precision    recall  f1-score   support\n",
            "\n",
            "           Bergmann glial cell       1.00      0.30      0.46        10\n",
            "                     astrocyte       0.89      0.88      0.88       112\n",
            "                brain pericyte       1.00      0.92      0.96        52\n",
            "              endothelial cell       0.97      0.99      0.98       170\n",
            "                        neuron       0.78      0.97      0.87        78\n",
            "               oligodendrocyte       0.97      0.93      0.95       375\n",
            "oligodendrocyte precursor cell       0.85      0.98      0.91        54\n",
            "\n",
            "                      accuracy                           0.93       851\n",
            "                     macro avg       0.92      0.85      0.86       851\n",
            "                  weighted avg       0.94      0.93      0.93       851\n",
            "\n"
          ]
        },
        {
          "output_type": "display_data",
          "data": {
            "text/plain": [
              "<Figure size 640x480 with 2 Axes>"
            ],
            "image/png": "[encoded data removed]"
          },
          "metadata": {}
        }
      ]
    },
    {
      "cell_type": "markdown",
      "source": [
        "## KNN"
      ],
      "metadata": {
        "id": "AXYhq8Ee-4km"
      }
    },
    {
      "cell_type": "code",
      "source": [
        "from sklearn.preprocessing import StandardScaler\n",
        "from sklearn.neighbors import KNeighborsClassifier\n",
        "from sklearn.model_selection import cross_val_score\n",
        "from sklearn.metrics import accuracy_score, f1_score, precision_score, recall_score, classification_report, confusion_matrix\n"
      ],
      "metadata": {
        "id": "K6iUlhPvNlOO"
      },
      "execution_count": 22,
      "outputs": []
    },
    {
      "cell_type": "code",
      "source": [
        "#standardization\n",
        "sc = StandardScaler()\n",
        "X_train= sc.fit_transform(X_train)\n",
        "X_test= sc.transform(X_test)"
      ],
      "metadata": {
        "id": "qm7T9lWO-uLz"
      },
      "execution_count": 23,
      "outputs": []
    },
    {
      "cell_type": "code",
      "source": [
        "# apply PCA\n",
        "from sklearn.decomposition import PCA\n",
        "pca = PCA(n_components=50)\n",
        "X_train_pca = pca.fit_transform(X_train)"
      ],
      "metadata": {
        "id": "0ZWaSAvlPO2Q"
      },
      "execution_count": 24,
      "outputs": []
    },
    {
      "cell_type": "code",
      "source": [
        "# apply PCA to test set\n",
        "X_test_pca = pca.transform(X_test)"
      ],
      "metadata": {
        "id": "MI8g7MXEPTuH"
      },
      "execution_count": 25,
      "outputs": []
    },
    {
      "cell_type": "code",
      "source": [
        "# apply knn to predict cell type\n",
        "\n",
        "knn = KNeighborsClassifier(n_neighbors=11)\n",
        "knn.fit(X_train_pca, y_train)"
      ],
      "metadata": {
        "colab": {
          "base_uri": "https://localhost:8080/",
          "height": 74
        },
        "id": "KsP1cZ92OE9A",
        "outputId": "1ad2488b-f63a-456c-9bc6-a6f6782c49e7"
      },
      "execution_count": 26,
      "outputs": [
        {
          "output_type": "execute_result",
          "data": {
            "text/plain": [
              "KNeighborsClassifier(n_neighbors=11)"
            ],
            "text/html": [
              "<style>#sk-container-id-2 {color: black;background-color: white;}#sk-container-id-2 pre{padding: 0;}#sk-container-id-2 div.sk-toggleable {background-color: white;}#sk-container-id-2 label.sk-toggleable__label {cursor: pointer;display: block;width: 100%;margin-bottom: 0;padding: 0.3em;box-sizing: border-box;text-align: center;}#sk-container-id-2 label.sk-toggleable__label-arrow:before {content: \"▸\";float: left;margin-right: 0.25em;color: #696969;}#sk-container-id-2 label.sk-toggleable__label-arrow:hover:before {color: black;}#sk-container-id-2 div.sk-estimator:hover label.sk-toggleable__label-arrow:before {color: black;}#sk-container-id-2 div.sk-toggleable__content {max-height: 0;max-width: 0;overflow: hidden;text-align: left;background-color: #f0f8ff;}#sk-container-id-2 div.sk-toggleable__content pre {margin: 0.2em;color: black;border-radius: 0.25em;background-color: #f0f8ff;}#sk-container-id-2 input.sk-toggleable__control:checked~div.sk-toggleable__content {max-height: 200px;max-width: 100%;overflow: auto;}#sk-container-id-2 input.sk-toggleable__control:checked~label.sk-toggleable__label-arrow:before {content: \"▾\";}#sk-container-id-2 div.sk-estimator input.sk-toggleable__control:checked~label.sk-toggleable__label {background-color: #d4ebff;}#sk-container-id-2 div.sk-label input.sk-toggleable__control:checked~label.sk-toggleable__label {background-color: #d4ebff;}#sk-container-id-2 input.sk-hidden--visually {border: 0;clip: rect(1px 1px 1px 1px);clip: rect(1px, 1px, 1px, 1px);height: 1px;margin: -1px;overflow: hidden;padding: 0;position: absolute;width: 1px;}#sk-container-id-2 div.sk-estimator {font-family: monospace;background-color: #f0f8ff;border: 1px dotted black;border-radius: 0.25em;box-sizing: border-box;margin-bottom: 0.5em;}#sk-container-id-2 div.sk-estimator:hover {background-color: #d4ebff;}#sk-container-id-2 div.sk-parallel-item::after {content: \"\";width: 100%;border-bottom: 1px solid gray;flex-grow: 1;}#sk-container-id-2 div.sk-label:hover label.sk-toggleable__label {background-color: #d4ebff;}#sk-container-id-2 div.sk-serial::before {content: \"\";position: absolute;border-left: 1px solid gray;box-sizing: border-box;top: 0;bottom: 0;left: 50%;z-index: 0;}#sk-container-id-2 div.sk-serial {display: flex;flex-direction: column;align-items: center;background-color: white;padding-right: 0.2em;padding-left: 0.2em;position: relative;}#sk-container-id-2 div.sk-item {position: relative;z-index: 1;}#sk-container-id-2 div.sk-parallel {display: flex;align-items: stretch;justify-content: center;background-color: white;position: relative;}#sk-container-id-2 div.sk-item::before, #sk-container-id-2 div.sk-parallel-item::before {content: \"\";position: absolute;border-left: 1px solid gray;box-sizing: border-box;top: 0;bottom: 0;left: 50%;z-index: -1;}#sk-container-id-2 div.sk-parallel-item {display: flex;flex-direction: column;z-index: 1;position: relative;background-color: white;}#sk-container-id-2 div.sk-parallel-item:first-child::after {align-self: flex-end;width: 50%;}#sk-container-id-2 div.sk-parallel-item:last-child::after {align-self: flex-start;width: 50%;}#sk-container-id-2 div.sk-parallel-item:only-child::after {width: 0;}#sk-container-id-2 div.sk-dashed-wrapped {border: 1px dashed gray;margin: 0 0.4em 0.5em 0.4em;box-sizing: border-box;padding-bottom: 0.4em;background-color: white;}#sk-container-id-2 div.sk-label label {font-family: monospace;font-weight: bold;display: inline-block;line-height: 1.2em;}#sk-container-id-2 div.sk-label-container {text-align: center;}#sk-container-id-2 div.sk-container {/* jupyter's `normalize.less` sets `[hidden] { display: none; }` but bootstrap.min.css set `[hidden] { display: none !important; }` so we also need the `!important` here to be able to override the default hidden behavior on the sphinx rendered scikit-learn.org. See: https://github.com/scikit-learn/scikit-learn/issues/21755 */display: inline-block !important;position: relative;}#sk-container-id-2 div.sk-text-repr-fallback {display: none;}</style><div id=\"sk-container-id-2\" class=\"sk-top-container\"><div class=\"sk-text-repr-fallback\"><pre>KNeighborsClassifier(n_neighbors=11)</pre><b>In a Jupyter environment, please rerun this cell to show the HTML representation or trust the notebook. <br />On GitHub, the HTML representation is unable to render, please try loading this page with nbviewer.org.</b></div><div class=\"sk-container\" hidden><div class=\"sk-item\"><div class=\"sk-estimator sk-toggleable\"><input class=\"sk-toggleable__control sk-hidden--visually\" id=\"sk-estimator-id-6\" type=\"checkbox\" checked><label for=\"sk-estimator-id-6\" class=\"sk-toggleable__label sk-toggleable__label-arrow\">KNeighborsClassifier</label><div class=\"sk-toggleable__content\"><pre>KNeighborsClassifier(n_neighbors=11)</pre></div></div></div></div></div>"
            ]
          },
          "metadata": {},
          "execution_count": 26
        }
      ]
    },
    {
      "cell_type": "code",
      "source": [
        "y_pred = knn.predict(X_test_pca)\n",
        "print(classification_report(y_test,y_pred, zero_division=0))\n",
        "print(accuracy_score(y_test,y_pred))"
      ],
      "metadata": {
        "colab": {
          "base_uri": "https://localhost:8080/"
        },
        "id": "jl3cLIiUOJPX",
        "outputId": "cde81539-acd9-470e-c4c6-0969754f3ae0"
      },
      "execution_count": 27,
      "outputs": [
        {
          "output_type": "stream",
          "name": "stdout",
          "text": [
            "                                precision    recall  f1-score   support\n",
            "\n",
            "           Bergmann glial cell       1.00      0.10      0.18        10\n",
            "                     astrocyte       0.84      0.88      0.86       112\n",
            "                brain pericyte       0.96      0.92      0.94        52\n",
            "              endothelial cell       0.97      0.99      0.98       170\n",
            "                        neuron       0.78      0.97      0.87        78\n",
            "               oligodendrocyte       0.98      0.93      0.95       375\n",
            "oligodendrocyte precursor cell       0.90      0.98      0.94        54\n",
            "\n",
            "                      accuracy                           0.93       851\n",
            "                     macro avg       0.92      0.82      0.82       851\n",
            "                  weighted avg       0.94      0.93      0.93       851\n",
            "\n",
            "0.9306698002350177\n"
          ]
        }
      ]
    },
    {
      "cell_type": "code",
      "source": [
        "disp = ConfusionMatrixDisplay.from_predictions(y_test, y_pred, xticks_rotation='vertical')"
      ],
      "metadata": {
        "colab": {
          "base_uri": "https://localhost:8080/",
          "height": 647
        },
        "id": "HDpkx1-zOdxQ",
        "outputId": "bb645471-6b17-4bde-ac85-032b02de3475"
      },
      "execution_count": 28,
      "outputs": [
        {
          "output_type": "display_data",
          "data": {
            "text/plain": [
              "<Figure size 640x480 with 2 Axes>"
            ],
            "image/png": "[encoded data removed]"
          },
          "metadata": {}
        }
      ]
    },
    {
      "cell_type": "markdown",
      "source": [
        "**Cross Validation to get the best value of K**\n"
      ],
      "metadata": {
        "id": "obwrU1yCP6UF"
      }
    },
    {
      "cell_type": "code",
      "source": [
        "k_values=[i for i in range(1,31)]\n",
        "scores=[]\n",
        "scaler=StandardScaler()\n",
        "X=scaler.fit_transform(X)\n",
        "X=pca.fit_transform(X)\n",
        "for k in k_values:\n",
        "  knn=KNeighborsClassifier(n_neighbors=k)\n",
        "  score=cross_val_score(knn,X,y, cv=5)\n",
        "  scores.append(np.mean(score))\n",
        "sns.lineplot(x = k_values , y= scores, marker ='o')\n",
        "plt.xlabel(\"K Values\")\n",
        "plt.ylabel(\"Accuracy Score\")"
      ],
      "metadata": {
        "colab": {
          "base_uri": "https://localhost:8080/",
          "height": 467
        },
        "id": "smEr6mzTP9A8",
        "outputId": "cea0c3e1-51e2-4ad5-ed4f-2500c0c60a90"
      },
      "execution_count": 29,
      "outputs": [
        {
          "output_type": "execute_result",
          "data": {
            "text/plain": [
              "Text(0, 0.5, 'Accuracy Score')"
            ]
          },
          "metadata": {},
          "execution_count": 29
        },
        {
          "output_type": "display_data",
          "data": {
            "text/plain": [
              "<Figure size 640x480 with 1 Axes>"
            ],
            "image/png": "[encoded data removed]"
          },
          "metadata": {}
        }
      ]
    },
    {
      "cell_type": "code",
      "source": [
        "best_index = np.argmax(scores)\n",
        "best_k = k_values[best_index]\n",
        "knn = KNeighborsClassifier(n_neighbors =best_k)\n",
        "knn.fit(X_train_pca, y_train)"
      ],
      "metadata": {
        "colab": {
          "base_uri": "https://localhost:8080/",
          "height": 74
        },
        "id": "h6jOFAlvTKWu",
        "outputId": "388b3988-5844-4f45-a3fd-10191232c4f9"
      },
      "execution_count": 30,
      "outputs": [
        {
          "output_type": "execute_result",
          "data": {
            "text/plain": [
              "KNeighborsClassifier(n_neighbors=3)"
            ],
            "text/html": [
              "<style>#sk-container-id-3 {color: black;background-color: white;}#sk-container-id-3 pre{padding: 0;}#sk-container-id-3 div.sk-toggleable {background-color: white;}#sk-container-id-3 label.sk-toggleable__label {cursor: pointer;display: block;width: 100%;margin-bottom: 0;padding: 0.3em;box-sizing: border-box;text-align: center;}#sk-container-id-3 label.sk-toggleable__label-arrow:before {content: \"▸\";float: left;margin-right: 0.25em;color: #696969;}#sk-container-id-3 label.sk-toggleable__label-arrow:hover:before {color: black;}#sk-container-id-3 div.sk-estimator:hover label.sk-toggleable__label-arrow:before {color: black;}#sk-container-id-3 div.sk-toggleable__content {max-height: 0;max-width: 0;overflow: hidden;text-align: left;background-color: #f0f8ff;}#sk-container-id-3 div.sk-toggleable__content pre {margin: 0.2em;color: black;border-radius: 0.25em;background-color: #f0f8ff;}#sk-container-id-3 input.sk-toggleable__control:checked~div.sk-toggleable__content {max-height: 200px;max-width: 100%;overflow: auto;}#sk-container-id-3 input.sk-toggleable__control:checked~label.sk-toggleable__label-arrow:before {content: \"▾\";}#sk-container-id-3 div.sk-estimator input.sk-toggleable__control:checked~label.sk-toggleable__label {background-color: #d4ebff;}#sk-container-id-3 div.sk-label input.sk-toggleable__control:checked~label.sk-toggleable__label {background-color: #d4ebff;}#sk-container-id-3 input.sk-hidden--visually {border: 0;clip: rect(1px 1px 1px 1px);clip: rect(1px, 1px, 1px, 1px);height: 1px;margin: -1px;overflow: hidden;padding: 0;position: absolute;width: 1px;}#sk-container-id-3 div.sk-estimator {font-family: monospace;background-color: #f0f8ff;border: 1px dotted black;border-radius: 0.25em;box-sizing: border-box;margin-bottom: 0.5em;}#sk-container-id-3 div.sk-estimator:hover {background-color: #d4ebff;}#sk-container-id-3 div.sk-parallel-item::after {content: \"\";width: 100%;border-bottom: 1px solid gray;flex-grow: 1;}#sk-container-id-3 div.sk-label:hover label.sk-toggleable__label {background-color: #d4ebff;}#sk-container-id-3 div.sk-serial::before {content: \"\";position: absolute;border-left: 1px solid gray;box-sizing: border-box;top: 0;bottom: 0;left: 50%;z-index: 0;}#sk-container-id-3 div.sk-serial {display: flex;flex-direction: column;align-items: center;background-color: white;padding-right: 0.2em;padding-left: 0.2em;position: relative;}#sk-container-id-3 div.sk-item {position: relative;z-index: 1;}#sk-container-id-3 div.sk-parallel {display: flex;align-items: stretch;justify-content: center;background-color: white;position: relative;}#sk-container-id-3 div.sk-item::before, #sk-container-id-3 div.sk-parallel-item::before {content: \"\";position: absolute;border-left: 1px solid gray;box-sizing: border-box;top: 0;bottom: 0;left: 50%;z-index: -1;}#sk-container-id-3 div.sk-parallel-item {display: flex;flex-direction: column;z-index: 1;position: relative;background-color: white;}#sk-container-id-3 div.sk-parallel-item:first-child::after {align-self: flex-end;width: 50%;}#sk-container-id-3 div.sk-parallel-item:last-child::after {align-self: flex-start;width: 50%;}#sk-container-id-3 div.sk-parallel-item:only-child::after {width: 0;}#sk-container-id-3 div.sk-dashed-wrapped {border: 1px dashed gray;margin: 0 0.4em 0.5em 0.4em;box-sizing: border-box;padding-bottom: 0.4em;background-color: white;}#sk-container-id-3 div.sk-label label {font-family: monospace;font-weight: bold;display: inline-block;line-height: 1.2em;}#sk-container-id-3 div.sk-label-container {text-align: center;}#sk-container-id-3 div.sk-container {/* jupyter's `normalize.less` sets `[hidden] { display: none; }` but bootstrap.min.css set `[hidden] { display: none !important; }` so we also need the `!important` here to be able to override the default hidden behavior on the sphinx rendered scikit-learn.org. See: https://github.com/scikit-learn/scikit-learn/issues/21755 */display: inline-block !important;position: relative;}#sk-container-id-3 div.sk-text-repr-fallback {display: none;}</style><div id=\"sk-container-id-3\" class=\"sk-top-container\"><div class=\"sk-text-repr-fallback\"><pre>KNeighborsClassifier(n_neighbors=3)</pre><b>In a Jupyter environment, please rerun this cell to show the HTML representation or trust the notebook. <br />On GitHub, the HTML representation is unable to render, please try loading this page with nbviewer.org.</b></div><div class=\"sk-container\" hidden><div class=\"sk-item\"><div class=\"sk-estimator sk-toggleable\"><input class=\"sk-toggleable__control sk-hidden--visually\" id=\"sk-estimator-id-7\" type=\"checkbox\" checked><label for=\"sk-estimator-id-7\" class=\"sk-toggleable__label sk-toggleable__label-arrow\">KNeighborsClassifier</label><div class=\"sk-toggleable__content\"><pre>KNeighborsClassifier(n_neighbors=3)</pre></div></div></div></div></div>"
            ]
          },
          "metadata": {},
          "execution_count": 30
        }
      ]
    },
    {
      "cell_type": "code",
      "source": [
        "y_pred = knn.predict (X_test_pca)\n",
        "\n",
        "knn_accuracy =accuracy_score(y_test, y_pred)\n",
        "precision = precision_score(y_test, y_pred,average='micro')\n",
        "recall = recall_score(y_test, y_pred,average='micro')\n",
        "print(\"Accuracy:\", knn_accuracy)\n",
        "print(\"Precision:\", precision)\n",
        "print(\"Recall:\", recall)"
      ],
      "metadata": {
        "colab": {
          "base_uri": "https://localhost:8080/"
        },
        "id": "Dq6ke-Q6TMS2",
        "outputId": "c31a7bc2-30bf-4a52-9f17-0c3a55647b2c"
      },
      "execution_count": 31,
      "outputs": [
        {
          "output_type": "stream",
          "name": "stdout",
          "text": [
            "Accuracy: 0.9341950646298472\n",
            "Precision: 0.9341950646298472\n",
            "Recall: 0.9341950646298472\n"
          ]
        }
      ]
    },
    {
      "cell_type": "markdown",
      "source": [
        "\n",
        "\n",
        "\n",
        "# PIPELINE SVM"
      ],
      "metadata": {
        "collapsed": false,
        "id": "3QL4IlWScpc8"
      }
    },
    {
      "cell_type": "markdown",
      "source": [
        "Una Support Vector Machine cerca di costruire un iperpiano nello spazio delle feature che abbia distanza massima dal punto più vicino nel training set (margine funzionale). Dataset non linearmente separabili possono diventarlo applicando una funzione nonlineare a ogni coppia di osservazioni (*kernel*).\n",
        "Gli iperparametri che consideriamo sono il parametro di regolarizzazione C, la funzione kernel, il grado del polinomio nel caso di kernel polinomiale e il peso assegnato agli errori"
      ],
      "metadata": {
        "id": "5nPN8mYKQz-9"
      }
    },
    {
      "cell_type": "code",
      "execution_count": 32,
      "outputs": [],
      "source": [
        "from sklearn.decomposition import PCA\n",
        "from sklearn.preprocessing import StandardScaler\n",
        "from sklearn.pipeline import Pipeline\n",
        "from sklearn.svm import SVC\n",
        "\n",
        "pca = PCA(n_components=50)\n",
        "scaler = StandardScaler()\n",
        "svm = SVC()\n",
        "pipe = Pipeline([('scaler', scaler), ('pca', pca), ('svm', svm)])\n",
        "\n",
        "param_grid = {\n",
        "\t\"svm__C\": [0.01, 0.05, 0.1],\n",
        "\t\"svm__kernel\": [\"linear\", \"rbf\", \"poly\"],\n",
        "\t# \"svm__degree\": range(2, 6),\n",
        "\t\"svm__class_weight\": [None, \"balanced\"]      # Impostando questo parametro su \"balanced\" l'errore nella predizione di un elemento ha un peso\n",
        "                                               # inversamente proporzionale alla frequenza della sua classe nel training set\n",
        "}\n"
      ],
      "metadata": {
        "ExecuteTime": {
          "end_time": "2023-06-27T09:30:44.337306600Z",
          "start_time": "2023-06-27T09:30:43.060410100Z"
        },
        "id": "mxlXogrHcpc-"
      }
    },
    {
      "cell_type": "code",
      "execution_count": null,
      "outputs": [
        {
          "output_type": "stream",
          "name": "stdout",
          "text": [
            "Fitting 5 folds for each of 18 candidates, totalling 90 fits\n"
          ]
        }
      ],
      "source": [
        "from sklearn.model_selection import GridSearchCV\n",
        "grid = GridSearchCV(pipe, param_grid, cv=5, n_jobs=-1, verbose=3)\n",
        "grid.fit(X_train, y_train)\n"
      ],
      "metadata": {
        "ExecuteTime": {
          "end_time": "2023-06-27T09:35:34.442809300Z",
          "start_time": "2023-06-27T09:33:26.217153400Z"
        },
        "colab": {
          "base_uri": "https://localhost:8080/"
        },
        "id": "6y1fpZTocpc_",
        "outputId": "fb7aeee4-faaa-480e-b27f-a22e3d29b357"
      }
    },
    {
      "cell_type": "code",
      "execution_count": null,
      "outputs": [],
      "source": [
        "print(\"Best parameter (CV score=%0.3f):\" % grid.best_score_)\n",
        "print(grid.best_params_)"
      ],
      "metadata": {
        "id": "_wlRxNDCcpdA"
      }
    },
    {
      "cell_type": "code",
      "source": [
        "grid.score(X_test, y_test)"
      ],
      "metadata": {
        "id": "C7hmv5m7bsdo"
      },
      "execution_count": null,
      "outputs": []
    },
    {
      "cell_type": "code",
      "source": [
        "estimator = grid.best_estimator_"
      ],
      "metadata": {
        "id": "jrkPonmabwp8"
      },
      "execution_count": null,
      "outputs": []
    },
    {
      "cell_type": "code",
      "source": [
        "y_pred = estimator.predict(X_test)\n",
        "from sklearn.metrics import f1_score, ConfusionMatrixDisplay, classification_report\n",
        "print(f1_score(y_test, y_pred, average='weighted'))\n",
        "print(classification_report(y_test,y_pred))\n",
        "disp = ConfusionMatrixDisplay.from_predictions(y_test, y_pred, xticks_rotation='vertical')"
      ],
      "metadata": {
        "id": "QxwqR2m1byXJ"
      },
      "execution_count": null,
      "outputs": []
    },
    {
      "cell_type": "markdown",
      "source": [
        "# PIPELINE RANDOM FOREST"
      ],
      "metadata": {
        "id": "gO4yMLP524-d"
      }
    },
    {
      "cell_type": "markdown",
      "source": [
        "Una Random Forest è un modello ensemble formato da una combinazione (bagging) di alberi decisionali. Ogni albero viene addestrato su un campione selezionato tramite bootstrap dal training set e la predizione finale è data dalla classe predetta dalla maggioranza degli alberi.\n",
        "Gli iperparametri che consideriamo sono il numero di alberi e il peso degli errori."
      ],
      "metadata": {
        "id": "PScdVbkLu_RW"
      }
    },
    {
      "cell_type": "code",
      "source": [
        "from sklearn.decomposition import PCA\n",
        "from sklearn.preprocessing import StandardScaler\n",
        "from sklearn.pipeline import Pipeline\n",
        "from sklearn.ensemble import RandomForestClassifier\n",
        "\n",
        "pca = PCA()\n",
        "scaler = StandardScaler()\n",
        "rfc = RandomForestClassifier()\n",
        "pipe = Pipeline([('scaler', scaler), ('pca', pca), ('rfc', rfc)])\n",
        "\n",
        "param_grid = {\n",
        "    \"pca__n_components\": [50, 70, 100],\n",
        "    \"rfc__n_estimators\": [100, 150, 200],\n",
        "    \"rfc__class_weight\": [None, \"balanced\"] # Impostando questo parametro su \"balanced\" l'errore nella predizione di un elemento ha un peso\n",
        "                                            # inversamente proporzionale alla frequenza della sua classe nel training set\n",
        "}"
      ],
      "metadata": {
        "id": "1zb4-ssL2-Em"
      },
      "execution_count": null,
      "outputs": []
    },
    {
      "cell_type": "code",
      "source": [
        "from sklearn.model_selection import GridSearchCV\n",
        "grid = GridSearchCV(pipe, param_grid, cv=5, n_jobs=-1, verbose=3)\n",
        "grid.fit(X_train, y_train)"
      ],
      "metadata": {
        "id": "Ux9NbQm-5MlL"
      },
      "execution_count": null,
      "outputs": []
    },
    {
      "cell_type": "code",
      "source": [
        "print(\"Best parameter (CV score=%0.3f):\" % grid.best_score_)\n",
        "print(grid.best_params_)"
      ],
      "metadata": {
        "id": "wZPjmrlT5UZm"
      },
      "execution_count": null,
      "outputs": []
    },
    {
      "cell_type": "code",
      "source": [
        "grid.score(X_test, y_test)"
      ],
      "metadata": {
        "id": "DN7okhVe61Vx"
      },
      "execution_count": null,
      "outputs": []
    },
    {
      "cell_type": "code",
      "source": [
        "\n",
        "estimator = grid.best_estimator_"
      ],
      "metadata": {
        "id": "FokqyMYu7R9p"
      },
      "execution_count": null,
      "outputs": []
    },
    {
      "cell_type": "code",
      "source": [
        "y_pred = estimator.predict(X_test)\n",
        "from sklearn.metrics import f1_score, confusion_matrix\n",
        "print(f1_score(y_test, y_pred, average='weighted'))\n",
        "print(classification_report(y_test,y_pred))"
      ],
      "metadata": {
        "id": "Fq-uD4qn8mbs"
      },
      "execution_count": null,
      "outputs": []
    },
    {
      "cell_type": "code",
      "source": [
        "disp = ConfusionMatrixDisplay.from_predictions(y_test, y_pred, xticks_rotation='vertical')"
      ],
      "metadata": {
        "id": "EIFFK6J2SP4L"
      },
      "execution_count": null,
      "outputs": []
    },
    {
      "cell_type": "code",
      "source": [
        "disp = ConfusionMatrixDisplay.from_predictions(y_test, y_pred, xticks_rotation='vertical', normalize='true')"
      ],
      "metadata": {
        "id": "A2SbwBhf8ya_"
      },
      "execution_count": null,
      "outputs": []
    },
    {
      "cell_type": "markdown",
      "source": [
        "#SENZA BERGMANN GLIAL CELL"
      ],
      "metadata": {
        "id": "o73Nnwqd0-3M"
      }
    },
    {
      "cell_type": "code",
      "source": [
        "data = data[data.cell_ontology_class != 'Bergmann glial cell']\n",
        "data.shape"
      ],
      "metadata": {
        "id": "d4TY13XFuQZ7"
      },
      "execution_count": null,
      "outputs": []
    },
    {
      "cell_type": "code",
      "source": [
        "X = data.drop('cell_ontology_class', axis=1)\n",
        "y = data['cell_ontology_class']"
      ],
      "metadata": {
        "id": "FArd-R1D0kor"
      },
      "execution_count": null,
      "outputs": []
    },
    {
      "cell_type": "code",
      "source": [
        "X_train, X_test, y_train, y_test = train_test_split(X, y)"
      ],
      "metadata": {
        "id": "S-y8EVQg1D3x"
      },
      "execution_count": null,
      "outputs": []
    },
    {
      "cell_type": "markdown",
      "source": [
        "\n",
        "## PIPELINE SVM"
      ],
      "metadata": {
        "id": "4sy4lb_WXvA4"
      }
    },
    {
      "cell_type": "code",
      "source": [
        "pca = PCA(n_components=50)\n",
        "scaler = StandardScaler()\n",
        "svm = SVC()\n",
        "pipe = Pipeline([('scaler', scaler), ('pca', pca), ('svm', svm)])\n",
        "\n",
        "param_grid = {\n",
        "\t\"svm__C\": [0.01, 0.05, 0.1],\n",
        "\t\"svm__kernel\": [\"linear\", \"rbf\", \"poly\"],\n",
        "\t# \"svm__degree\": range(2, 6), # degree for polynomial kernel\n",
        "\t\"svm__class_weight\": [None, \"balanced\"]\n",
        "}"
      ],
      "metadata": {
        "id": "EFxFL_uQ1FnO"
      },
      "execution_count": null,
      "outputs": []
    },
    {
      "cell_type": "code",
      "source": [
        "from sklearn.model_selection import GridSearchCV\n",
        "grid = GridSearchCV(pipe, param_grid, cv=5, n_jobs=-1, verbose=3)\n",
        "grid.fit(X_train, y_train)"
      ],
      "metadata": {
        "id": "K3JaqK741J8_"
      },
      "execution_count": null,
      "outputs": []
    },
    {
      "cell_type": "code",
      "source": [
        "print(\"Best parameter (CV score=%0.3f):\" % grid.best_score_)\n",
        "print(grid.best_params_)"
      ],
      "metadata": {
        "id": "8YeTfQ6T1Lzz"
      },
      "execution_count": null,
      "outputs": []
    },
    {
      "cell_type": "code",
      "source": [
        "grid.score(X_test, y_test)"
      ],
      "metadata": {
        "id": "DUA_6MJ_1NWU"
      },
      "execution_count": null,
      "outputs": []
    },
    {
      "cell_type": "code",
      "source": [
        "estimator = grid.best_estimator_"
      ],
      "metadata": {
        "id": "svUHy9qn1Ow6"
      },
      "execution_count": null,
      "outputs": []
    },
    {
      "cell_type": "code",
      "source": [
        "y_pred = estimator.predict(X_test)\n",
        "from sklearn.metrics import f1_score, ConfusionMatrixDisplay, classification_report\n",
        "print(f1_score(y_test, y_pred, average='weighted'))\n",
        "print(classification_report(y_test,y_pred))\n",
        "disp = ConfusionMatrixDisplay.from_predictions(y_test, y_pred, xticks_rotation='vertical')"
      ],
      "metadata": {
        "id": "Ou2IXVxQ1QFo"
      },
      "execution_count": null,
      "outputs": []
    }
  ],
  "metadata": {
    "kernelspec": {
      "display_name": "Python 3",
      "name": "python3"
    },
    "language_info": {
      "codemirror_mode": {
        "name": "ipython",
        "version": 2
      },
      "file_extension": ".py",
      "mimetype": "text/x-python",
      "name": "python",
      "nbconvert_exporter": "python",
      "pygments_lexer": "ipython2",
      "version": "2.7.6"
    },
    "colab": {
      "provenance": [],
      "gpuType": "T4",
      "include_colab_link": true
    },
    "accelerator": "GPU"
  },
  "nbformat": 4,
  "nbformat_minor": 0
}