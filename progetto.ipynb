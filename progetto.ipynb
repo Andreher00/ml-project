{
  "cells": [
    {
      "cell_type": "markdown",
      "metadata": {
        "id": "view-in-github",
        "colab_type": "text"
      },
      "source": [
        "<a href=\"https://colab.research.google.com/github/Andreher00/ml-project/blob/main/progetto.ipynb\" target=\"_parent\"><img src=\"https://colab.research.google.com/assets/colab-badge.svg\" alt=\"Open In Colab\"/></a>"
      ]
    },
    {
      "cell_type": "markdown",
      "source": [
        "# Machine learning for cell type classification from single nucleus RNA sequencing data\n",
        "\n",
        "---\n",
        "\n"
      ],
      "metadata": {
        "id": "V60H2OA6nuVk"
      }
    },
    {
      "cell_type": "markdown",
      "source": [
        "Il sequenziamento dell'RNA a singola cellula  (single cell RNA-Seq) permette\n",
        "un'analisi approfondita dell'espressione genica e fornisce una\n",
        "panoramica più dettagliata sulle funzioni cellulari. Tuttavia, il task di classificazione delle cellule in specifiche e ben definite categorie attraverso i dati provienienti dal sequenziamento dell'RNA rimane un problema non banale a causa delle difficoltà nel determinare le differenze specifiche fra tipi cellulari con similarità trascrizionali vicine. Abbiamo esplorato possibili metodi di machine learning per affrontare questo task di classificazione multiclasse, attraverso l'utilizzo di SVM, KNN e Random Forest.\n",
        "Il Dataset utilizzato è https://www.kaggle.com/datasets/aayush9753/singlecell-rnaseq-data-from-mouse-brain?select=brain_metadata.csv"
      ],
      "metadata": {
        "id": "82AZ3qoFNJtt"
      }
    },
    {
      "cell_type": "code",
      "source": [
        "import pandas as pd\n",
        "import numpy as np\n",
        "import matplotlib.pyplot as plt\n",
        "import seaborn as sns\n",
        "from sklearn.model_selection import train_test_split"
      ],
      "metadata": {
        "id": "RgjM70ykYqbg"
      },
      "execution_count": null,
      "outputs": []
    },
    {
      "cell_type": "code",
      "source": [
        "from google.colab import drive\n",
        "drive.mount('/content/drive', force_remount=True)"
      ],
      "metadata": {
        "colab": {
          "base_uri": "https://localhost:8080/"
        },
        "id": "shrzBW54cwCB",
        "outputId": "2a23f382-705b-46e9-c9b2-750ade724485"
      },
      "execution_count": null,
      "outputs": [
        {
          "output_type": "stream",
          "name": "stdout",
          "text": [
            "Mounted at /content/drive\n"
          ]
        }
      ]
    },
    {
      "cell_type": "markdown",
      "source": [
        "\n",
        "Il dataset consiste di:\n",
        "* una matrice di\n",
        "espressione genica derivante da un organismo modello ovvero il Mus Musculus e riguardante in particolare il tessuto cerebrale. Ogni colonna corrisponde a un gene e ogni riga corrisponde alla singola cellula.\n",
        "* una tabella di metadati che riporta la descrizione di ogni singola cellula."
      ],
      "metadata": {
        "id": "p8ZEFBofS583"
      }
    },
    {
      "cell_type": "code",
      "execution_count": null,
      "outputs": [],
      "source": [
        "data = pd.read_csv('/content/drive/MyDrive/progettoML/brain_counts.csv.gz')\n",
        "annotations = pd.read_csv('/content/drive/MyDrive/progettoML/brain_metadata.csv')"
      ],
      "metadata": {
        "ExecuteTime": {
          "end_time": "2023-06-27T09:20:04.178778Z",
          "start_time": "2023-06-27T09:18:03.957939900Z"
        },
        "id": "J0CK2ut5cpcP"
      }
    },
    {
      "cell_type": "code",
      "execution_count": null,
      "outputs": [
        {
          "output_type": "execute_result",
          "data": {
            "text/plain": [
              "(3401, 23434)"
            ]
          },
          "metadata": {},
          "execution_count": 5
        }
      ],
      "source": [
        "data.shape"
      ],
      "metadata": {
        "ExecuteTime": {
          "end_time": "2023-06-27T09:20:07.708466800Z",
          "start_time": "2023-06-27T09:20:07.627836300Z"
        },
        "id": "tA0JNV3PcpcR",
        "outputId": "ecc4ee6d-b44b-4050-d2b2-238cef419010",
        "colab": {
          "base_uri": "https://localhost:8080/"
        }
      }
    },
    {
      "cell_type": "code",
      "execution_count": null,
      "outputs": [
        {
          "output_type": "execute_result",
          "data": {
            "text/plain": [
              "                Unnamed: 0  0610005C13Rik  0610007C21Rik  0610007L01Rik  \\\n",
              "0    A1.B003290.3_38_F.1.1              0            125             16   \n",
              "1    A1.B003728.3_56_F.1.1              0              0              0   \n",
              "2  A1.MAA000560.3_10_M.1.1              0            348              0   \n",
              "3  A1.MAA000564.3_10_M.1.1              0             41             36   \n",
              "4   A1.MAA000923.3_9_M.1.1              0             53              0   \n",
              "\n",
              "   0610007N19Rik  0610007P08Rik  0610007P14Rik  0610007P22Rik  0610008F07Rik  \\\n",
              "0              0              0              0              0              0   \n",
              "1              0              0            324              0              0   \n",
              "2              0              0              5              0              0   \n",
              "3              0              0             24              0              0   \n",
              "4              0              0              0              0              0   \n",
              "\n",
              "   0610009B14Rik  ...  Zxdb  Zxdc  Zyg11a  Zyg11b  Zyx  Zzef1  Zzz3  a  l7Rn6  \\\n",
              "0              0  ...     0     0       0       0    0      0     0  0     54   \n",
              "1              0  ...     0     0       0       0    0      0     0  0      0   \n",
              "2              0  ...     0     0       0       0    0    195     0  0    113   \n",
              "3              0  ...     0     0       0       0  125      0     1  0      0   \n",
              "4              0  ...     0     0       0      81    0      0     0  0      0   \n",
              "\n",
              "   zsGreen_transgene  \n",
              "0                  0  \n",
              "1                  0  \n",
              "2                  0  \n",
              "3                  0  \n",
              "4                  0  \n",
              "\n",
              "[5 rows x 23434 columns]"
            ],
            "text/html": [
              "\n",
              "\n",
              "  <div id=\"df-8fba02b2-0f53-4fbf-8b20-d687c83cccae\">\n",
              "    <div class=\"colab-df-container\">\n",
              "      <div>\n",
              "<style scoped>\n",
              "    .dataframe tbody tr th:only-of-type {\n",
              "        vertical-align: middle;\n",
              "    }\n",
              "\n",
              "    .dataframe tbody tr th {\n",
              "        vertical-align: top;\n",
              "    }\n",
              "\n",
              "    .dataframe thead th {\n",
              "        text-align: right;\n",
              "    }\n",
              "</style>\n",
              "<table border=\"1\" class=\"dataframe\">\n",
              "  <thead>\n",
              "    <tr style=\"text-align: right;\">\n",
              "      <th></th>\n",
              "      <th>Unnamed: 0</th>\n",
              "      <th>0610005C13Rik</th>\n",
              "      <th>0610007C21Rik</th>\n",
              "      <th>0610007L01Rik</th>\n",
              "      <th>0610007N19Rik</th>\n",
              "      <th>0610007P08Rik</th>\n",
              "      <th>0610007P14Rik</th>\n",
              "      <th>0610007P22Rik</th>\n",
              "      <th>0610008F07Rik</th>\n",
              "      <th>0610009B14Rik</th>\n",
              "      <th>...</th>\n",
              "      <th>Zxdb</th>\n",
              "      <th>Zxdc</th>\n",
              "      <th>Zyg11a</th>\n",
              "      <th>Zyg11b</th>\n",
              "      <th>Zyx</th>\n",
              "      <th>Zzef1</th>\n",
              "      <th>Zzz3</th>\n",
              "      <th>a</th>\n",
              "      <th>l7Rn6</th>\n",
              "      <th>zsGreen_transgene</th>\n",
              "    </tr>\n",
              "  </thead>\n",
              "  <tbody>\n",
              "    <tr>\n",
              "      <th>0</th>\n",
              "      <td>A1.B003290.3_38_F.1.1</td>\n",
              "      <td>0</td>\n",
              "      <td>125</td>\n",
              "      <td>16</td>\n",
              "      <td>0</td>\n",
              "      <td>0</td>\n",
              "      <td>0</td>\n",
              "      <td>0</td>\n",
              "      <td>0</td>\n",
              "      <td>0</td>\n",
              "      <td>...</td>\n",
              "      <td>0</td>\n",
              "      <td>0</td>\n",
              "      <td>0</td>\n",
              "      <td>0</td>\n",
              "      <td>0</td>\n",
              "      <td>0</td>\n",
              "      <td>0</td>\n",
              "      <td>0</td>\n",
              "      <td>54</td>\n",
              "      <td>0</td>\n",
              "    </tr>\n",
              "    <tr>\n",
              "      <th>1</th>\n",
              "      <td>A1.B003728.3_56_F.1.1</td>\n",
              "      <td>0</td>\n",
              "      <td>0</td>\n",
              "      <td>0</td>\n",
              "      <td>0</td>\n",
              "      <td>0</td>\n",
              "      <td>324</td>\n",
              "      <td>0</td>\n",
              "      <td>0</td>\n",
              "      <td>0</td>\n",
              "      <td>...</td>\n",
              "      <td>0</td>\n",
              "      <td>0</td>\n",
              "      <td>0</td>\n",
              "      <td>0</td>\n",
              "      <td>0</td>\n",
              "      <td>0</td>\n",
              "      <td>0</td>\n",
              "      <td>0</td>\n",
              "      <td>0</td>\n",
              "      <td>0</td>\n",
              "    </tr>\n",
              "    <tr>\n",
              "      <th>2</th>\n",
              "      <td>A1.MAA000560.3_10_M.1.1</td>\n",
              "      <td>0</td>\n",
              "      <td>348</td>\n",
              "      <td>0</td>\n",
              "      <td>0</td>\n",
              "      <td>0</td>\n",
              "      <td>5</td>\n",
              "      <td>0</td>\n",
              "      <td>0</td>\n",
              "      <td>0</td>\n",
              "      <td>...</td>\n",
              "      <td>0</td>\n",
              "      <td>0</td>\n",
              "      <td>0</td>\n",
              "      <td>0</td>\n",
              "      <td>0</td>\n",
              "      <td>195</td>\n",
              "      <td>0</td>\n",
              "      <td>0</td>\n",
              "      <td>113</td>\n",
              "      <td>0</td>\n",
              "    </tr>\n",
              "    <tr>\n",
              "      <th>3</th>\n",
              "      <td>A1.MAA000564.3_10_M.1.1</td>\n",
              "      <td>0</td>\n",
              "      <td>41</td>\n",
              "      <td>36</td>\n",
              "      <td>0</td>\n",
              "      <td>0</td>\n",
              "      <td>24</td>\n",
              "      <td>0</td>\n",
              "      <td>0</td>\n",
              "      <td>0</td>\n",
              "      <td>...</td>\n",
              "      <td>0</td>\n",
              "      <td>0</td>\n",
              "      <td>0</td>\n",
              "      <td>0</td>\n",
              "      <td>125</td>\n",
              "      <td>0</td>\n",
              "      <td>1</td>\n",
              "      <td>0</td>\n",
              "      <td>0</td>\n",
              "      <td>0</td>\n",
              "    </tr>\n",
              "    <tr>\n",
              "      <th>4</th>\n",
              "      <td>A1.MAA000923.3_9_M.1.1</td>\n",
              "      <td>0</td>\n",
              "      <td>53</td>\n",
              "      <td>0</td>\n",
              "      <td>0</td>\n",
              "      <td>0</td>\n",
              "      <td>0</td>\n",
              "      <td>0</td>\n",
              "      <td>0</td>\n",
              "      <td>0</td>\n",
              "      <td>...</td>\n",
              "      <td>0</td>\n",
              "      <td>0</td>\n",
              "      <td>0</td>\n",
              "      <td>81</td>\n",
              "      <td>0</td>\n",
              "      <td>0</td>\n",
              "      <td>0</td>\n",
              "      <td>0</td>\n",
              "      <td>0</td>\n",
              "      <td>0</td>\n",
              "    </tr>\n",
              "  </tbody>\n",
              "</table>\n",
              "<p>5 rows × 23434 columns</p>\n",
              "</div>\n",
              "      <button class=\"colab-df-convert\" onclick=\"convertToInteractive('df-8fba02b2-0f53-4fbf-8b20-d687c83cccae')\"\n",
              "              title=\"Convert this dataframe to an interactive table.\"\n",
              "              style=\"display:none;\">\n",
              "\n",
              "  <svg xmlns=\"http://www.w3.org/2000/svg\" height=\"24px\"viewBox=\"0 0 24 24\"\n",
              "       width=\"24px\">\n",
              "    <path d=\"M0 0h24v24H0V0z\" fill=\"none\"/>\n",
              "    <path d=\"M18.56 5.44l.94 2.06.94-2.06 2.06-.94-2.06-.94-.94-2.06-.94 2.06-2.06.94zm-11 1L8.5 8.5l.94-2.06 2.06-.94-2.06-.94L8.5 2.5l-.94 2.06-2.06.94zm10 10l.94 2.06.94-2.06 2.06-.94-2.06-.94-.94-2.06-.94 2.06-2.06.94z\"/><path d=\"M17.41 7.96l-1.37-1.37c-.4-.4-.92-.59-1.43-.59-.52 0-1.04.2-1.43.59L10.3 9.45l-7.72 7.72c-.78.78-.78 2.05 0 2.83L4 21.41c.39.39.9.59 1.41.59.51 0 1.02-.2 1.41-.59l7.78-7.78 2.81-2.81c.8-.78.8-2.07 0-2.86zM5.41 20L4 18.59l7.72-7.72 1.47 1.35L5.41 20z\"/>\n",
              "  </svg>\n",
              "      </button>\n",
              "\n",
              "\n",
              "\n",
              "    <div id=\"df-8195ea25-69fa-4239-ae06-4ccece424c8e\">\n",
              "      <button class=\"colab-df-quickchart\" onclick=\"quickchart('df-8195ea25-69fa-4239-ae06-4ccece424c8e')\"\n",
              "              title=\"Suggest charts.\"\n",
              "              style=\"display:none;\">\n",
              "\n",
              "<svg xmlns=\"http://www.w3.org/2000/svg\" height=\"24px\"viewBox=\"0 0 24 24\"\n",
              "     width=\"24px\">\n",
              "    <g>\n",
              "        <path d=\"M19 3H5c-1.1 0-2 .9-2 2v14c0 1.1.9 2 2 2h14c1.1 0 2-.9 2-2V5c0-1.1-.9-2-2-2zM9 17H7v-7h2v7zm4 0h-2V7h2v10zm4 0h-2v-4h2v4z\"/>\n",
              "    </g>\n",
              "</svg>\n",
              "      </button>\n",
              "    </div>\n",
              "\n",
              "<style>\n",
              "  .colab-df-quickchart {\n",
              "    background-color: #E8F0FE;\n",
              "    border: none;\n",
              "    border-radius: 50%;\n",
              "    cursor: pointer;\n",
              "    display: none;\n",
              "    fill: #1967D2;\n",
              "    height: 32px;\n",
              "    padding: 0 0 0 0;\n",
              "    width: 32px;\n",
              "  }\n",
              "\n",
              "  .colab-df-quickchart:hover {\n",
              "    background-color: #E2EBFA;\n",
              "    box-shadow: 0px 1px 2px rgba(60, 64, 67, 0.3), 0px 1px 3px 1px rgba(60, 64, 67, 0.15);\n",
              "    fill: #174EA6;\n",
              "  }\n",
              "\n",
              "  [theme=dark] .colab-df-quickchart {\n",
              "    background-color: #3B4455;\n",
              "    fill: #D2E3FC;\n",
              "  }\n",
              "\n",
              "  [theme=dark] .colab-df-quickchart:hover {\n",
              "    background-color: #434B5C;\n",
              "    box-shadow: 0px 1px 3px 1px rgba(0, 0, 0, 0.15);\n",
              "    filter: drop-shadow(0px 1px 2px rgba(0, 0, 0, 0.3));\n",
              "    fill: #FFFFFF;\n",
              "  }\n",
              "</style>\n",
              "\n",
              "    <script>\n",
              "      async function quickchart(key) {\n",
              "        const containerElement = document.querySelector('#' + key);\n",
              "        const charts = await google.colab.kernel.invokeFunction(\n",
              "            'suggestCharts', [key], {});\n",
              "      }\n",
              "    </script>\n",
              "\n",
              "      <script>\n",
              "\n",
              "function displayQuickchartButton(domScope) {\n",
              "  let quickchartButtonEl =\n",
              "    domScope.querySelector('#df-8195ea25-69fa-4239-ae06-4ccece424c8e button.colab-df-quickchart');\n",
              "  quickchartButtonEl.style.display =\n",
              "    google.colab.kernel.accessAllowed ? 'block' : 'none';\n",
              "}\n",
              "\n",
              "        displayQuickchartButton(document);\n",
              "      </script>\n",
              "      <style>\n",
              "    .colab-df-container {\n",
              "      display:flex;\n",
              "      flex-wrap:wrap;\n",
              "      gap: 12px;\n",
              "    }\n",
              "\n",
              "    .colab-df-convert {\n",
              "      background-color: #E8F0FE;\n",
              "      border: none;\n",
              "      border-radius: 50%;\n",
              "      cursor: pointer;\n",
              "      display: none;\n",
              "      fill: #1967D2;\n",
              "      height: 32px;\n",
              "      padding: 0 0 0 0;\n",
              "      width: 32px;\n",
              "    }\n",
              "\n",
              "    .colab-df-convert:hover {\n",
              "      background-color: #E2EBFA;\n",
              "      box-shadow: 0px 1px 2px rgba(60, 64, 67, 0.3), 0px 1px 3px 1px rgba(60, 64, 67, 0.15);\n",
              "      fill: #174EA6;\n",
              "    }\n",
              "\n",
              "    [theme=dark] .colab-df-convert {\n",
              "      background-color: #3B4455;\n",
              "      fill: #D2E3FC;\n",
              "    }\n",
              "\n",
              "    [theme=dark] .colab-df-convert:hover {\n",
              "      background-color: #434B5C;\n",
              "      box-shadow: 0px 1px 3px 1px rgba(0, 0, 0, 0.15);\n",
              "      filter: drop-shadow(0px 1px 2px rgba(0, 0, 0, 0.3));\n",
              "      fill: #FFFFFF;\n",
              "    }\n",
              "  </style>\n",
              "\n",
              "      <script>\n",
              "        const buttonEl =\n",
              "          document.querySelector('#df-8fba02b2-0f53-4fbf-8b20-d687c83cccae button.colab-df-convert');\n",
              "        buttonEl.style.display =\n",
              "          google.colab.kernel.accessAllowed ? 'block' : 'none';\n",
              "\n",
              "        async function convertToInteractive(key) {\n",
              "          const element = document.querySelector('#df-8fba02b2-0f53-4fbf-8b20-d687c83cccae');\n",
              "          const dataTable =\n",
              "            await google.colab.kernel.invokeFunction('convertToInteractive',\n",
              "                                                     [key], {});\n",
              "          if (!dataTable) return;\n",
              "\n",
              "          const docLinkHtml = 'Like what you see? Visit the ' +\n",
              "            '<a target=\"_blank\" href=https://colab.research.google.com/notebooks/data_table.ipynb>data table notebook</a>'\n",
              "            + ' to learn more about interactive tables.';\n",
              "          element.innerHTML = '';\n",
              "          dataTable['output_type'] = 'display_data';\n",
              "          await google.colab.output.renderOutput(dataTable, element);\n",
              "          const docLink = document.createElement('div');\n",
              "          docLink.innerHTML = docLinkHtml;\n",
              "          element.appendChild(docLink);\n",
              "        }\n",
              "      </script>\n",
              "    </div>\n",
              "  </div>\n"
            ]
          },
          "metadata": {},
          "execution_count": 6
        }
      ],
      "source": [
        "data.head()"
      ],
      "metadata": {
        "ExecuteTime": {
          "end_time": "2023-06-27T09:20:12.692094700Z",
          "start_time": "2023-06-27T09:20:12.393254Z"
        },
        "id": "JRdOiZ5pcpcW",
        "outputId": "f95ca4b7-298a-4a7a-dbbe-ab850b924a09",
        "colab": {
          "base_uri": "https://localhost:8080/",
          "height": 299
        }
      }
    },
    {
      "cell_type": "code",
      "execution_count": null,
      "outputs": [
        {
          "output_type": "execute_result",
          "data": {
            "text/plain": [
              "                      cell cell_ontology_class    subtissue mouse.sex  \\\n",
              "0    A1.B003290.3_38_F.1.1           astrocyte     Striatum         F   \n",
              "1    A1.B003728.3_56_F.1.1           astrocyte     Striatum         F   \n",
              "2  A1.MAA000560.3_10_M.1.1     oligodendrocyte       Cortex         M   \n",
              "3  A1.MAA000564.3_10_M.1.1    endothelial cell     Striatum         M   \n",
              "4   A1.MAA000923.3_9_M.1.1           astrocyte  Hippocampus         M   \n",
              "\n",
              "  mouse.id plate.barcode  \n",
              "0   3_38_F       B003290  \n",
              "1   3_56_F       B003728  \n",
              "2   3_10_M     MAA000560  \n",
              "3   3_10_M     MAA000564  \n",
              "4    3_9_M     MAA000923  "
            ],
            "text/html": [
              "\n",
              "\n",
              "  <div id=\"df-161f1137-1b19-4a1d-9fd8-6d3890f78051\">\n",
              "    <div class=\"colab-df-container\">\n",
              "      <div>\n",
              "<style scoped>\n",
              "    .dataframe tbody tr th:only-of-type {\n",
              "        vertical-align: middle;\n",
              "    }\n",
              "\n",
              "    .dataframe tbody tr th {\n",
              "        vertical-align: top;\n",
              "    }\n",
              "\n",
              "    .dataframe thead th {\n",
              "        text-align: right;\n",
              "    }\n",
              "</style>\n",
              "<table border=\"1\" class=\"dataframe\">\n",
              "  <thead>\n",
              "    <tr style=\"text-align: right;\">\n",
              "      <th></th>\n",
              "      <th>cell</th>\n",
              "      <th>cell_ontology_class</th>\n",
              "      <th>subtissue</th>\n",
              "      <th>mouse.sex</th>\n",
              "      <th>mouse.id</th>\n",
              "      <th>plate.barcode</th>\n",
              "    </tr>\n",
              "  </thead>\n",
              "  <tbody>\n",
              "    <tr>\n",
              "      <th>0</th>\n",
              "      <td>A1.B003290.3_38_F.1.1</td>\n",
              "      <td>astrocyte</td>\n",
              "      <td>Striatum</td>\n",
              "      <td>F</td>\n",
              "      <td>3_38_F</td>\n",
              "      <td>B003290</td>\n",
              "    </tr>\n",
              "    <tr>\n",
              "      <th>1</th>\n",
              "      <td>A1.B003728.3_56_F.1.1</td>\n",
              "      <td>astrocyte</td>\n",
              "      <td>Striatum</td>\n",
              "      <td>F</td>\n",
              "      <td>3_56_F</td>\n",
              "      <td>B003728</td>\n",
              "    </tr>\n",
              "    <tr>\n",
              "      <th>2</th>\n",
              "      <td>A1.MAA000560.3_10_M.1.1</td>\n",
              "      <td>oligodendrocyte</td>\n",
              "      <td>Cortex</td>\n",
              "      <td>M</td>\n",
              "      <td>3_10_M</td>\n",
              "      <td>MAA000560</td>\n",
              "    </tr>\n",
              "    <tr>\n",
              "      <th>3</th>\n",
              "      <td>A1.MAA000564.3_10_M.1.1</td>\n",
              "      <td>endothelial cell</td>\n",
              "      <td>Striatum</td>\n",
              "      <td>M</td>\n",
              "      <td>3_10_M</td>\n",
              "      <td>MAA000564</td>\n",
              "    </tr>\n",
              "    <tr>\n",
              "      <th>4</th>\n",
              "      <td>A1.MAA000923.3_9_M.1.1</td>\n",
              "      <td>astrocyte</td>\n",
              "      <td>Hippocampus</td>\n",
              "      <td>M</td>\n",
              "      <td>3_9_M</td>\n",
              "      <td>MAA000923</td>\n",
              "    </tr>\n",
              "  </tbody>\n",
              "</table>\n",
              "</div>\n",
              "      <button class=\"colab-df-convert\" onclick=\"convertToInteractive('df-161f1137-1b19-4a1d-9fd8-6d3890f78051')\"\n",
              "              title=\"Convert this dataframe to an interactive table.\"\n",
              "              style=\"display:none;\">\n",
              "\n",
              "  <svg xmlns=\"http://www.w3.org/2000/svg\" height=\"24px\"viewBox=\"0 0 24 24\"\n",
              "       width=\"24px\">\n",
              "    <path d=\"M0 0h24v24H0V0z\" fill=\"none\"/>\n",
              "    <path d=\"M18.56 5.44l.94 2.06.94-2.06 2.06-.94-2.06-.94-.94-2.06-.94 2.06-2.06.94zm-11 1L8.5 8.5l.94-2.06 2.06-.94-2.06-.94L8.5 2.5l-.94 2.06-2.06.94zm10 10l.94 2.06.94-2.06 2.06-.94-2.06-.94-.94-2.06-.94 2.06-2.06.94z\"/><path d=\"M17.41 7.96l-1.37-1.37c-.4-.4-.92-.59-1.43-.59-.52 0-1.04.2-1.43.59L10.3 9.45l-7.72 7.72c-.78.78-.78 2.05 0 2.83L4 21.41c.39.39.9.59 1.41.59.51 0 1.02-.2 1.41-.59l7.78-7.78 2.81-2.81c.8-.78.8-2.07 0-2.86zM5.41 20L4 18.59l7.72-7.72 1.47 1.35L5.41 20z\"/>\n",
              "  </svg>\n",
              "      </button>\n",
              "\n",
              "\n",
              "\n",
              "    <div id=\"df-bd1c9410-b589-4bbe-b92f-5e7df699a5b8\">\n",
              "      <button class=\"colab-df-quickchart\" onclick=\"quickchart('df-bd1c9410-b589-4bbe-b92f-5e7df699a5b8')\"\n",
              "              title=\"Suggest charts.\"\n",
              "              style=\"display:none;\">\n",
              "\n",
              "<svg xmlns=\"http://www.w3.org/2000/svg\" height=\"24px\"viewBox=\"0 0 24 24\"\n",
              "     width=\"24px\">\n",
              "    <g>\n",
              "        <path d=\"M19 3H5c-1.1 0-2 .9-2 2v14c0 1.1.9 2 2 2h14c1.1 0 2-.9 2-2V5c0-1.1-.9-2-2-2zM9 17H7v-7h2v7zm4 0h-2V7h2v10zm4 0h-2v-4h2v4z\"/>\n",
              "    </g>\n",
              "</svg>\n",
              "      </button>\n",
              "    </div>\n",
              "\n",
              "<style>\n",
              "  .colab-df-quickchart {\n",
              "    background-color: #E8F0FE;\n",
              "    border: none;\n",
              "    border-radius: 50%;\n",
              "    cursor: pointer;\n",
              "    display: none;\n",
              "    fill: #1967D2;\n",
              "    height: 32px;\n",
              "    padding: 0 0 0 0;\n",
              "    width: 32px;\n",
              "  }\n",
              "\n",
              "  .colab-df-quickchart:hover {\n",
              "    background-color: #E2EBFA;\n",
              "    box-shadow: 0px 1px 2px rgba(60, 64, 67, 0.3), 0px 1px 3px 1px rgba(60, 64, 67, 0.15);\n",
              "    fill: #174EA6;\n",
              "  }\n",
              "\n",
              "  [theme=dark] .colab-df-quickchart {\n",
              "    background-color: #3B4455;\n",
              "    fill: #D2E3FC;\n",
              "  }\n",
              "\n",
              "  [theme=dark] .colab-df-quickchart:hover {\n",
              "    background-color: #434B5C;\n",
              "    box-shadow: 0px 1px 3px 1px rgba(0, 0, 0, 0.15);\n",
              "    filter: drop-shadow(0px 1px 2px rgba(0, 0, 0, 0.3));\n",
              "    fill: #FFFFFF;\n",
              "  }\n",
              "</style>\n",
              "\n",
              "    <script>\n",
              "      async function quickchart(key) {\n",
              "        const containerElement = document.querySelector('#' + key);\n",
              "        const charts = await google.colab.kernel.invokeFunction(\n",
              "            'suggestCharts', [key], {});\n",
              "      }\n",
              "    </script>\n",
              "\n",
              "      <script>\n",
              "\n",
              "function displayQuickchartButton(domScope) {\n",
              "  let quickchartButtonEl =\n",
              "    domScope.querySelector('#df-bd1c9410-b589-4bbe-b92f-5e7df699a5b8 button.colab-df-quickchart');\n",
              "  quickchartButtonEl.style.display =\n",
              "    google.colab.kernel.accessAllowed ? 'block' : 'none';\n",
              "}\n",
              "\n",
              "        displayQuickchartButton(document);\n",
              "      </script>\n",
              "      <style>\n",
              "    .colab-df-container {\n",
              "      display:flex;\n",
              "      flex-wrap:wrap;\n",
              "      gap: 12px;\n",
              "    }\n",
              "\n",
              "    .colab-df-convert {\n",
              "      background-color: #E8F0FE;\n",
              "      border: none;\n",
              "      border-radius: 50%;\n",
              "      cursor: pointer;\n",
              "      display: none;\n",
              "      fill: #1967D2;\n",
              "      height: 32px;\n",
              "      padding: 0 0 0 0;\n",
              "      width: 32px;\n",
              "    }\n",
              "\n",
              "    .colab-df-convert:hover {\n",
              "      background-color: #E2EBFA;\n",
              "      box-shadow: 0px 1px 2px rgba(60, 64, 67, 0.3), 0px 1px 3px 1px rgba(60, 64, 67, 0.15);\n",
              "      fill: #174EA6;\n",
              "    }\n",
              "\n",
              "    [theme=dark] .colab-df-convert {\n",
              "      background-color: #3B4455;\n",
              "      fill: #D2E3FC;\n",
              "    }\n",
              "\n",
              "    [theme=dark] .colab-df-convert:hover {\n",
              "      background-color: #434B5C;\n",
              "      box-shadow: 0px 1px 3px 1px rgba(0, 0, 0, 0.15);\n",
              "      filter: drop-shadow(0px 1px 2px rgba(0, 0, 0, 0.3));\n",
              "      fill: #FFFFFF;\n",
              "    }\n",
              "  </style>\n",
              "\n",
              "      <script>\n",
              "        const buttonEl =\n",
              "          document.querySelector('#df-161f1137-1b19-4a1d-9fd8-6d3890f78051 button.colab-df-convert');\n",
              "        buttonEl.style.display =\n",
              "          google.colab.kernel.accessAllowed ? 'block' : 'none';\n",
              "\n",
              "        async function convertToInteractive(key) {\n",
              "          const element = document.querySelector('#df-161f1137-1b19-4a1d-9fd8-6d3890f78051');\n",
              "          const dataTable =\n",
              "            await google.colab.kernel.invokeFunction('convertToInteractive',\n",
              "                                                     [key], {});\n",
              "          if (!dataTable) return;\n",
              "\n",
              "          const docLinkHtml = 'Like what you see? Visit the ' +\n",
              "            '<a target=\"_blank\" href=https://colab.research.google.com/notebooks/data_table.ipynb>data table notebook</a>'\n",
              "            + ' to learn more about interactive tables.';\n",
              "          element.innerHTML = '';\n",
              "          dataTable['output_type'] = 'display_data';\n",
              "          await google.colab.output.renderOutput(dataTable, element);\n",
              "          const docLink = document.createElement('div');\n",
              "          docLink.innerHTML = docLinkHtml;\n",
              "          element.appendChild(docLink);\n",
              "        }\n",
              "      </script>\n",
              "    </div>\n",
              "  </div>\n"
            ]
          },
          "metadata": {},
          "execution_count": 7
        }
      ],
      "source": [
        "annotations.head()"
      ],
      "metadata": {
        "ExecuteTime": {
          "end_time": "2023-06-27T09:20:17.224741500Z",
          "start_time": "2023-06-27T09:20:17.095191100Z"
        },
        "id": "neNzySvUcpca",
        "outputId": "ec46d7b7-eb60-44a8-f839-98cce5e64716",
        "colab": {
          "base_uri": "https://localhost:8080/",
          "height": 206
        }
      }
    },
    {
      "cell_type": "markdown",
      "source": [
        "Si puo notare come il dataset sia fortemente sbilanciato a livello delle singole classi. Abbiamo cercato di risolvere il problema utilizzando il parametro class_weight per ogni algoritmo di machine learning. Grazie a class_weight il peso di classe diventa inversamente proporzionale alla frequenza di classe nei dati di input."
      ],
      "metadata": {
        "id": "LTJEEkFhwxJV"
      }
    },
    {
      "cell_type": "code",
      "source": [
        "annotations[\"cell_ontology_class\"].value_counts()"
      ],
      "metadata": {
        "id": "1-mj4QdxLn5U",
        "outputId": "1cf96a11-5374-4959-f852-b4981c527901",
        "colab": {
          "base_uri": "https://localhost:8080/"
        }
      },
      "execution_count": null,
      "outputs": [
        {
          "output_type": "execute_result",
          "data": {
            "text/plain": [
              "oligodendrocyte                   1574\n",
              "endothelial cell                   715\n",
              "astrocyte                          432\n",
              "neuron                             281\n",
              "oligodendrocyte precursor cell     203\n",
              "brain pericyte                     156\n",
              "Bergmann glial cell                 40\n",
              "Name: cell_ontology_class, dtype: int64"
            ]
          },
          "metadata": {},
          "execution_count": 4
        }
      ]
    },
    {
      "cell_type": "code",
      "execution_count": null,
      "outputs": [],
      "source": [
        "data.index = data['Unnamed: 0']"
      ],
      "metadata": {
        "ExecuteTime": {
          "end_time": "2023-06-27T09:20:24.970185700Z",
          "start_time": "2023-06-27T09:20:24.900695900Z"
        },
        "id": "qFEsExkicpcd"
      }
    },
    {
      "cell_type": "code",
      "execution_count": null,
      "outputs": [],
      "source": [
        "data = data.drop('Unnamed: 0', axis=1)\n",
        "# change index name to cell\n",
        "data.index.name = 'cell'"
      ],
      "metadata": {
        "ExecuteTime": {
          "end_time": "2023-06-27T09:20:28.704088800Z",
          "start_time": "2023-06-27T09:20:26.844914600Z"
        },
        "id": "-ZP-vmAucpcf"
      }
    },
    {
      "cell_type": "code",
      "execution_count": null,
      "outputs": [
        {
          "output_type": "execute_result",
          "data": {
            "text/plain": [
              "                         0610005C13Rik  0610007C21Rik  0610007L01Rik  \\\n",
              "cell                                                                   \n",
              "A1.B003290.3_38_F.1.1                0            125             16   \n",
              "A1.B003728.3_56_F.1.1                0              0              0   \n",
              "A1.MAA000560.3_10_M.1.1              0            348              0   \n",
              "A1.MAA000564.3_10_M.1.1              0             41             36   \n",
              "A1.MAA000923.3_9_M.1.1               0             53              0   \n",
              "\n",
              "                         0610007N19Rik  0610007P08Rik  0610007P14Rik  \\\n",
              "cell                                                                   \n",
              "A1.B003290.3_38_F.1.1                0              0              0   \n",
              "A1.B003728.3_56_F.1.1                0              0            324   \n",
              "A1.MAA000560.3_10_M.1.1              0              0              5   \n",
              "A1.MAA000564.3_10_M.1.1              0              0             24   \n",
              "A1.MAA000923.3_9_M.1.1               0              0              0   \n",
              "\n",
              "                         0610007P22Rik  0610008F07Rik  0610009B14Rik  \\\n",
              "cell                                                                   \n",
              "A1.B003290.3_38_F.1.1                0              0              0   \n",
              "A1.B003728.3_56_F.1.1                0              0              0   \n",
              "A1.MAA000560.3_10_M.1.1              0              0              0   \n",
              "A1.MAA000564.3_10_M.1.1              0              0              0   \n",
              "A1.MAA000923.3_9_M.1.1               0              0              0   \n",
              "\n",
              "                         0610009B22Rik  ...  Zxdb  Zxdc  Zyg11a  Zyg11b  Zyx  \\\n",
              "cell                                    ...                                    \n",
              "A1.B003290.3_38_F.1.1                0  ...     0     0       0       0    0   \n",
              "A1.B003728.3_56_F.1.1                0  ...     0     0       0       0    0   \n",
              "A1.MAA000560.3_10_M.1.1              0  ...     0     0       0       0    0   \n",
              "A1.MAA000564.3_10_M.1.1             14  ...     0     0       0       0  125   \n",
              "A1.MAA000923.3_9_M.1.1               0  ...     0     0       0      81    0   \n",
              "\n",
              "                         Zzef1  Zzz3  a  l7Rn6  zsGreen_transgene  \n",
              "cell                                                               \n",
              "A1.B003290.3_38_F.1.1        0     0  0     54                  0  \n",
              "A1.B003728.3_56_F.1.1        0     0  0      0                  0  \n",
              "A1.MAA000560.3_10_M.1.1    195     0  0    113                  0  \n",
              "A1.MAA000564.3_10_M.1.1      0     1  0      0                  0  \n",
              "A1.MAA000923.3_9_M.1.1       0     0  0      0                  0  \n",
              "\n",
              "[5 rows x 23433 columns]"
            ],
            "text/html": [
              "\n",
              "\n",
              "  <div id=\"df-82acef9d-a0f1-42ac-9084-8c17b4678b59\">\n",
              "    <div class=\"colab-df-container\">\n",
              "      <div>\n",
              "<style scoped>\n",
              "    .dataframe tbody tr th:only-of-type {\n",
              "        vertical-align: middle;\n",
              "    }\n",
              "\n",
              "    .dataframe tbody tr th {\n",
              "        vertical-align: top;\n",
              "    }\n",
              "\n",
              "    .dataframe thead th {\n",
              "        text-align: right;\n",
              "    }\n",
              "</style>\n",
              "<table border=\"1\" class=\"dataframe\">\n",
              "  <thead>\n",
              "    <tr style=\"text-align: right;\">\n",
              "      <th></th>\n",
              "      <th>0610005C13Rik</th>\n",
              "      <th>0610007C21Rik</th>\n",
              "      <th>0610007L01Rik</th>\n",
              "      <th>0610007N19Rik</th>\n",
              "      <th>0610007P08Rik</th>\n",
              "      <th>0610007P14Rik</th>\n",
              "      <th>0610007P22Rik</th>\n",
              "      <th>0610008F07Rik</th>\n",
              "      <th>0610009B14Rik</th>\n",
              "      <th>0610009B22Rik</th>\n",
              "      <th>...</th>\n",
              "      <th>Zxdb</th>\n",
              "      <th>Zxdc</th>\n",
              "      <th>Zyg11a</th>\n",
              "      <th>Zyg11b</th>\n",
              "      <th>Zyx</th>\n",
              "      <th>Zzef1</th>\n",
              "      <th>Zzz3</th>\n",
              "      <th>a</th>\n",
              "      <th>l7Rn6</th>\n",
              "      <th>zsGreen_transgene</th>\n",
              "    </tr>\n",
              "    <tr>\n",
              "      <th>cell</th>\n",
              "      <th></th>\n",
              "      <th></th>\n",
              "      <th></th>\n",
              "      <th></th>\n",
              "      <th></th>\n",
              "      <th></th>\n",
              "      <th></th>\n",
              "      <th></th>\n",
              "      <th></th>\n",
              "      <th></th>\n",
              "      <th></th>\n",
              "      <th></th>\n",
              "      <th></th>\n",
              "      <th></th>\n",
              "      <th></th>\n",
              "      <th></th>\n",
              "      <th></th>\n",
              "      <th></th>\n",
              "      <th></th>\n",
              "      <th></th>\n",
              "      <th></th>\n",
              "    </tr>\n",
              "  </thead>\n",
              "  <tbody>\n",
              "    <tr>\n",
              "      <th>A1.B003290.3_38_F.1.1</th>\n",
              "      <td>0</td>\n",
              "      <td>125</td>\n",
              "      <td>16</td>\n",
              "      <td>0</td>\n",
              "      <td>0</td>\n",
              "      <td>0</td>\n",
              "      <td>0</td>\n",
              "      <td>0</td>\n",
              "      <td>0</td>\n",
              "      <td>0</td>\n",
              "      <td>...</td>\n",
              "      <td>0</td>\n",
              "      <td>0</td>\n",
              "      <td>0</td>\n",
              "      <td>0</td>\n",
              "      <td>0</td>\n",
              "      <td>0</td>\n",
              "      <td>0</td>\n",
              "      <td>0</td>\n",
              "      <td>54</td>\n",
              "      <td>0</td>\n",
              "    </tr>\n",
              "    <tr>\n",
              "      <th>A1.B003728.3_56_F.1.1</th>\n",
              "      <td>0</td>\n",
              "      <td>0</td>\n",
              "      <td>0</td>\n",
              "      <td>0</td>\n",
              "      <td>0</td>\n",
              "      <td>324</td>\n",
              "      <td>0</td>\n",
              "      <td>0</td>\n",
              "      <td>0</td>\n",
              "      <td>0</td>\n",
              "      <td>...</td>\n",
              "      <td>0</td>\n",
              "      <td>0</td>\n",
              "      <td>0</td>\n",
              "      <td>0</td>\n",
              "      <td>0</td>\n",
              "      <td>0</td>\n",
              "      <td>0</td>\n",
              "      <td>0</td>\n",
              "      <td>0</td>\n",
              "      <td>0</td>\n",
              "    </tr>\n",
              "    <tr>\n",
              "      <th>A1.MAA000560.3_10_M.1.1</th>\n",
              "      <td>0</td>\n",
              "      <td>348</td>\n",
              "      <td>0</td>\n",
              "      <td>0</td>\n",
              "      <td>0</td>\n",
              "      <td>5</td>\n",
              "      <td>0</td>\n",
              "      <td>0</td>\n",
              "      <td>0</td>\n",
              "      <td>0</td>\n",
              "      <td>...</td>\n",
              "      <td>0</td>\n",
              "      <td>0</td>\n",
              "      <td>0</td>\n",
              "      <td>0</td>\n",
              "      <td>0</td>\n",
              "      <td>195</td>\n",
              "      <td>0</td>\n",
              "      <td>0</td>\n",
              "      <td>113</td>\n",
              "      <td>0</td>\n",
              "    </tr>\n",
              "    <tr>\n",
              "      <th>A1.MAA000564.3_10_M.1.1</th>\n",
              "      <td>0</td>\n",
              "      <td>41</td>\n",
              "      <td>36</td>\n",
              "      <td>0</td>\n",
              "      <td>0</td>\n",
              "      <td>24</td>\n",
              "      <td>0</td>\n",
              "      <td>0</td>\n",
              "      <td>0</td>\n",
              "      <td>14</td>\n",
              "      <td>...</td>\n",
              "      <td>0</td>\n",
              "      <td>0</td>\n",
              "      <td>0</td>\n",
              "      <td>0</td>\n",
              "      <td>125</td>\n",
              "      <td>0</td>\n",
              "      <td>1</td>\n",
              "      <td>0</td>\n",
              "      <td>0</td>\n",
              "      <td>0</td>\n",
              "    </tr>\n",
              "    <tr>\n",
              "      <th>A1.MAA000923.3_9_M.1.1</th>\n",
              "      <td>0</td>\n",
              "      <td>53</td>\n",
              "      <td>0</td>\n",
              "      <td>0</td>\n",
              "      <td>0</td>\n",
              "      <td>0</td>\n",
              "      <td>0</td>\n",
              "      <td>0</td>\n",
              "      <td>0</td>\n",
              "      <td>0</td>\n",
              "      <td>...</td>\n",
              "      <td>0</td>\n",
              "      <td>0</td>\n",
              "      <td>0</td>\n",
              "      <td>81</td>\n",
              "      <td>0</td>\n",
              "      <td>0</td>\n",
              "      <td>0</td>\n",
              "      <td>0</td>\n",
              "      <td>0</td>\n",
              "      <td>0</td>\n",
              "    </tr>\n",
              "  </tbody>\n",
              "</table>\n",
              "<p>5 rows × 23433 columns</p>\n",
              "</div>\n",
              "      <button class=\"colab-df-convert\" onclick=\"convertToInteractive('df-82acef9d-a0f1-42ac-9084-8c17b4678b59')\"\n",
              "              title=\"Convert this dataframe to an interactive table.\"\n",
              "              style=\"display:none;\">\n",
              "\n",
              "  <svg xmlns=\"http://www.w3.org/2000/svg\" height=\"24px\"viewBox=\"0 0 24 24\"\n",
              "       width=\"24px\">\n",
              "    <path d=\"M0 0h24v24H0V0z\" fill=\"none\"/>\n",
              "    <path d=\"M18.56 5.44l.94 2.06.94-2.06 2.06-.94-2.06-.94-.94-2.06-.94 2.06-2.06.94zm-11 1L8.5 8.5l.94-2.06 2.06-.94-2.06-.94L8.5 2.5l-.94 2.06-2.06.94zm10 10l.94 2.06.94-2.06 2.06-.94-2.06-.94-.94-2.06-.94 2.06-2.06.94z\"/><path d=\"M17.41 7.96l-1.37-1.37c-.4-.4-.92-.59-1.43-.59-.52 0-1.04.2-1.43.59L10.3 9.45l-7.72 7.72c-.78.78-.78 2.05 0 2.83L4 21.41c.39.39.9.59 1.41.59.51 0 1.02-.2 1.41-.59l7.78-7.78 2.81-2.81c.8-.78.8-2.07 0-2.86zM5.41 20L4 18.59l7.72-7.72 1.47 1.35L5.41 20z\"/>\n",
              "  </svg>\n",
              "      </button>\n",
              "\n",
              "\n",
              "\n",
              "    <div id=\"df-cc6a4255-7880-4e42-87ba-89a71c3d17e3\">\n",
              "      <button class=\"colab-df-quickchart\" onclick=\"quickchart('df-cc6a4255-7880-4e42-87ba-89a71c3d17e3')\"\n",
              "              title=\"Suggest charts.\"\n",
              "              style=\"display:none;\">\n",
              "\n",
              "<svg xmlns=\"http://www.w3.org/2000/svg\" height=\"24px\"viewBox=\"0 0 24 24\"\n",
              "     width=\"24px\">\n",
              "    <g>\n",
              "        <path d=\"M19 3H5c-1.1 0-2 .9-2 2v14c0 1.1.9 2 2 2h14c1.1 0 2-.9 2-2V5c0-1.1-.9-2-2-2zM9 17H7v-7h2v7zm4 0h-2V7h2v10zm4 0h-2v-4h2v4z\"/>\n",
              "    </g>\n",
              "</svg>\n",
              "      </button>\n",
              "    </div>\n",
              "\n",
              "<style>\n",
              "  .colab-df-quickchart {\n",
              "    background-color: #E8F0FE;\n",
              "    border: none;\n",
              "    border-radius: 50%;\n",
              "    cursor: pointer;\n",
              "    display: none;\n",
              "    fill: #1967D2;\n",
              "    height: 32px;\n",
              "    padding: 0 0 0 0;\n",
              "    width: 32px;\n",
              "  }\n",
              "\n",
              "  .colab-df-quickchart:hover {\n",
              "    background-color: #E2EBFA;\n",
              "    box-shadow: 0px 1px 2px rgba(60, 64, 67, 0.3), 0px 1px 3px 1px rgba(60, 64, 67, 0.15);\n",
              "    fill: #174EA6;\n",
              "  }\n",
              "\n",
              "  [theme=dark] .colab-df-quickchart {\n",
              "    background-color: #3B4455;\n",
              "    fill: #D2E3FC;\n",
              "  }\n",
              "\n",
              "  [theme=dark] .colab-df-quickchart:hover {\n",
              "    background-color: #434B5C;\n",
              "    box-shadow: 0px 1px 3px 1px rgba(0, 0, 0, 0.15);\n",
              "    filter: drop-shadow(0px 1px 2px rgba(0, 0, 0, 0.3));\n",
              "    fill: #FFFFFF;\n",
              "  }\n",
              "</style>\n",
              "\n",
              "    <script>\n",
              "      async function quickchart(key) {\n",
              "        const containerElement = document.querySelector('#' + key);\n",
              "        const charts = await google.colab.kernel.invokeFunction(\n",
              "            'suggestCharts', [key], {});\n",
              "      }\n",
              "    </script>\n",
              "\n",
              "      <script>\n",
              "\n",
              "function displayQuickchartButton(domScope) {\n",
              "  let quickchartButtonEl =\n",
              "    domScope.querySelector('#df-cc6a4255-7880-4e42-87ba-89a71c3d17e3 button.colab-df-quickchart');\n",
              "  quickchartButtonEl.style.display =\n",
              "    google.colab.kernel.accessAllowed ? 'block' : 'none';\n",
              "}\n",
              "\n",
              "        displayQuickchartButton(document);\n",
              "      </script>\n",
              "      <style>\n",
              "    .colab-df-container {\n",
              "      display:flex;\n",
              "      flex-wrap:wrap;\n",
              "      gap: 12px;\n",
              "    }\n",
              "\n",
              "    .colab-df-convert {\n",
              "      background-color: #E8F0FE;\n",
              "      border: none;\n",
              "      border-radius: 50%;\n",
              "      cursor: pointer;\n",
              "      display: none;\n",
              "      fill: #1967D2;\n",
              "      height: 32px;\n",
              "      padding: 0 0 0 0;\n",
              "      width: 32px;\n",
              "    }\n",
              "\n",
              "    .colab-df-convert:hover {\n",
              "      background-color: #E2EBFA;\n",
              "      box-shadow: 0px 1px 2px rgba(60, 64, 67, 0.3), 0px 1px 3px 1px rgba(60, 64, 67, 0.15);\n",
              "      fill: #174EA6;\n",
              "    }\n",
              "\n",
              "    [theme=dark] .colab-df-convert {\n",
              "      background-color: #3B4455;\n",
              "      fill: #D2E3FC;\n",
              "    }\n",
              "\n",
              "    [theme=dark] .colab-df-convert:hover {\n",
              "      background-color: #434B5C;\n",
              "      box-shadow: 0px 1px 3px 1px rgba(0, 0, 0, 0.15);\n",
              "      filter: drop-shadow(0px 1px 2px rgba(0, 0, 0, 0.3));\n",
              "      fill: #FFFFFF;\n",
              "    }\n",
              "  </style>\n",
              "\n",
              "      <script>\n",
              "        const buttonEl =\n",
              "          document.querySelector('#df-82acef9d-a0f1-42ac-9084-8c17b4678b59 button.colab-df-convert');\n",
              "        buttonEl.style.display =\n",
              "          google.colab.kernel.accessAllowed ? 'block' : 'none';\n",
              "\n",
              "        async function convertToInteractive(key) {\n",
              "          const element = document.querySelector('#df-82acef9d-a0f1-42ac-9084-8c17b4678b59');\n",
              "          const dataTable =\n",
              "            await google.colab.kernel.invokeFunction('convertToInteractive',\n",
              "                                                     [key], {});\n",
              "          if (!dataTable) return;\n",
              "\n",
              "          const docLinkHtml = 'Like what you see? Visit the ' +\n",
              "            '<a target=\"_blank\" href=https://colab.research.google.com/notebooks/data_table.ipynb>data table notebook</a>'\n",
              "            + ' to learn more about interactive tables.';\n",
              "          element.innerHTML = '';\n",
              "          dataTable['output_type'] = 'display_data';\n",
              "          await google.colab.output.renderOutput(dataTable, element);\n",
              "          const docLink = document.createElement('div');\n",
              "          docLink.innerHTML = docLinkHtml;\n",
              "          element.appendChild(docLink);\n",
              "        }\n",
              "      </script>\n",
              "    </div>\n",
              "  </div>\n"
            ]
          },
          "metadata": {},
          "execution_count": 10
        }
      ],
      "source": [
        "data.head()"
      ],
      "metadata": {
        "ExecuteTime": {
          "end_time": "2023-06-27T09:20:30.399878800Z",
          "start_time": "2023-06-27T09:20:30.272856200Z"
        },
        "id": "LVG7Kxhqcpch",
        "outputId": "eb99480f-0c39-4cf4-dd47-465263d58aa7",
        "colab": {
          "base_uri": "https://localhost:8080/",
          "height": 330
        }
      }
    },
    {
      "cell_type": "code",
      "execution_count": null,
      "outputs": [],
      "source": [
        "annotations.index = annotations[\"cell\"]"
      ],
      "metadata": {
        "ExecuteTime": {
          "end_time": "2023-06-27T09:20:41.929878100Z",
          "start_time": "2023-06-27T09:20:41.866152600Z"
        },
        "id": "VL4IMhv2cpck"
      }
    },
    {
      "cell_type": "markdown",
      "source": [
        "Abbiamo ritenuto opportuno estrarre dai metadati esclusivamente il tipo cellulare ai fini della classificazione multiclasse e inserirlo a livello della matrice di espressione."
      ],
      "metadata": {
        "id": "wSvgLFdBuk97"
      }
    },
    {
      "cell_type": "code",
      "execution_count": null,
      "outputs": [],
      "source": [
        "data= data.merge(annotations[['cell_ontology_class']], on='cell', how='inner')"
      ],
      "metadata": {
        "ExecuteTime": {
          "end_time": "2023-06-27T09:20:56.270129400Z",
          "start_time": "2023-06-27T09:20:54.282836700Z"
        },
        "id": "AvQJYktrcpcr"
      }
    },
    {
      "cell_type": "code",
      "execution_count": null,
      "outputs": [
        {
          "output_type": "execute_result",
          "data": {
            "text/plain": [
              "                         0610005C13Rik  0610007C21Rik  0610007L01Rik  \\\n",
              "cell                                                                   \n",
              "A1.B003290.3_38_F.1.1                0            125             16   \n",
              "A1.B003728.3_56_F.1.1                0              0              0   \n",
              "A1.MAA000560.3_10_M.1.1              0            348              0   \n",
              "A1.MAA000564.3_10_M.1.1              0             41             36   \n",
              "A1.MAA000923.3_9_M.1.1               0             53              0   \n",
              "\n",
              "                         0610007N19Rik  0610007P08Rik  0610007P14Rik  \\\n",
              "cell                                                                   \n",
              "A1.B003290.3_38_F.1.1                0              0              0   \n",
              "A1.B003728.3_56_F.1.1                0              0            324   \n",
              "A1.MAA000560.3_10_M.1.1              0              0              5   \n",
              "A1.MAA000564.3_10_M.1.1              0              0             24   \n",
              "A1.MAA000923.3_9_M.1.1               0              0              0   \n",
              "\n",
              "                         0610007P22Rik  0610008F07Rik  0610009B14Rik  \\\n",
              "cell                                                                   \n",
              "A1.B003290.3_38_F.1.1                0              0              0   \n",
              "A1.B003728.3_56_F.1.1                0              0              0   \n",
              "A1.MAA000560.3_10_M.1.1              0              0              0   \n",
              "A1.MAA000564.3_10_M.1.1              0              0              0   \n",
              "A1.MAA000923.3_9_M.1.1               0              0              0   \n",
              "\n",
              "                         0610009B22Rik  ...  Zxdc  Zyg11a  Zyg11b  Zyx  Zzef1  \\\n",
              "cell                                    ...                                     \n",
              "A1.B003290.3_38_F.1.1                0  ...     0       0       0    0      0   \n",
              "A1.B003728.3_56_F.1.1                0  ...     0       0       0    0      0   \n",
              "A1.MAA000560.3_10_M.1.1              0  ...     0       0       0    0    195   \n",
              "A1.MAA000564.3_10_M.1.1             14  ...     0       0       0  125      0   \n",
              "A1.MAA000923.3_9_M.1.1               0  ...     0       0      81    0      0   \n",
              "\n",
              "                         Zzz3  a  l7Rn6  zsGreen_transgene  \\\n",
              "cell                                                         \n",
              "A1.B003290.3_38_F.1.1       0  0     54                  0   \n",
              "A1.B003728.3_56_F.1.1       0  0      0                  0   \n",
              "A1.MAA000560.3_10_M.1.1     0  0    113                  0   \n",
              "A1.MAA000564.3_10_M.1.1     1  0      0                  0   \n",
              "A1.MAA000923.3_9_M.1.1      0  0      0                  0   \n",
              "\n",
              "                         cell_ontology_class  \n",
              "cell                                          \n",
              "A1.B003290.3_38_F.1.1              astrocyte  \n",
              "A1.B003728.3_56_F.1.1              astrocyte  \n",
              "A1.MAA000560.3_10_M.1.1      oligodendrocyte  \n",
              "A1.MAA000564.3_10_M.1.1     endothelial cell  \n",
              "A1.MAA000923.3_9_M.1.1             astrocyte  \n",
              "\n",
              "[5 rows x 23434 columns]"
            ],
            "text/html": [
              "\n",
              "\n",
              "  <div id=\"df-7458f3bb-461b-47d5-b7b2-e5a5a135fac6\">\n",
              "    <div class=\"colab-df-container\">\n",
              "      <div>\n",
              "<style scoped>\n",
              "    .dataframe tbody tr th:only-of-type {\n",
              "        vertical-align: middle;\n",
              "    }\n",
              "\n",
              "    .dataframe tbody tr th {\n",
              "        vertical-align: top;\n",
              "    }\n",
              "\n",
              "    .dataframe thead th {\n",
              "        text-align: right;\n",
              "    }\n",
              "</style>\n",
              "<table border=\"1\" class=\"dataframe\">\n",
              "  <thead>\n",
              "    <tr style=\"text-align: right;\">\n",
              "      <th></th>\n",
              "      <th>0610005C13Rik</th>\n",
              "      <th>0610007C21Rik</th>\n",
              "      <th>0610007L01Rik</th>\n",
              "      <th>0610007N19Rik</th>\n",
              "      <th>0610007P08Rik</th>\n",
              "      <th>0610007P14Rik</th>\n",
              "      <th>0610007P22Rik</th>\n",
              "      <th>0610008F07Rik</th>\n",
              "      <th>0610009B14Rik</th>\n",
              "      <th>0610009B22Rik</th>\n",
              "      <th>...</th>\n",
              "      <th>Zxdc</th>\n",
              "      <th>Zyg11a</th>\n",
              "      <th>Zyg11b</th>\n",
              "      <th>Zyx</th>\n",
              "      <th>Zzef1</th>\n",
              "      <th>Zzz3</th>\n",
              "      <th>a</th>\n",
              "      <th>l7Rn6</th>\n",
              "      <th>zsGreen_transgene</th>\n",
              "      <th>cell_ontology_class</th>\n",
              "    </tr>\n",
              "    <tr>\n",
              "      <th>cell</th>\n",
              "      <th></th>\n",
              "      <th></th>\n",
              "      <th></th>\n",
              "      <th></th>\n",
              "      <th></th>\n",
              "      <th></th>\n",
              "      <th></th>\n",
              "      <th></th>\n",
              "      <th></th>\n",
              "      <th></th>\n",
              "      <th></th>\n",
              "      <th></th>\n",
              "      <th></th>\n",
              "      <th></th>\n",
              "      <th></th>\n",
              "      <th></th>\n",
              "      <th></th>\n",
              "      <th></th>\n",
              "      <th></th>\n",
              "      <th></th>\n",
              "      <th></th>\n",
              "    </tr>\n",
              "  </thead>\n",
              "  <tbody>\n",
              "    <tr>\n",
              "      <th>A1.B003290.3_38_F.1.1</th>\n",
              "      <td>0</td>\n",
              "      <td>125</td>\n",
              "      <td>16</td>\n",
              "      <td>0</td>\n",
              "      <td>0</td>\n",
              "      <td>0</td>\n",
              "      <td>0</td>\n",
              "      <td>0</td>\n",
              "      <td>0</td>\n",
              "      <td>0</td>\n",
              "      <td>...</td>\n",
              "      <td>0</td>\n",
              "      <td>0</td>\n",
              "      <td>0</td>\n",
              "      <td>0</td>\n",
              "      <td>0</td>\n",
              "      <td>0</td>\n",
              "      <td>0</td>\n",
              "      <td>54</td>\n",
              "      <td>0</td>\n",
              "      <td>astrocyte</td>\n",
              "    </tr>\n",
              "    <tr>\n",
              "      <th>A1.B003728.3_56_F.1.1</th>\n",
              "      <td>0</td>\n",
              "      <td>0</td>\n",
              "      <td>0</td>\n",
              "      <td>0</td>\n",
              "      <td>0</td>\n",
              "      <td>324</td>\n",
              "      <td>0</td>\n",
              "      <td>0</td>\n",
              "      <td>0</td>\n",
              "      <td>0</td>\n",
              "      <td>...</td>\n",
              "      <td>0</td>\n",
              "      <td>0</td>\n",
              "      <td>0</td>\n",
              "      <td>0</td>\n",
              "      <td>0</td>\n",
              "      <td>0</td>\n",
              "      <td>0</td>\n",
              "      <td>0</td>\n",
              "      <td>0</td>\n",
              "      <td>astrocyte</td>\n",
              "    </tr>\n",
              "    <tr>\n",
              "      <th>A1.MAA000560.3_10_M.1.1</th>\n",
              "      <td>0</td>\n",
              "      <td>348</td>\n",
              "      <td>0</td>\n",
              "      <td>0</td>\n",
              "      <td>0</td>\n",
              "      <td>5</td>\n",
              "      <td>0</td>\n",
              "      <td>0</td>\n",
              "      <td>0</td>\n",
              "      <td>0</td>\n",
              "      <td>...</td>\n",
              "      <td>0</td>\n",
              "      <td>0</td>\n",
              "      <td>0</td>\n",
              "      <td>0</td>\n",
              "      <td>195</td>\n",
              "      <td>0</td>\n",
              "      <td>0</td>\n",
              "      <td>113</td>\n",
              "      <td>0</td>\n",
              "      <td>oligodendrocyte</td>\n",
              "    </tr>\n",
              "    <tr>\n",
              "      <th>A1.MAA000564.3_10_M.1.1</th>\n",
              "      <td>0</td>\n",
              "      <td>41</td>\n",
              "      <td>36</td>\n",
              "      <td>0</td>\n",
              "      <td>0</td>\n",
              "      <td>24</td>\n",
              "      <td>0</td>\n",
              "      <td>0</td>\n",
              "      <td>0</td>\n",
              "      <td>14</td>\n",
              "      <td>...</td>\n",
              "      <td>0</td>\n",
              "      <td>0</td>\n",
              "      <td>0</td>\n",
              "      <td>125</td>\n",
              "      <td>0</td>\n",
              "      <td>1</td>\n",
              "      <td>0</td>\n",
              "      <td>0</td>\n",
              "      <td>0</td>\n",
              "      <td>endothelial cell</td>\n",
              "    </tr>\n",
              "    <tr>\n",
              "      <th>A1.MAA000923.3_9_M.1.1</th>\n",
              "      <td>0</td>\n",
              "      <td>53</td>\n",
              "      <td>0</td>\n",
              "      <td>0</td>\n",
              "      <td>0</td>\n",
              "      <td>0</td>\n",
              "      <td>0</td>\n",
              "      <td>0</td>\n",
              "      <td>0</td>\n",
              "      <td>0</td>\n",
              "      <td>...</td>\n",
              "      <td>0</td>\n",
              "      <td>0</td>\n",
              "      <td>81</td>\n",
              "      <td>0</td>\n",
              "      <td>0</td>\n",
              "      <td>0</td>\n",
              "      <td>0</td>\n",
              "      <td>0</td>\n",
              "      <td>0</td>\n",
              "      <td>astrocyte</td>\n",
              "    </tr>\n",
              "  </tbody>\n",
              "</table>\n",
              "<p>5 rows × 23434 columns</p>\n",
              "</div>\n",
              "      <button class=\"colab-df-convert\" onclick=\"convertToInteractive('df-7458f3bb-461b-47d5-b7b2-e5a5a135fac6')\"\n",
              "              title=\"Convert this dataframe to an interactive table.\"\n",
              "              style=\"display:none;\">\n",
              "\n",
              "  <svg xmlns=\"http://www.w3.org/2000/svg\" height=\"24px\"viewBox=\"0 0 24 24\"\n",
              "       width=\"24px\">\n",
              "    <path d=\"M0 0h24v24H0V0z\" fill=\"none\"/>\n",
              "    <path d=\"M18.56 5.44l.94 2.06.94-2.06 2.06-.94-2.06-.94-.94-2.06-.94 2.06-2.06.94zm-11 1L8.5 8.5l.94-2.06 2.06-.94-2.06-.94L8.5 2.5l-.94 2.06-2.06.94zm10 10l.94 2.06.94-2.06 2.06-.94-2.06-.94-.94-2.06-.94 2.06-2.06.94z\"/><path d=\"M17.41 7.96l-1.37-1.37c-.4-.4-.92-.59-1.43-.59-.52 0-1.04.2-1.43.59L10.3 9.45l-7.72 7.72c-.78.78-.78 2.05 0 2.83L4 21.41c.39.39.9.59 1.41.59.51 0 1.02-.2 1.41-.59l7.78-7.78 2.81-2.81c.8-.78.8-2.07 0-2.86zM5.41 20L4 18.59l7.72-7.72 1.47 1.35L5.41 20z\"/>\n",
              "  </svg>\n",
              "      </button>\n",
              "\n",
              "\n",
              "\n",
              "    <div id=\"df-d6f66bb6-4ec0-4e80-913e-242b2b497919\">\n",
              "      <button class=\"colab-df-quickchart\" onclick=\"quickchart('df-d6f66bb6-4ec0-4e80-913e-242b2b497919')\"\n",
              "              title=\"Suggest charts.\"\n",
              "              style=\"display:none;\">\n",
              "\n",
              "<svg xmlns=\"http://www.w3.org/2000/svg\" height=\"24px\"viewBox=\"0 0 24 24\"\n",
              "     width=\"24px\">\n",
              "    <g>\n",
              "        <path d=\"M19 3H5c-1.1 0-2 .9-2 2v14c0 1.1.9 2 2 2h14c1.1 0 2-.9 2-2V5c0-1.1-.9-2-2-2zM9 17H7v-7h2v7zm4 0h-2V7h2v10zm4 0h-2v-4h2v4z\"/>\n",
              "    </g>\n",
              "</svg>\n",
              "      </button>\n",
              "    </div>\n",
              "\n",
              "<style>\n",
              "  .colab-df-quickchart {\n",
              "    background-color: #E8F0FE;\n",
              "    border: none;\n",
              "    border-radius: 50%;\n",
              "    cursor: pointer;\n",
              "    display: none;\n",
              "    fill: #1967D2;\n",
              "    height: 32px;\n",
              "    padding: 0 0 0 0;\n",
              "    width: 32px;\n",
              "  }\n",
              "\n",
              "  .colab-df-quickchart:hover {\n",
              "    background-color: #E2EBFA;\n",
              "    box-shadow: 0px 1px 2px rgba(60, 64, 67, 0.3), 0px 1px 3px 1px rgba(60, 64, 67, 0.15);\n",
              "    fill: #174EA6;\n",
              "  }\n",
              "\n",
              "  [theme=dark] .colab-df-quickchart {\n",
              "    background-color: #3B4455;\n",
              "    fill: #D2E3FC;\n",
              "  }\n",
              "\n",
              "  [theme=dark] .colab-df-quickchart:hover {\n",
              "    background-color: #434B5C;\n",
              "    box-shadow: 0px 1px 3px 1px rgba(0, 0, 0, 0.15);\n",
              "    filter: drop-shadow(0px 1px 2px rgba(0, 0, 0, 0.3));\n",
              "    fill: #FFFFFF;\n",
              "  }\n",
              "</style>\n",
              "\n",
              "    <script>\n",
              "      async function quickchart(key) {\n",
              "        const containerElement = document.querySelector('#' + key);\n",
              "        const charts = await google.colab.kernel.invokeFunction(\n",
              "            'suggestCharts', [key], {});\n",
              "      }\n",
              "    </script>\n",
              "\n",
              "      <script>\n",
              "\n",
              "function displayQuickchartButton(domScope) {\n",
              "  let quickchartButtonEl =\n",
              "    domScope.querySelector('#df-d6f66bb6-4ec0-4e80-913e-242b2b497919 button.colab-df-quickchart');\n",
              "  quickchartButtonEl.style.display =\n",
              "    google.colab.kernel.accessAllowed ? 'block' : 'none';\n",
              "}\n",
              "\n",
              "        displayQuickchartButton(document);\n",
              "      </script>\n",
              "      <style>\n",
              "    .colab-df-container {\n",
              "      display:flex;\n",
              "      flex-wrap:wrap;\n",
              "      gap: 12px;\n",
              "    }\n",
              "\n",
              "    .colab-df-convert {\n",
              "      background-color: #E8F0FE;\n",
              "      border: none;\n",
              "      border-radius: 50%;\n",
              "      cursor: pointer;\n",
              "      display: none;\n",
              "      fill: #1967D2;\n",
              "      height: 32px;\n",
              "      padding: 0 0 0 0;\n",
              "      width: 32px;\n",
              "    }\n",
              "\n",
              "    .colab-df-convert:hover {\n",
              "      background-color: #E2EBFA;\n",
              "      box-shadow: 0px 1px 2px rgba(60, 64, 67, 0.3), 0px 1px 3px 1px rgba(60, 64, 67, 0.15);\n",
              "      fill: #174EA6;\n",
              "    }\n",
              "\n",
              "    [theme=dark] .colab-df-convert {\n",
              "      background-color: #3B4455;\n",
              "      fill: #D2E3FC;\n",
              "    }\n",
              "\n",
              "    [theme=dark] .colab-df-convert:hover {\n",
              "      background-color: #434B5C;\n",
              "      box-shadow: 0px 1px 3px 1px rgba(0, 0, 0, 0.15);\n",
              "      filter: drop-shadow(0px 1px 2px rgba(0, 0, 0, 0.3));\n",
              "      fill: #FFFFFF;\n",
              "    }\n",
              "  </style>\n",
              "\n",
              "      <script>\n",
              "        const buttonEl =\n",
              "          document.querySelector('#df-7458f3bb-461b-47d5-b7b2-e5a5a135fac6 button.colab-df-convert');\n",
              "        buttonEl.style.display =\n",
              "          google.colab.kernel.accessAllowed ? 'block' : 'none';\n",
              "\n",
              "        async function convertToInteractive(key) {\n",
              "          const element = document.querySelector('#df-7458f3bb-461b-47d5-b7b2-e5a5a135fac6');\n",
              "          const dataTable =\n",
              "            await google.colab.kernel.invokeFunction('convertToInteractive',\n",
              "                                                     [key], {});\n",
              "          if (!dataTable) return;\n",
              "\n",
              "          const docLinkHtml = 'Like what you see? Visit the ' +\n",
              "            '<a target=\"_blank\" href=https://colab.research.google.com/notebooks/data_table.ipynb>data table notebook</a>'\n",
              "            + ' to learn more about interactive tables.';\n",
              "          element.innerHTML = '';\n",
              "          dataTable['output_type'] = 'display_data';\n",
              "          await google.colab.output.renderOutput(dataTable, element);\n",
              "          const docLink = document.createElement('div');\n",
              "          docLink.innerHTML = docLinkHtml;\n",
              "          element.appendChild(docLink);\n",
              "        }\n",
              "      </script>\n",
              "    </div>\n",
              "  </div>\n"
            ]
          },
          "metadata": {},
          "execution_count": 13
        }
      ],
      "source": [
        "data.head()"
      ],
      "metadata": {
        "ExecuteTime": {
          "end_time": "2023-06-27T09:20:58.388709800Z",
          "start_time": "2023-06-27T09:20:58.322110800Z"
        },
        "id": "zFUrtL4Scpct",
        "outputId": "1357a9d3-7707-4a6d-b52e-e58136e99d82",
        "colab": {
          "base_uri": "https://localhost:8080/",
          "height": 330
        }
      }
    },
    {
      "cell_type": "code",
      "execution_count": null,
      "outputs": [],
      "source": [
        "X = data.drop('cell_ontology_class', axis=1)\n",
        "y = data['cell_ontology_class']"
      ],
      "metadata": {
        "ExecuteTime": {
          "end_time": "2023-06-27T09:21:10.845309500Z",
          "start_time": "2023-06-27T09:21:08.970856Z"
        },
        "id": "KQF95jipcpcu"
      }
    },
    {
      "cell_type": "markdown",
      "source": [
        "Dividiamo il dataset in training e test, utilizzando la proporzione di default di 0.25 per la dimensione del test set."
      ],
      "metadata": {
        "id": "q2idz23-oTP2"
      }
    },
    {
      "cell_type": "code",
      "execution_count": null,
      "outputs": [],
      "source": [
        "# split data into train and test sets\n",
        "X_train, X_test, y_train, y_test = train_test_split(X, y)"
      ],
      "metadata": {
        "ExecuteTime": {
          "end_time": "2023-06-27T09:33:21.330968Z",
          "start_time": "2023-06-27T09:33:16.602002400Z"
        },
        "id": "MwQLKxR1cpcv"
      }
    },
    {
      "cell_type": "markdown",
      "source": [
        "Le matrici risultanti da un esperimento di single cell/nucleus RNAseq sono *sparse*, presentano cioè molti 0 dovuti al fatto che per ogni cellula solo una piccola quantità di geni viene rilevata (circa 2000-3000 rispetto ai più di 20000 totali nel genoma). Per questo, per ogni modello abbiamo inserito una feature extraction tramite PCA per ridurre la dimensionalità del dataset alle componenti responsabili per la maggiore varianza, preceduta da standardizzazione. Questo è un passaggio abituale nel preprocessing di dati di scRNAseq."
      ],
      "metadata": {
        "id": "A1-KybxXiRQn"
      }
    },
    {
      "cell_type": "markdown",
      "source": [
        "Per ogni modello definiamo una pipeline, che ci consente di applicare automaticamente il preprocessing al training e al test set evitando il data leakage, cioè l'utilizzo di informazioni presenti nel test set per il training del modello.\n",
        "Per la determinazione degli iperparametri abbiamo fatto uso della funzione GridSearchCV effettuando una 5-fold cross validation per ogni combinazione di parametri."
      ],
      "metadata": {
        "id": "dO-yASL-o2d_"
      }
    },
    {
      "cell_type": "markdown",
      "source": [
        "#PIPELINE KNN"
      ],
      "metadata": {
        "id": "YDlT74-bmD1b"
      }
    },
    {
      "cell_type": "markdown",
      "source": [
        "La K-Nearest Neighbors Classification è un modello non parametrico che per ogni osservazione query, determina la sua classe basandosi sulla classe a cui appartiene la maggioranza delle K osservazioni più vicine ad essa nel training set, secondo una determinata metrica (in questo caso la distanza euclidea).\n",
        "Gli iperparametri che consideriamo in questo caso sono il numero K di vicini e il loro peso sulla decisione."
      ],
      "metadata": {
        "id": "DMsAGo-XpmKy"
      }
    },
    {
      "cell_type": "code",
      "source": [
        "from sklearn.decomposition import PCA\n",
        "from sklearn.preprocessing import StandardScaler\n",
        "from sklearn.pipeline import Pipeline\n",
        "from sklearn.neighbors import KNeighborsClassifier\n",
        "pca = PCA()\n",
        "scaler = StandardScaler()\n",
        "knn = KNeighborsClassifier()\n",
        "pipe = Pipeline([('scaler', scaler), ('pca', pca), ('knn', knn)])\n",
        "\n",
        "param_grid = {\n",
        "  \"pca__n_components\": [50, 70, 100],\n",
        "  \"knn__n_neighbors\": [5, 10, 15],\n",
        "  \"knn__weights\": [\"uniform\", \"distance\"], # con \"uniform\" ogni vicino ha lo stesso peso,\n",
        "                                           # con \"distance\" il peso di ogni vicino dipende dalla distanza dell'osservazione query\n",
        " }"
      ],
      "metadata": {
        "id": "p8txohSpmFod"
      },
      "execution_count": null,
      "outputs": []
    },
    {
      "cell_type": "code",
      "source": [
        "from sklearn.model_selection import GridSearchCV\n",
        "grid = GridSearchCV(pipe, param_grid, cv=5, n_jobs=-1, verbose=3)\n",
        "grid.fit(X_train, y_train)"
      ],
      "metadata": {
        "colab": {
          "base_uri": "https://localhost:8080/",
          "height": 201
        },
        "id": "Asi4sNk3nFhx",
        "outputId": "ef3d0d6e-60f0-4429-9c22-19232ef4a596"
      },
      "execution_count": null,
      "outputs": [
        {
          "output_type": "stream",
          "name": "stdout",
          "text": [
            "Fitting 5 folds for each of 18 candidates, totalling 90 fits\n"
          ]
        },
        {
          "output_type": "execute_result",
          "data": {
            "text/plain": [
              "GridSearchCV(cv=5,\n",
              "             estimator=Pipeline(steps=[('scaler', StandardScaler()),\n",
              "                                       ('pca', PCA()),\n",
              "                                       ('knn', KNeighborsClassifier())]),\n",
              "             n_jobs=-1,\n",
              "             param_grid={'knn__n_neighbors': [5, 10, 15],\n",
              "                         'knn__weights': ['uniform', 'distance'],\n",
              "                         'pca__n_components': [50, 70, 100]},\n",
              "             verbose=3)"
            ],
            "text/html": [
              "<style>#sk-container-id-1 {color: black;background-color: white;}#sk-container-id-1 pre{padding: 0;}#sk-container-id-1 div.sk-toggleable {background-color: white;}#sk-container-id-1 label.sk-toggleable__label {cursor: pointer;display: block;width: 100%;margin-bottom: 0;padding: 0.3em;box-sizing: border-box;text-align: center;}#sk-container-id-1 label.sk-toggleable__label-arrow:before {content: \"▸\";float: left;margin-right: 0.25em;color: #696969;}#sk-container-id-1 label.sk-toggleable__label-arrow:hover:before {color: black;}#sk-container-id-1 div.sk-estimator:hover label.sk-toggleable__label-arrow:before {color: black;}#sk-container-id-1 div.sk-toggleable__content {max-height: 0;max-width: 0;overflow: hidden;text-align: left;background-color: #f0f8ff;}#sk-container-id-1 div.sk-toggleable__content pre {margin: 0.2em;color: black;border-radius: 0.25em;background-color: #f0f8ff;}#sk-container-id-1 input.sk-toggleable__control:checked~div.sk-toggleable__content {max-height: 200px;max-width: 100%;overflow: auto;}#sk-container-id-1 input.sk-toggleable__control:checked~label.sk-toggleable__label-arrow:before {content: \"▾\";}#sk-container-id-1 div.sk-estimator input.sk-toggleable__control:checked~label.sk-toggleable__label {background-color: #d4ebff;}#sk-container-id-1 div.sk-label input.sk-toggleable__control:checked~label.sk-toggleable__label {background-color: #d4ebff;}#sk-container-id-1 input.sk-hidden--visually {border: 0;clip: rect(1px 1px 1px 1px);clip: rect(1px, 1px, 1px, 1px);height: 1px;margin: -1px;overflow: hidden;padding: 0;position: absolute;width: 1px;}#sk-container-id-1 div.sk-estimator {font-family: monospace;background-color: #f0f8ff;border: 1px dotted black;border-radius: 0.25em;box-sizing: border-box;margin-bottom: 0.5em;}#sk-container-id-1 div.sk-estimator:hover {background-color: #d4ebff;}#sk-container-id-1 div.sk-parallel-item::after {content: \"\";width: 100%;border-bottom: 1px solid gray;flex-grow: 1;}#sk-container-id-1 div.sk-label:hover label.sk-toggleable__label {background-color: #d4ebff;}#sk-container-id-1 div.sk-serial::before {content: \"\";position: absolute;border-left: 1px solid gray;box-sizing: border-box;top: 0;bottom: 0;left: 50%;z-index: 0;}#sk-container-id-1 div.sk-serial {display: flex;flex-direction: column;align-items: center;background-color: white;padding-right: 0.2em;padding-left: 0.2em;position: relative;}#sk-container-id-1 div.sk-item {position: relative;z-index: 1;}#sk-container-id-1 div.sk-parallel {display: flex;align-items: stretch;justify-content: center;background-color: white;position: relative;}#sk-container-id-1 div.sk-item::before, #sk-container-id-1 div.sk-parallel-item::before {content: \"\";position: absolute;border-left: 1px solid gray;box-sizing: border-box;top: 0;bottom: 0;left: 50%;z-index: -1;}#sk-container-id-1 div.sk-parallel-item {display: flex;flex-direction: column;z-index: 1;position: relative;background-color: white;}#sk-container-id-1 div.sk-parallel-item:first-child::after {align-self: flex-end;width: 50%;}#sk-container-id-1 div.sk-parallel-item:last-child::after {align-self: flex-start;width: 50%;}#sk-container-id-1 div.sk-parallel-item:only-child::after {width: 0;}#sk-container-id-1 div.sk-dashed-wrapped {border: 1px dashed gray;margin: 0 0.4em 0.5em 0.4em;box-sizing: border-box;padding-bottom: 0.4em;background-color: white;}#sk-container-id-1 div.sk-label label {font-family: monospace;font-weight: bold;display: inline-block;line-height: 1.2em;}#sk-container-id-1 div.sk-label-container {text-align: center;}#sk-container-id-1 div.sk-container {/* jupyter's `normalize.less` sets `[hidden] { display: none; }` but bootstrap.min.css set `[hidden] { display: none !important; }` so we also need the `!important` here to be able to override the default hidden behavior on the sphinx rendered scikit-learn.org. See: https://github.com/scikit-learn/scikit-learn/issues/21755 */display: inline-block !important;position: relative;}#sk-container-id-1 div.sk-text-repr-fallback {display: none;}</style><div id=\"sk-container-id-1\" class=\"sk-top-container\"><div class=\"sk-text-repr-fallback\"><pre>GridSearchCV(cv=5,\n",
              "             estimator=Pipeline(steps=[(&#x27;scaler&#x27;, StandardScaler()),\n",
              "                                       (&#x27;pca&#x27;, PCA()),\n",
              "                                       (&#x27;knn&#x27;, KNeighborsClassifier())]),\n",
              "             n_jobs=-1,\n",
              "             param_grid={&#x27;knn__n_neighbors&#x27;: [5, 10, 15],\n",
              "                         &#x27;knn__weights&#x27;: [&#x27;uniform&#x27;, &#x27;distance&#x27;],\n",
              "                         &#x27;pca__n_components&#x27;: [50, 70, 100]},\n",
              "             verbose=3)</pre><b>In a Jupyter environment, please rerun this cell to show the HTML representation or trust the notebook. <br />On GitHub, the HTML representation is unable to render, please try loading this page with nbviewer.org.</b></div><div class=\"sk-container\" hidden><div class=\"sk-item sk-dashed-wrapped\"><div class=\"sk-label-container\"><div class=\"sk-label sk-toggleable\"><input class=\"sk-toggleable__control sk-hidden--visually\" id=\"sk-estimator-id-1\" type=\"checkbox\" ><label for=\"sk-estimator-id-1\" class=\"sk-toggleable__label sk-toggleable__label-arrow\">GridSearchCV</label><div class=\"sk-toggleable__content\"><pre>GridSearchCV(cv=5,\n",
              "             estimator=Pipeline(steps=[(&#x27;scaler&#x27;, StandardScaler()),\n",
              "                                       (&#x27;pca&#x27;, PCA()),\n",
              "                                       (&#x27;knn&#x27;, KNeighborsClassifier())]),\n",
              "             n_jobs=-1,\n",
              "             param_grid={&#x27;knn__n_neighbors&#x27;: [5, 10, 15],\n",
              "                         &#x27;knn__weights&#x27;: [&#x27;uniform&#x27;, &#x27;distance&#x27;],\n",
              "                         &#x27;pca__n_components&#x27;: [50, 70, 100]},\n",
              "             verbose=3)</pre></div></div></div><div class=\"sk-parallel\"><div class=\"sk-parallel-item\"><div class=\"sk-item\"><div class=\"sk-label-container\"><div class=\"sk-label sk-toggleable\"><input class=\"sk-toggleable__control sk-hidden--visually\" id=\"sk-estimator-id-2\" type=\"checkbox\" ><label for=\"sk-estimator-id-2\" class=\"sk-toggleable__label sk-toggleable__label-arrow\">estimator: Pipeline</label><div class=\"sk-toggleable__content\"><pre>Pipeline(steps=[(&#x27;scaler&#x27;, StandardScaler()), (&#x27;pca&#x27;, PCA()),\n",
              "                (&#x27;knn&#x27;, KNeighborsClassifier())])</pre></div></div></div><div class=\"sk-serial\"><div class=\"sk-item\"><div class=\"sk-serial\"><div class=\"sk-item\"><div class=\"sk-estimator sk-toggleable\"><input class=\"sk-toggleable__control sk-hidden--visually\" id=\"sk-estimator-id-3\" type=\"checkbox\" ><label for=\"sk-estimator-id-3\" class=\"sk-toggleable__label sk-toggleable__label-arrow\">StandardScaler</label><div class=\"sk-toggleable__content\"><pre>StandardScaler()</pre></div></div></div><div class=\"sk-item\"><div class=\"sk-estimator sk-toggleable\"><input class=\"sk-toggleable__control sk-hidden--visually\" id=\"sk-estimator-id-4\" type=\"checkbox\" ><label for=\"sk-estimator-id-4\" class=\"sk-toggleable__label sk-toggleable__label-arrow\">PCA</label><div class=\"sk-toggleable__content\"><pre>PCA()</pre></div></div></div><div class=\"sk-item\"><div class=\"sk-estimator sk-toggleable\"><input class=\"sk-toggleable__control sk-hidden--visually\" id=\"sk-estimator-id-5\" type=\"checkbox\" ><label for=\"sk-estimator-id-5\" class=\"sk-toggleable__label sk-toggleable__label-arrow\">KNeighborsClassifier</label><div class=\"sk-toggleable__content\"><pre>KNeighborsClassifier()</pre></div></div></div></div></div></div></div></div></div></div></div></div>"
            ]
          },
          "metadata": {},
          "execution_count": 18
        }
      ]
    },
    {
      "cell_type": "code",
      "source": [
        "print(\"Best parameter (CV score=%0.3f):\" % grid.best_score_)\n",
        "print(grid.best_params_)\n",
        "print(\"Score on test set: \", grid.score(X_test, y_test))\n",
        "estimator = grid.best_estimator_"
      ],
      "metadata": {
        "colab": {
          "base_uri": "https://localhost:8080/"
        },
        "id": "QKIvVauSnMX5",
        "outputId": "c8d4fe2d-d49f-4073-ed71-66bcdb7d515e"
      },
      "execution_count": null,
      "outputs": [
        {
          "output_type": "stream",
          "name": "stdout",
          "text": [
            "Best parameter (CV score=0.943):\n",
            "{'knn__n_neighbors': 10, 'knn__weights': 'distance', 'pca__n_components': 70}\n",
            "Score on test set:  0.9424206815511164\n"
          ]
        }
      ]
    },
    {
      "cell_type": "code",
      "source": [
        "y_pred = estimator.predict(X_test)\n",
        "from sklearn.metrics import f1_score, ConfusionMatrixDisplay, classification_report\n",
        "print(f1_score(y_test, y_pred, average='weighted'))\n",
        "print(classification_report(y_test,y_pred))\n",
        "disp = ConfusionMatrixDisplay.from_predictions(y_test, y_pred, xticks_rotation='vertical')"
      ],
      "metadata": {
        "colab": {
          "base_uri": "https://localhost:8080/",
          "height": 912
        },
        "id": "d0Z3_qFenaGf",
        "outputId": "23fbf00f-201a-4a02-e8c3-2ab68560a7e4"
      },
      "execution_count": null,
      "outputs": [
        {
          "output_type": "stream",
          "name": "stdout",
          "text": [
            "0.9412819111140817\n",
            "                                precision    recall  f1-score   support\n",
            "\n",
            "           Bergmann glial cell       1.00      0.38      0.56        13\n",
            "                     astrocyte       0.86      0.94      0.90       111\n",
            "                brain pericyte       0.95      0.95      0.95        43\n",
            "              endothelial cell       0.99      0.97      0.98       180\n",
            "                        neuron       0.83      0.92      0.87        59\n",
            "               oligodendrocyte       0.97      0.95      0.96       398\n",
            "oligodendrocyte precursor cell       0.90      0.98      0.94        47\n",
            "\n",
            "                      accuracy                           0.94       851\n",
            "                     macro avg       0.93      0.87      0.88       851\n",
            "                  weighted avg       0.95      0.94      0.94       851\n",
            "\n"
          ]
        },
        {
          "output_type": "display_data",
          "data": {
            "text/plain": [
              "<Figure size 640x480 with 2 Axes>"
            ],
            "image/png": "[encoded data removed]"
          },
          "metadata": {}
        }
      ]
    },
    {
      "cell_type": "code",
      "source": [
        "disp = ConfusionMatrixDisplay.from_predictions(y_test, y_pred, xticks_rotation='vertical', normalize='true')"
      ],
      "metadata": {
        "id": "qA9roDyjDs0z"
      },
      "execution_count": null,
      "outputs": []
    },
    {
      "cell_type": "markdown",
      "source": [
        "\n",
        "\n",
        "# PIPELINE SVM"
      ],
      "metadata": {
        "collapsed": false,
        "id": "3QL4IlWScpc8"
      }
    },
    {
      "cell_type": "markdown",
      "source": [
        "Una Support Vector Machine cerca di costruire un iperpiano nello spazio delle feature che abbia distanza massima dal punto più vicino nel training set (margine funzionale). Dataset non linearmente separabili possono diventarlo applicando una funzione nonlineare a ogni coppia di osservazioni (*kernel*).\n",
        "Gli iperparametri che consideriamo sono il parametro di regolarizzazione C, la funzione kernel, il grado del polinomio nel caso di kernel polinomiale e il peso assegnato agli errori"
      ],
      "metadata": {
        "id": "5nPN8mYKQz-9"
      }
    },
    {
      "cell_type": "code",
      "execution_count": null,
      "outputs": [],
      "source": [
        "from sklearn.decomposition import PCA\n",
        "from sklearn.preprocessing import StandardScaler\n",
        "from sklearn.pipeline import Pipeline\n",
        "from sklearn.svm import SVC\n",
        "\n",
        "pca = PCA(n_components=50)\n",
        "scaler = StandardScaler()\n",
        "svm = SVC()\n",
        "pipe = Pipeline([('scaler', scaler), ('pca', pca), ('svm', svm)])\n",
        "\n",
        "param_grid = {\n",
        "\t\"svm__C\": [0.01, 0.05, 0.1],\n",
        "\t\"svm__kernel\": [\"linear\", \"rbf\", \"poly\"],\n",
        "\t# \"svm__degree\": range(2, 6),\n",
        "\t\"svm__class_weight\": [None, \"balanced\"]      # Impostando questo parametro su \"balanced\" l'errore nella predizione di un elemento ha un peso\n",
        "                                               # inversamente proporzionale alla frequenza della sua classe nel training set\n",
        "}\n"
      ],
      "metadata": {
        "ExecuteTime": {
          "end_time": "2023-06-27T09:30:44.337306600Z",
          "start_time": "2023-06-27T09:30:43.060410100Z"
        },
        "id": "mxlXogrHcpc-"
      }
    },
    {
      "cell_type": "code",
      "execution_count": null,
      "outputs": [
        {
          "output_type": "stream",
          "name": "stdout",
          "text": [
            "Fitting 5 folds for each of 18 candidates, totalling 90 fits\n"
          ]
        },
        {
          "output_type": "execute_result",
          "data": {
            "text/plain": [
              "GridSearchCV(cv=5,\n",
              "             estimator=Pipeline(steps=[('scaler', StandardScaler()),\n",
              "                                       ('pca', PCA(n_components=50)),\n",
              "                                       ('svm', SVC())]),\n",
              "             n_jobs=-1,\n",
              "             param_grid={'svm__C': [0.01, 0.05, 0.1],\n",
              "                         'svm__class_weight': [None, 'balanced'],\n",
              "                         'svm__kernel': ['linear', 'rbf', 'poly']},\n",
              "             verbose=3)"
            ],
            "text/html": [
              "<style>#sk-container-id-4 {color: black;background-color: white;}#sk-container-id-4 pre{padding: 0;}#sk-container-id-4 div.sk-toggleable {background-color: white;}#sk-container-id-4 label.sk-toggleable__label {cursor: pointer;display: block;width: 100%;margin-bottom: 0;padding: 0.3em;box-sizing: border-box;text-align: center;}#sk-container-id-4 label.sk-toggleable__label-arrow:before {content: \"▸\";float: left;margin-right: 0.25em;color: #696969;}#sk-container-id-4 label.sk-toggleable__label-arrow:hover:before {color: black;}#sk-container-id-4 div.sk-estimator:hover label.sk-toggleable__label-arrow:before {color: black;}#sk-container-id-4 div.sk-toggleable__content {max-height: 0;max-width: 0;overflow: hidden;text-align: left;background-color: #f0f8ff;}#sk-container-id-4 div.sk-toggleable__content pre {margin: 0.2em;color: black;border-radius: 0.25em;background-color: #f0f8ff;}#sk-container-id-4 input.sk-toggleable__control:checked~div.sk-toggleable__content {max-height: 200px;max-width: 100%;overflow: auto;}#sk-container-id-4 input.sk-toggleable__control:checked~label.sk-toggleable__label-arrow:before {content: \"▾\";}#sk-container-id-4 div.sk-estimator input.sk-toggleable__control:checked~label.sk-toggleable__label {background-color: #d4ebff;}#sk-container-id-4 div.sk-label input.sk-toggleable__control:checked~label.sk-toggleable__label {background-color: #d4ebff;}#sk-container-id-4 input.sk-hidden--visually {border: 0;clip: rect(1px 1px 1px 1px);clip: rect(1px, 1px, 1px, 1px);height: 1px;margin: -1px;overflow: hidden;padding: 0;position: absolute;width: 1px;}#sk-container-id-4 div.sk-estimator {font-family: monospace;background-color: #f0f8ff;border: 1px dotted black;border-radius: 0.25em;box-sizing: border-box;margin-bottom: 0.5em;}#sk-container-id-4 div.sk-estimator:hover {background-color: #d4ebff;}#sk-container-id-4 div.sk-parallel-item::after {content: \"\";width: 100%;border-bottom: 1px solid gray;flex-grow: 1;}#sk-container-id-4 div.sk-label:hover label.sk-toggleable__label {background-color: #d4ebff;}#sk-container-id-4 div.sk-serial::before {content: \"\";position: absolute;border-left: 1px solid gray;box-sizing: border-box;top: 0;bottom: 0;left: 50%;z-index: 0;}#sk-container-id-4 div.sk-serial {display: flex;flex-direction: column;align-items: center;background-color: white;padding-right: 0.2em;padding-left: 0.2em;position: relative;}#sk-container-id-4 div.sk-item {position: relative;z-index: 1;}#sk-container-id-4 div.sk-parallel {display: flex;align-items: stretch;justify-content: center;background-color: white;position: relative;}#sk-container-id-4 div.sk-item::before, #sk-container-id-4 div.sk-parallel-item::before {content: \"\";position: absolute;border-left: 1px solid gray;box-sizing: border-box;top: 0;bottom: 0;left: 50%;z-index: -1;}#sk-container-id-4 div.sk-parallel-item {display: flex;flex-direction: column;z-index: 1;position: relative;background-color: white;}#sk-container-id-4 div.sk-parallel-item:first-child::after {align-self: flex-end;width: 50%;}#sk-container-id-4 div.sk-parallel-item:last-child::after {align-self: flex-start;width: 50%;}#sk-container-id-4 div.sk-parallel-item:only-child::after {width: 0;}#sk-container-id-4 div.sk-dashed-wrapped {border: 1px dashed gray;margin: 0 0.4em 0.5em 0.4em;box-sizing: border-box;padding-bottom: 0.4em;background-color: white;}#sk-container-id-4 div.sk-label label {font-family: monospace;font-weight: bold;display: inline-block;line-height: 1.2em;}#sk-container-id-4 div.sk-label-container {text-align: center;}#sk-container-id-4 div.sk-container {/* jupyter's `normalize.less` sets `[hidden] { display: none; }` but bootstrap.min.css set `[hidden] { display: none !important; }` so we also need the `!important` here to be able to override the default hidden behavior on the sphinx rendered scikit-learn.org. See: https://github.com/scikit-learn/scikit-learn/issues/21755 */display: inline-block !important;position: relative;}#sk-container-id-4 div.sk-text-repr-fallback {display: none;}</style><div id=\"sk-container-id-4\" class=\"sk-top-container\"><div class=\"sk-text-repr-fallback\"><pre>GridSearchCV(cv=5,\n",
              "             estimator=Pipeline(steps=[(&#x27;scaler&#x27;, StandardScaler()),\n",
              "                                       (&#x27;pca&#x27;, PCA(n_components=50)),\n",
              "                                       (&#x27;svm&#x27;, SVC())]),\n",
              "             n_jobs=-1,\n",
              "             param_grid={&#x27;svm__C&#x27;: [0.01, 0.05, 0.1],\n",
              "                         &#x27;svm__class_weight&#x27;: [None, &#x27;balanced&#x27;],\n",
              "                         &#x27;svm__kernel&#x27;: [&#x27;linear&#x27;, &#x27;rbf&#x27;, &#x27;poly&#x27;]},\n",
              "             verbose=3)</pre><b>In a Jupyter environment, please rerun this cell to show the HTML representation or trust the notebook. <br />On GitHub, the HTML representation is unable to render, please try loading this page with nbviewer.org.</b></div><div class=\"sk-container\" hidden><div class=\"sk-item sk-dashed-wrapped\"><div class=\"sk-label-container\"><div class=\"sk-label sk-toggleable\"><input class=\"sk-toggleable__control sk-hidden--visually\" id=\"sk-estimator-id-8\" type=\"checkbox\" ><label for=\"sk-estimator-id-8\" class=\"sk-toggleable__label sk-toggleable__label-arrow\">GridSearchCV</label><div class=\"sk-toggleable__content\"><pre>GridSearchCV(cv=5,\n",
              "             estimator=Pipeline(steps=[(&#x27;scaler&#x27;, StandardScaler()),\n",
              "                                       (&#x27;pca&#x27;, PCA(n_components=50)),\n",
              "                                       (&#x27;svm&#x27;, SVC())]),\n",
              "             n_jobs=-1,\n",
              "             param_grid={&#x27;svm__C&#x27;: [0.01, 0.05, 0.1],\n",
              "                         &#x27;svm__class_weight&#x27;: [None, &#x27;balanced&#x27;],\n",
              "                         &#x27;svm__kernel&#x27;: [&#x27;linear&#x27;, &#x27;rbf&#x27;, &#x27;poly&#x27;]},\n",
              "             verbose=3)</pre></div></div></div><div class=\"sk-parallel\"><div class=\"sk-parallel-item\"><div class=\"sk-item\"><div class=\"sk-label-container\"><div class=\"sk-label sk-toggleable\"><input class=\"sk-toggleable__control sk-hidden--visually\" id=\"sk-estimator-id-9\" type=\"checkbox\" ><label for=\"sk-estimator-id-9\" class=\"sk-toggleable__label sk-toggleable__label-arrow\">estimator: Pipeline</label><div class=\"sk-toggleable__content\"><pre>Pipeline(steps=[(&#x27;scaler&#x27;, StandardScaler()), (&#x27;pca&#x27;, PCA(n_components=50)),\n",
              "                (&#x27;svm&#x27;, SVC())])</pre></div></div></div><div class=\"sk-serial\"><div class=\"sk-item\"><div class=\"sk-serial\"><div class=\"sk-item\"><div class=\"sk-estimator sk-toggleable\"><input class=\"sk-toggleable__control sk-hidden--visually\" id=\"sk-estimator-id-10\" type=\"checkbox\" ><label for=\"sk-estimator-id-10\" class=\"sk-toggleable__label sk-toggleable__label-arrow\">StandardScaler</label><div class=\"sk-toggleable__content\"><pre>StandardScaler()</pre></div></div></div><div class=\"sk-item\"><div class=\"sk-estimator sk-toggleable\"><input class=\"sk-toggleable__control sk-hidden--visually\" id=\"sk-estimator-id-11\" type=\"checkbox\" ><label for=\"sk-estimator-id-11\" class=\"sk-toggleable__label sk-toggleable__label-arrow\">PCA</label><div class=\"sk-toggleable__content\"><pre>PCA(n_components=50)</pre></div></div></div><div class=\"sk-item\"><div class=\"sk-estimator sk-toggleable\"><input class=\"sk-toggleable__control sk-hidden--visually\" id=\"sk-estimator-id-12\" type=\"checkbox\" ><label for=\"sk-estimator-id-12\" class=\"sk-toggleable__label sk-toggleable__label-arrow\">SVC</label><div class=\"sk-toggleable__content\"><pre>SVC()</pre></div></div></div></div></div></div></div></div></div></div></div></div>"
            ]
          },
          "metadata": {},
          "execution_count": 32
        }
      ],
      "source": [
        "from sklearn.model_selection import GridSearchCV\n",
        "grid = GridSearchCV(pipe, param_grid, cv=5, n_jobs=-1, verbose=3)\n",
        "grid.fit(X_train, y_train)\n"
      ],
      "metadata": {
        "ExecuteTime": {
          "end_time": "2023-06-27T09:35:34.442809300Z",
          "start_time": "2023-06-27T09:33:26.217153400Z"
        },
        "colab": {
          "base_uri": "https://localhost:8080/",
          "height": 201
        },
        "id": "6y1fpZTocpc_",
        "outputId": "43f6e116-1384-4111-dd74-7079117a9b42"
      }
    },
    {
      "cell_type": "code",
      "execution_count": null,
      "outputs": [
        {
          "output_type": "stream",
          "name": "stdout",
          "text": [
            "Best parameter (CV score=0.944):\n",
            "{'svm__C': 0.1, 'svm__class_weight': None, 'svm__kernel': 'linear'}\n"
          ]
        }
      ],
      "source": [
        "print(\"Best parameter (CV score=%0.3f):\" % grid.best_score_)\n",
        "print(grid.best_params_)"
      ],
      "metadata": {
        "id": "_wlRxNDCcpdA",
        "outputId": "e958eaee-ea76-4011-fdcf-a40ab374e91f",
        "colab": {
          "base_uri": "https://localhost:8080/"
        }
      }
    },
    {
      "cell_type": "code",
      "source": [
        "grid.score(X_test, y_test)"
      ],
      "metadata": {
        "id": "C7hmv5m7bsdo",
        "outputId": "e8491f46-a6a4-4a8c-f537-40452f192084",
        "colab": {
          "base_uri": "https://localhost:8080/"
        }
      },
      "execution_count": null,
      "outputs": [
        {
          "output_type": "execute_result",
          "data": {
            "text/plain": [
              "0.9553466509988249"
            ]
          },
          "metadata": {},
          "execution_count": 34
        }
      ]
    },
    {
      "cell_type": "code",
      "source": [
        "estimator = grid.best_estimator_"
      ],
      "metadata": {
        "id": "jrkPonmabwp8"
      },
      "execution_count": null,
      "outputs": []
    },
    {
      "cell_type": "code",
      "source": [
        "y_pred = estimator.predict(X_test)\n",
        "from sklearn.metrics import f1_score, ConfusionMatrixDisplay, classification_report\n",
        "print(f1_score(y_test, y_pred, average='weighted'))\n",
        "print(classification_report(y_test,y_pred))\n",
        "disp = ConfusionMatrixDisplay.from_predictions(y_test, y_pred, xticks_rotation='vertical')"
      ],
      "metadata": {
        "id": "QxwqR2m1byXJ",
        "outputId": "27582187-6afa-46a1-d292-5551c2da98cd",
        "colab": {
          "base_uri": "https://localhost:8080/",
          "height": 912
        }
      },
      "execution_count": null,
      "outputs": [
        {
          "output_type": "stream",
          "name": "stdout",
          "text": [
            "0.9557057142440233\n",
            "                                precision    recall  f1-score   support\n",
            "\n",
            "           Bergmann glial cell       0.79      0.85      0.81        13\n",
            "                     astrocyte       0.94      0.91      0.92       111\n",
            "                brain pericyte       0.88      0.98      0.92        43\n",
            "              endothelial cell       0.99      0.98      0.98       180\n",
            "                        neuron       0.88      0.97      0.92        59\n",
            "               oligodendrocyte       0.98      0.95      0.97       398\n",
            "oligodendrocyte precursor cell       0.92      0.98      0.95        47\n",
            "\n",
            "                      accuracy                           0.96       851\n",
            "                     macro avg       0.91      0.94      0.93       851\n",
            "                  weighted avg       0.96      0.96      0.96       851\n",
            "\n"
          ]
        },
        {
          "output_type": "display_data",
          "data": {
            "text/plain": [
              "<Figure size 640x480 with 2 Axes>"
            ],
            "image/png": "[encoded data removed]"
          },
          "metadata": {}
        }
      ]
    },
    {
      "cell_type": "code",
      "source": [
        "disp = ConfusionMatrixDisplay.from_predictions(y_test, y_pred, xticks_rotation='vertical', normalize='true')"
      ],
      "metadata": {
        "id": "mR9XbquFDvOL"
      },
      "execution_count": null,
      "outputs": []
    },
    {
      "cell_type": "markdown",
      "source": [
        "# PIPELINE RANDOM FOREST"
      ],
      "metadata": {
        "id": "gO4yMLP524-d"
      }
    },
    {
      "cell_type": "markdown",
      "source": [
        "Una Random Forest è un modello ensemble formato da una combinazione (bagging) di alberi decisionali. Ogni albero viene addestrato su un campione selezionato tramite bootstrap dal training set e la predizione finale è data dalla classe predetta dalla maggioranza degli alberi.\n",
        "Gli iperparametri che consideriamo sono il numero di alberi e il peso degli errori."
      ],
      "metadata": {
        "id": "PScdVbkLu_RW"
      }
    },
    {
      "cell_type": "code",
      "source": [
        "from sklearn.decomposition import PCA\n",
        "from sklearn.preprocessing import StandardScaler\n",
        "from sklearn.pipeline import Pipeline\n",
        "from sklearn.ensemble import RandomForestClassifier\n",
        "\n",
        "pca = PCA()\n",
        "scaler = StandardScaler()\n",
        "rfc = RandomForestClassifier()\n",
        "pipe = Pipeline([('scaler', scaler), ('pca', pca), ('rfc', rfc)])\n",
        "\n",
        "param_grid = {\n",
        "    \"pca__n_components\": [50, 70, 100],\n",
        "    \"rfc__n_estimators\": [100, 150, 200],\n",
        "    \"rfc__class_weight\": [None, \"balanced\"] # Impostando questo parametro su \"balanced\" l'errore nella predizione di un elemento ha un peso\n",
        "                                            # inversamente proporzionale alla frequenza della sua classe nel training set\n",
        "}"
      ],
      "metadata": {
        "id": "1zb4-ssL2-Em"
      },
      "execution_count": null,
      "outputs": []
    },
    {
      "cell_type": "code",
      "source": [
        "from sklearn.model_selection import GridSearchCV\n",
        "grid = GridSearchCV(pipe, param_grid, cv=5, n_jobs=-1, verbose=3)\n",
        "grid.fit(X_train, y_train)"
      ],
      "metadata": {
        "id": "Ux9NbQm-5MlL",
        "outputId": "ba4f5c34-08ca-4e90-83a1-2a5e507bcd6c",
        "colab": {
          "base_uri": "https://localhost:8080/",
          "height": 201
        }
      },
      "execution_count": null,
      "outputs": [
        {
          "output_type": "stream",
          "name": "stdout",
          "text": [
            "Fitting 5 folds for each of 18 candidates, totalling 90 fits\n"
          ]
        },
        {
          "output_type": "execute_result",
          "data": {
            "text/plain": [
              "GridSearchCV(cv=5,\n",
              "             estimator=Pipeline(steps=[('scaler', StandardScaler()),\n",
              "                                       ('pca', PCA()),\n",
              "                                       ('rfc', RandomForestClassifier())]),\n",
              "             n_jobs=-1,\n",
              "             param_grid={'pca__n_components': [50, 70, 100],\n",
              "                         'rfc__class_weight': [None, 'balanced'],\n",
              "                         'rfc__n_estimators': [100, 150, 200]},\n",
              "             verbose=3)"
            ],
            "text/html": [
              "<style>#sk-container-id-5 {color: black;background-color: white;}#sk-container-id-5 pre{padding: 0;}#sk-container-id-5 div.sk-toggleable {background-color: white;}#sk-container-id-5 label.sk-toggleable__label {cursor: pointer;display: block;width: 100%;margin-bottom: 0;padding: 0.3em;box-sizing: border-box;text-align: center;}#sk-container-id-5 label.sk-toggleable__label-arrow:before {content: \"▸\";float: left;margin-right: 0.25em;color: #696969;}#sk-container-id-5 label.sk-toggleable__label-arrow:hover:before {color: black;}#sk-container-id-5 div.sk-estimator:hover label.sk-toggleable__label-arrow:before {color: black;}#sk-container-id-5 div.sk-toggleable__content {max-height: 0;max-width: 0;overflow: hidden;text-align: left;background-color: #f0f8ff;}#sk-container-id-5 div.sk-toggleable__content pre {margin: 0.2em;color: black;border-radius: 0.25em;background-color: #f0f8ff;}#sk-container-id-5 input.sk-toggleable__control:checked~div.sk-toggleable__content {max-height: 200px;max-width: 100%;overflow: auto;}#sk-container-id-5 input.sk-toggleable__control:checked~label.sk-toggleable__label-arrow:before {content: \"▾\";}#sk-container-id-5 div.sk-estimator input.sk-toggleable__control:checked~label.sk-toggleable__label {background-color: #d4ebff;}#sk-container-id-5 div.sk-label input.sk-toggleable__control:checked~label.sk-toggleable__label {background-color: #d4ebff;}#sk-container-id-5 input.sk-hidden--visually {border: 0;clip: rect(1px 1px 1px 1px);clip: rect(1px, 1px, 1px, 1px);height: 1px;margin: -1px;overflow: hidden;padding: 0;position: absolute;width: 1px;}#sk-container-id-5 div.sk-estimator {font-family: monospace;background-color: #f0f8ff;border: 1px dotted black;border-radius: 0.25em;box-sizing: border-box;margin-bottom: 0.5em;}#sk-container-id-5 div.sk-estimator:hover {background-color: #d4ebff;}#sk-container-id-5 div.sk-parallel-item::after {content: \"\";width: 100%;border-bottom: 1px solid gray;flex-grow: 1;}#sk-container-id-5 div.sk-label:hover label.sk-toggleable__label {background-color: #d4ebff;}#sk-container-id-5 div.sk-serial::before {content: \"\";position: absolute;border-left: 1px solid gray;box-sizing: border-box;top: 0;bottom: 0;left: 50%;z-index: 0;}#sk-container-id-5 div.sk-serial {display: flex;flex-direction: column;align-items: center;background-color: white;padding-right: 0.2em;padding-left: 0.2em;position: relative;}#sk-container-id-5 div.sk-item {position: relative;z-index: 1;}#sk-container-id-5 div.sk-parallel {display: flex;align-items: stretch;justify-content: center;background-color: white;position: relative;}#sk-container-id-5 div.sk-item::before, #sk-container-id-5 div.sk-parallel-item::before {content: \"\";position: absolute;border-left: 1px solid gray;box-sizing: border-box;top: 0;bottom: 0;left: 50%;z-index: -1;}#sk-container-id-5 div.sk-parallel-item {display: flex;flex-direction: column;z-index: 1;position: relative;background-color: white;}#sk-container-id-5 div.sk-parallel-item:first-child::after {align-self: flex-end;width: 50%;}#sk-container-id-5 div.sk-parallel-item:last-child::after {align-self: flex-start;width: 50%;}#sk-container-id-5 div.sk-parallel-item:only-child::after {width: 0;}#sk-container-id-5 div.sk-dashed-wrapped {border: 1px dashed gray;margin: 0 0.4em 0.5em 0.4em;box-sizing: border-box;padding-bottom: 0.4em;background-color: white;}#sk-container-id-5 div.sk-label label {font-family: monospace;font-weight: bold;display: inline-block;line-height: 1.2em;}#sk-container-id-5 div.sk-label-container {text-align: center;}#sk-container-id-5 div.sk-container {/* jupyter's `normalize.less` sets `[hidden] { display: none; }` but bootstrap.min.css set `[hidden] { display: none !important; }` so we also need the `!important` here to be able to override the default hidden behavior on the sphinx rendered scikit-learn.org. See: https://github.com/scikit-learn/scikit-learn/issues/21755 */display: inline-block !important;position: relative;}#sk-container-id-5 div.sk-text-repr-fallback {display: none;}</style><div id=\"sk-container-id-5\" class=\"sk-top-container\"><div class=\"sk-text-repr-fallback\"><pre>GridSearchCV(cv=5,\n",
              "             estimator=Pipeline(steps=[(&#x27;scaler&#x27;, StandardScaler()),\n",
              "                                       (&#x27;pca&#x27;, PCA()),\n",
              "                                       (&#x27;rfc&#x27;, RandomForestClassifier())]),\n",
              "             n_jobs=-1,\n",
              "             param_grid={&#x27;pca__n_components&#x27;: [50, 70, 100],\n",
              "                         &#x27;rfc__class_weight&#x27;: [None, &#x27;balanced&#x27;],\n",
              "                         &#x27;rfc__n_estimators&#x27;: [100, 150, 200]},\n",
              "             verbose=3)</pre><b>In a Jupyter environment, please rerun this cell to show the HTML representation or trust the notebook. <br />On GitHub, the HTML representation is unable to render, please try loading this page with nbviewer.org.</b></div><div class=\"sk-container\" hidden><div class=\"sk-item sk-dashed-wrapped\"><div class=\"sk-label-container\"><div class=\"sk-label sk-toggleable\"><input class=\"sk-toggleable__control sk-hidden--visually\" id=\"sk-estimator-id-13\" type=\"checkbox\" ><label for=\"sk-estimator-id-13\" class=\"sk-toggleable__label sk-toggleable__label-arrow\">GridSearchCV</label><div class=\"sk-toggleable__content\"><pre>GridSearchCV(cv=5,\n",
              "             estimator=Pipeline(steps=[(&#x27;scaler&#x27;, StandardScaler()),\n",
              "                                       (&#x27;pca&#x27;, PCA()),\n",
              "                                       (&#x27;rfc&#x27;, RandomForestClassifier())]),\n",
              "             n_jobs=-1,\n",
              "             param_grid={&#x27;pca__n_components&#x27;: [50, 70, 100],\n",
              "                         &#x27;rfc__class_weight&#x27;: [None, &#x27;balanced&#x27;],\n",
              "                         &#x27;rfc__n_estimators&#x27;: [100, 150, 200]},\n",
              "             verbose=3)</pre></div></div></div><div class=\"sk-parallel\"><div class=\"sk-parallel-item\"><div class=\"sk-item\"><div class=\"sk-label-container\"><div class=\"sk-label sk-toggleable\"><input class=\"sk-toggleable__control sk-hidden--visually\" id=\"sk-estimator-id-14\" type=\"checkbox\" ><label for=\"sk-estimator-id-14\" class=\"sk-toggleable__label sk-toggleable__label-arrow\">estimator: Pipeline</label><div class=\"sk-toggleable__content\"><pre>Pipeline(steps=[(&#x27;scaler&#x27;, StandardScaler()), (&#x27;pca&#x27;, PCA()),\n",
              "                (&#x27;rfc&#x27;, RandomForestClassifier())])</pre></div></div></div><div class=\"sk-serial\"><div class=\"sk-item\"><div class=\"sk-serial\"><div class=\"sk-item\"><div class=\"sk-estimator sk-toggleable\"><input class=\"sk-toggleable__control sk-hidden--visually\" id=\"sk-estimator-id-15\" type=\"checkbox\" ><label for=\"sk-estimator-id-15\" class=\"sk-toggleable__label sk-toggleable__label-arrow\">StandardScaler</label><div class=\"sk-toggleable__content\"><pre>StandardScaler()</pre></div></div></div><div class=\"sk-item\"><div class=\"sk-estimator sk-toggleable\"><input class=\"sk-toggleable__control sk-hidden--visually\" id=\"sk-estimator-id-16\" type=\"checkbox\" ><label for=\"sk-estimator-id-16\" class=\"sk-toggleable__label sk-toggleable__label-arrow\">PCA</label><div class=\"sk-toggleable__content\"><pre>PCA()</pre></div></div></div><div class=\"sk-item\"><div class=\"sk-estimator sk-toggleable\"><input class=\"sk-toggleable__control sk-hidden--visually\" id=\"sk-estimator-id-17\" type=\"checkbox\" ><label for=\"sk-estimator-id-17\" class=\"sk-toggleable__label sk-toggleable__label-arrow\">RandomForestClassifier</label><div class=\"sk-toggleable__content\"><pre>RandomForestClassifier()</pre></div></div></div></div></div></div></div></div></div></div></div></div>"
            ]
          },
          "metadata": {},
          "execution_count": 38
        }
      ]
    },
    {
      "cell_type": "code",
      "source": [
        "print(\"Best parameter (CV score=%0.3f):\" % grid.best_score_)\n",
        "print(grid.best_params_)"
      ],
      "metadata": {
        "id": "wZPjmrlT5UZm",
        "outputId": "591b5e3a-6d5d-45d1-c9de-9fabab6de214",
        "colab": {
          "base_uri": "https://localhost:8080/"
        }
      },
      "execution_count": null,
      "outputs": [
        {
          "output_type": "stream",
          "name": "stdout",
          "text": [
            "Best parameter (CV score=0.949):\n",
            "{'pca__n_components': 100, 'rfc__class_weight': None, 'rfc__n_estimators': 200}\n"
          ]
        }
      ]
    },
    {
      "cell_type": "code",
      "source": [
        "grid.score(X_test, y_test)"
      ],
      "metadata": {
        "id": "DN7okhVe61Vx",
        "outputId": "f3c2eb01-8e71-4f52-fdcb-492053c1bfea",
        "colab": {
          "base_uri": "https://localhost:8080/"
        }
      },
      "execution_count": null,
      "outputs": [
        {
          "output_type": "execute_result",
          "data": {
            "text/plain": [
              "0.9506462984723855"
            ]
          },
          "metadata": {},
          "execution_count": 40
        }
      ]
    },
    {
      "cell_type": "code",
      "source": [
        "\n",
        "estimator = grid.best_estimator_"
      ],
      "metadata": {
        "id": "FokqyMYu7R9p"
      },
      "execution_count": null,
      "outputs": []
    },
    {
      "cell_type": "code",
      "source": [
        "y_pred = estimator.predict(X_test)\n",
        "from sklearn.metrics import f1_score, confusion_matrix\n",
        "print(f1_score(y_test, y_pred, average='weighted'))\n",
        "print(classification_report(y_test,y_pred))"
      ],
      "metadata": {
        "id": "Fq-uD4qn8mbs",
        "outputId": "df904c27-ddee-4802-80f0-5f2a782b2a6a",
        "colab": {
          "base_uri": "https://localhost:8080/"
        }
      },
      "execution_count": null,
      "outputs": [
        {
          "output_type": "stream",
          "name": "stdout",
          "text": [
            "0.9507690710886455\n",
            "                                precision    recall  f1-score   support\n",
            "\n",
            "           Bergmann glial cell       1.00      0.69      0.82        13\n",
            "                     astrocyte       0.91      0.95      0.93       111\n",
            "                brain pericyte       1.00      0.91      0.95        43\n",
            "              endothelial cell       0.99      0.98      0.99       180\n",
            "                        neuron       0.84      0.90      0.87        59\n",
            "               oligodendrocyte       0.96      0.95      0.96       398\n",
            "oligodendrocyte precursor cell       0.87      0.98      0.92        47\n",
            "\n",
            "                      accuracy                           0.95       851\n",
            "                     macro avg       0.94      0.91      0.92       851\n",
            "                  weighted avg       0.95      0.95      0.95       851\n",
            "\n"
          ]
        }
      ]
    },
    {
      "cell_type": "code",
      "source": [
        "disp = ConfusionMatrixDisplay.from_predictions(y_test, y_pred, xticks_rotation='vertical')"
      ],
      "metadata": {
        "id": "EIFFK6J2SP4L",
        "outputId": "82d2aac1-9000-4513-aa2f-34d1edd6c572",
        "colab": {
          "base_uri": "https://localhost:8080/",
          "height": 647
        }
      },
      "execution_count": null,
      "outputs": [
        {
          "output_type": "display_data",
          "data": {
            "text/plain": [
              "<Figure size 640x480 with 2 Axes>"
            ],
            "image/png": "[encoded data removed]"
          },
          "metadata": {}
        }
      ]
    },
    {
      "cell_type": "code",
      "source": [
        "disp = ConfusionMatrixDisplay.from_predictions(y_test, y_pred, xticks_rotation='vertical', normalize='true')"
      ],
      "metadata": {
        "id": "A2SbwBhf8ya_",
        "outputId": "ed87bad4-2ef1-49c8-bb4e-856775fe9fe6",
        "colab": {
          "base_uri": "https://localhost:8080/",
          "height": 647
        }
      },
      "execution_count": null,
      "outputs": [
        {
          "output_type": "display_data",
          "data": {
            "text/plain": [
              "<Figure size 640x480 with 2 Axes>"
            ],
            "image/png": "[encoded data removed]"
          },
          "metadata": {}
        }
      ]
    },
    {
      "cell_type": "markdown",
      "source": [
        "# DATASET WITHOUT THE CELL TYPE ='BERGMANN GLIAL CELL'"
      ],
      "metadata": {
        "id": "o73Nnwqd0-3M"
      }
    },
    {
      "cell_type": "markdown",
      "source": [
        "Abbiamo ritenuto opportuno eliminare dal dataset tutti gli elementi classificati come 'Bergman Glial Cell' data l'esigua quantità di elementi e di conseguenza una qualità della predizione pessima rispetto alle altre classi. Riutilizzando SVM sulle restanti classi, notiamo un lieve miglioramento dell'accuracy score."
      ],
      "metadata": {
        "id": "qRHbleCNN0MS"
      }
    },
    {
      "cell_type": "code",
      "source": [
        "data = data[data.cell_ontology_class != 'Bergmann glial cell']\n",
        "data.shape"
      ],
      "metadata": {
        "id": "d4TY13XFuQZ7",
        "outputId": "502e0694-eb0c-4b85-b0dd-a5f6c7f2dbc1",
        "colab": {
          "base_uri": "https://localhost:8080/"
        }
      },
      "execution_count": null,
      "outputs": [
        {
          "output_type": "execute_result",
          "data": {
            "text/plain": [
              "(3361, 23434)"
            ]
          },
          "metadata": {},
          "execution_count": 45
        }
      ]
    },
    {
      "cell_type": "code",
      "source": [
        "X = data.drop('cell_ontology_class', axis=1)\n",
        "y = data['cell_ontology_class']"
      ],
      "metadata": {
        "id": "FArd-R1D0kor"
      },
      "execution_count": null,
      "outputs": []
    },
    {
      "cell_type": "code",
      "source": [
        "X_train, X_test, y_train, y_test = train_test_split(X, y)"
      ],
      "metadata": {
        "id": "S-y8EVQg1D3x"
      },
      "execution_count": null,
      "outputs": []
    },
    {
      "cell_type": "markdown",
      "source": [
        "\n",
        "## PIPELINE SVM"
      ],
      "metadata": {
        "id": "4sy4lb_WXvA4"
      }
    },
    {
      "cell_type": "code",
      "source": [
        "pca = PCA(n_components=50)\n",
        "scaler = StandardScaler()\n",
        "svm = SVC()\n",
        "pipe = Pipeline([('scaler', scaler), ('pca', pca), ('svm', svm)])\n",
        "\n",
        "param_grid = {\n",
        "\t\"svm__C\": [0.01, 0.05, 0.1],\n",
        "\t\"svm__kernel\": [\"linear\", \"rbf\", \"poly\"],\n",
        "\t# \"svm__degree\": range(2, 6), # degree for polynomial kernel\n",
        "\t\"svm__class_weight\": [None, \"balanced\"]\n",
        "}"
      ],
      "metadata": {
        "id": "EFxFL_uQ1FnO"
      },
      "execution_count": null,
      "outputs": []
    },
    {
      "cell_type": "code",
      "source": [
        "from sklearn.model_selection import GridSearchCV\n",
        "grid = GridSearchCV(pipe, param_grid, cv=5, n_jobs=-1, verbose=3)\n",
        "grid.fit(X_train, y_train)"
      ],
      "metadata": {
        "id": "K3JaqK741J8_",
        "outputId": "b603b96b-9343-4d5b-b4e9-ef9fc67792e3",
        "colab": {
          "base_uri": "https://localhost:8080/",
          "height": 201
        }
      },
      "execution_count": null,
      "outputs": [
        {
          "output_type": "stream",
          "name": "stdout",
          "text": [
            "Fitting 5 folds for each of 18 candidates, totalling 90 fits\n"
          ]
        },
        {
          "output_type": "execute_result",
          "data": {
            "text/plain": [
              "GridSearchCV(cv=5,\n",
              "             estimator=Pipeline(steps=[('scaler', StandardScaler()),\n",
              "                                       ('pca', PCA(n_components=50)),\n",
              "                                       ('svm', SVC())]),\n",
              "             n_jobs=-1,\n",
              "             param_grid={'svm__C': [0.01, 0.05, 0.1],\n",
              "                         'svm__class_weight': [None, 'balanced'],\n",
              "                         'svm__kernel': ['linear', 'rbf', 'poly']},\n",
              "             verbose=3)"
            ],
            "text/html": [
              "<style>#sk-container-id-6 {color: black;background-color: white;}#sk-container-id-6 pre{padding: 0;}#sk-container-id-6 div.sk-toggleable {background-color: white;}#sk-container-id-6 label.sk-toggleable__label {cursor: pointer;display: block;width: 100%;margin-bottom: 0;padding: 0.3em;box-sizing: border-box;text-align: center;}#sk-container-id-6 label.sk-toggleable__label-arrow:before {content: \"▸\";float: left;margin-right: 0.25em;color: #696969;}#sk-container-id-6 label.sk-toggleable__label-arrow:hover:before {color: black;}#sk-container-id-6 div.sk-estimator:hover label.sk-toggleable__label-arrow:before {color: black;}#sk-container-id-6 div.sk-toggleable__content {max-height: 0;max-width: 0;overflow: hidden;text-align: left;background-color: #f0f8ff;}#sk-container-id-6 div.sk-toggleable__content pre {margin: 0.2em;color: black;border-radius: 0.25em;background-color: #f0f8ff;}#sk-container-id-6 input.sk-toggleable__control:checked~div.sk-toggleable__content {max-height: 200px;max-width: 100%;overflow: auto;}#sk-container-id-6 input.sk-toggleable__control:checked~label.sk-toggleable__label-arrow:before {content: \"▾\";}#sk-container-id-6 div.sk-estimator input.sk-toggleable__control:checked~label.sk-toggleable__label {background-color: #d4ebff;}#sk-container-id-6 div.sk-label input.sk-toggleable__control:checked~label.sk-toggleable__label {background-color: #d4ebff;}#sk-container-id-6 input.sk-hidden--visually {border: 0;clip: rect(1px 1px 1px 1px);clip: rect(1px, 1px, 1px, 1px);height: 1px;margin: -1px;overflow: hidden;padding: 0;position: absolute;width: 1px;}#sk-container-id-6 div.sk-estimator {font-family: monospace;background-color: #f0f8ff;border: 1px dotted black;border-radius: 0.25em;box-sizing: border-box;margin-bottom: 0.5em;}#sk-container-id-6 div.sk-estimator:hover {background-color: #d4ebff;}#sk-container-id-6 div.sk-parallel-item::after {content: \"\";width: 100%;border-bottom: 1px solid gray;flex-grow: 1;}#sk-container-id-6 div.sk-label:hover label.sk-toggleable__label {background-color: #d4ebff;}#sk-container-id-6 div.sk-serial::before {content: \"\";position: absolute;border-left: 1px solid gray;box-sizing: border-box;top: 0;bottom: 0;left: 50%;z-index: 0;}#sk-container-id-6 div.sk-serial {display: flex;flex-direction: column;align-items: center;background-color: white;padding-right: 0.2em;padding-left: 0.2em;position: relative;}#sk-container-id-6 div.sk-item {position: relative;z-index: 1;}#sk-container-id-6 div.sk-parallel {display: flex;align-items: stretch;justify-content: center;background-color: white;position: relative;}#sk-container-id-6 div.sk-item::before, #sk-container-id-6 div.sk-parallel-item::before {content: \"\";position: absolute;border-left: 1px solid gray;box-sizing: border-box;top: 0;bottom: 0;left: 50%;z-index: -1;}#sk-container-id-6 div.sk-parallel-item {display: flex;flex-direction: column;z-index: 1;position: relative;background-color: white;}#sk-container-id-6 div.sk-parallel-item:first-child::after {align-self: flex-end;width: 50%;}#sk-container-id-6 div.sk-parallel-item:last-child::after {align-self: flex-start;width: 50%;}#sk-container-id-6 div.sk-parallel-item:only-child::after {width: 0;}#sk-container-id-6 div.sk-dashed-wrapped {border: 1px dashed gray;margin: 0 0.4em 0.5em 0.4em;box-sizing: border-box;padding-bottom: 0.4em;background-color: white;}#sk-container-id-6 div.sk-label label {font-family: monospace;font-weight: bold;display: inline-block;line-height: 1.2em;}#sk-container-id-6 div.sk-label-container {text-align: center;}#sk-container-id-6 div.sk-container {/* jupyter's `normalize.less` sets `[hidden] { display: none; }` but bootstrap.min.css set `[hidden] { display: none !important; }` so we also need the `!important` here to be able to override the default hidden behavior on the sphinx rendered scikit-learn.org. See: https://github.com/scikit-learn/scikit-learn/issues/21755 */display: inline-block !important;position: relative;}#sk-container-id-6 div.sk-text-repr-fallback {display: none;}</style><div id=\"sk-container-id-6\" class=\"sk-top-container\"><div class=\"sk-text-repr-fallback\"><pre>GridSearchCV(cv=5,\n",
              "             estimator=Pipeline(steps=[(&#x27;scaler&#x27;, StandardScaler()),\n",
              "                                       (&#x27;pca&#x27;, PCA(n_components=50)),\n",
              "                                       (&#x27;svm&#x27;, SVC())]),\n",
              "             n_jobs=-1,\n",
              "             param_grid={&#x27;svm__C&#x27;: [0.01, 0.05, 0.1],\n",
              "                         &#x27;svm__class_weight&#x27;: [None, &#x27;balanced&#x27;],\n",
              "                         &#x27;svm__kernel&#x27;: [&#x27;linear&#x27;, &#x27;rbf&#x27;, &#x27;poly&#x27;]},\n",
              "             verbose=3)</pre><b>In a Jupyter environment, please rerun this cell to show the HTML representation or trust the notebook. <br />On GitHub, the HTML representation is unable to render, please try loading this page with nbviewer.org.</b></div><div class=\"sk-container\" hidden><div class=\"sk-item sk-dashed-wrapped\"><div class=\"sk-label-container\"><div class=\"sk-label sk-toggleable\"><input class=\"sk-toggleable__control sk-hidden--visually\" id=\"sk-estimator-id-18\" type=\"checkbox\" ><label for=\"sk-estimator-id-18\" class=\"sk-toggleable__label sk-toggleable__label-arrow\">GridSearchCV</label><div class=\"sk-toggleable__content\"><pre>GridSearchCV(cv=5,\n",
              "             estimator=Pipeline(steps=[(&#x27;scaler&#x27;, StandardScaler()),\n",
              "                                       (&#x27;pca&#x27;, PCA(n_components=50)),\n",
              "                                       (&#x27;svm&#x27;, SVC())]),\n",
              "             n_jobs=-1,\n",
              "             param_grid={&#x27;svm__C&#x27;: [0.01, 0.05, 0.1],\n",
              "                         &#x27;svm__class_weight&#x27;: [None, &#x27;balanced&#x27;],\n",
              "                         &#x27;svm__kernel&#x27;: [&#x27;linear&#x27;, &#x27;rbf&#x27;, &#x27;poly&#x27;]},\n",
              "             verbose=3)</pre></div></div></div><div class=\"sk-parallel\"><div class=\"sk-parallel-item\"><div class=\"sk-item\"><div class=\"sk-label-container\"><div class=\"sk-label sk-toggleable\"><input class=\"sk-toggleable__control sk-hidden--visually\" id=\"sk-estimator-id-19\" type=\"checkbox\" ><label for=\"sk-estimator-id-19\" class=\"sk-toggleable__label sk-toggleable__label-arrow\">estimator: Pipeline</label><div class=\"sk-toggleable__content\"><pre>Pipeline(steps=[(&#x27;scaler&#x27;, StandardScaler()), (&#x27;pca&#x27;, PCA(n_components=50)),\n",
              "                (&#x27;svm&#x27;, SVC())])</pre></div></div></div><div class=\"sk-serial\"><div class=\"sk-item\"><div class=\"sk-serial\"><div class=\"sk-item\"><div class=\"sk-estimator sk-toggleable\"><input class=\"sk-toggleable__control sk-hidden--visually\" id=\"sk-estimator-id-20\" type=\"checkbox\" ><label for=\"sk-estimator-id-20\" class=\"sk-toggleable__label sk-toggleable__label-arrow\">StandardScaler</label><div class=\"sk-toggleable__content\"><pre>StandardScaler()</pre></div></div></div><div class=\"sk-item\"><div class=\"sk-estimator sk-toggleable\"><input class=\"sk-toggleable__control sk-hidden--visually\" id=\"sk-estimator-id-21\" type=\"checkbox\" ><label for=\"sk-estimator-id-21\" class=\"sk-toggleable__label sk-toggleable__label-arrow\">PCA</label><div class=\"sk-toggleable__content\"><pre>PCA(n_components=50)</pre></div></div></div><div class=\"sk-item\"><div class=\"sk-estimator sk-toggleable\"><input class=\"sk-toggleable__control sk-hidden--visually\" id=\"sk-estimator-id-22\" type=\"checkbox\" ><label for=\"sk-estimator-id-22\" class=\"sk-toggleable__label sk-toggleable__label-arrow\">SVC</label><div class=\"sk-toggleable__content\"><pre>SVC()</pre></div></div></div></div></div></div></div></div></div></div></div></div>"
            ]
          },
          "metadata": {},
          "execution_count": 49
        }
      ]
    },
    {
      "cell_type": "code",
      "source": [
        "print(\"Best parameter (CV score=%0.3f):\" % grid.best_score_)\n",
        "print(grid.best_params_)"
      ],
      "metadata": {
        "id": "8YeTfQ6T1Lzz",
        "outputId": "e36fe584-87d7-455f-d971-5aecb127e259",
        "colab": {
          "base_uri": "https://localhost:8080/"
        }
      },
      "execution_count": null,
      "outputs": [
        {
          "output_type": "stream",
          "name": "stdout",
          "text": [
            "Best parameter (CV score=0.954):\n",
            "{'svm__C': 0.05, 'svm__class_weight': None, 'svm__kernel': 'linear'}\n"
          ]
        }
      ]
    },
    {
      "cell_type": "code",
      "source": [
        "grid.score(X_test, y_test)"
      ],
      "metadata": {
        "id": "DUA_6MJ_1NWU",
        "outputId": "2733465b-0bf2-4dda-e614-438f673dc8a3",
        "colab": {
          "base_uri": "https://localhost:8080/"
        }
      },
      "execution_count": null,
      "outputs": [
        {
          "output_type": "execute_result",
          "data": {
            "text/plain": [
              "0.9643281807372176"
            ]
          },
          "metadata": {},
          "execution_count": 51
        }
      ]
    },
    {
      "cell_type": "code",
      "source": [
        "estimator = grid.best_estimator_"
      ],
      "metadata": {
        "id": "svUHy9qn1Ow6"
      },
      "execution_count": null,
      "outputs": []
    },
    {
      "cell_type": "code",
      "source": [
        "y_pred = estimator.predict(X_test)\n",
        "from sklearn.metrics import f1_score, ConfusionMatrixDisplay, classification_report\n",
        "print(f1_score(y_test, y_pred, average='weighted'))\n",
        "print(classification_report(y_test,y_pred))\n",
        "disp = ConfusionMatrixDisplay.from_predictions(y_test, y_pred, xticks_rotation='vertical')"
      ],
      "metadata": {
        "id": "Ou2IXVxQ1QFo",
        "outputId": "a023697b-0fb4-41cf-dd7c-a3954a2c6f69",
        "colab": {
          "base_uri": "https://localhost:8080/",
          "height": 894
        }
      },
      "execution_count": null,
      "outputs": [
        {
          "output_type": "stream",
          "name": "stdout",
          "text": [
            "0.9645595251204321\n",
            "                                precision    recall  f1-score   support\n",
            "\n",
            "                     astrocyte       0.95      0.96      0.95       117\n",
            "                brain pericyte       0.91      1.00      0.95        41\n",
            "              endothelial cell       0.98      0.98      0.98       172\n",
            "                        neuron       0.88      0.93      0.90        61\n",
            "               oligodendrocyte       0.99      0.96      0.97       399\n",
            "oligodendrocyte precursor cell       0.94      0.96      0.95        51\n",
            "\n",
            "                      accuracy                           0.96       841\n",
            "                     macro avg       0.94      0.97      0.95       841\n",
            "                  weighted avg       0.97      0.96      0.96       841\n",
            "\n"
          ]
        },
        {
          "output_type": "display_data",
          "data": {
            "text/plain": [
              "<Figure size 640x480 with 2 Axes>"
            ],
            "image/png": "[encoded data removed]"
          },
          "metadata": {}
        }
      ]
    },
    {
      "cell_type": "code",
      "source": [
        "disp = ConfusionMatrixDisplay.from_predictions(y_test, y_pred, xticks_rotation='vertical', normalize='true')"
      ],
      "metadata": {
        "id": "gzB0bZhdDxAU"
      },
      "execution_count": null,
      "outputs": []
    },
    {
      "cell_type": "markdown",
      "source": [
        "## Conclusioni"
      ],
      "metadata": {
        "id": "kmfWWh5YfmBh"
      }
    },
    {
      "cell_type": "markdown",
      "source": [
        "Il progetto dimostra che è possibile una classificazione dei tipi cellulari tramite gli algoritmi di machine learning qui utilizzati. Dai risultati si evince una migliore performance dei modelli nel momento in cui attuiamo una feature extraction tramite PCA e eseguiamo una ricerca su griglia dei migliori parametri del modello. Il risultante workflow potrebbe non essere limitato esclusivamente a questo dataset ma ha il potenziale di produrre modelli di classificazione per qualsiasi tipo di cellula in qualsiasi tessuto e specie. Per concludere, la crescente applicazione di tecnologie di sequenziamento high throughput single-cell e l'analisi tramite modelli avanzati di machine learning possono rivoluzionare la nostra comprensione di come l'eterogeneità cellulare contribuisce alle funzioni tessuto-specifiche."
      ],
      "metadata": {
        "id": "uk1mG_deTfIA"
      }
    }
  ],
  "metadata": {
    "kernelspec": {
      "display_name": "Python 3",
      "name": "python3"
    },
    "language_info": {
      "codemirror_mode": {
        "name": "ipython",
        "version": 2
      },
      "file_extension": ".py",
      "mimetype": "text/x-python",
      "name": "python",
      "nbconvert_exporter": "python",
      "pygments_lexer": "ipython2",
      "version": "2.7.6"
    },
    "colab": {
      "provenance": [],
      "gpuType": "T4",
      "include_colab_link": true
    }
  },
  "nbformat": 4,
  "nbformat_minor": 0
}